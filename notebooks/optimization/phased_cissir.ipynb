{
 "cells": [
  {
   "cell_type": "markdown",
   "id": "31c2874f-3ad9-4994-a21b-aaab3a78b7ab",
   "metadata": {},
   "source": [
    "# SDR Codebook optimization"
   ]
  },
  {
   "cell_type": "markdown",
   "id": "2dfa7e58-6b11-4ef5-ba6f-5f99d8a621ee",
   "metadata": {},
   "source": [
    "## Setup"
   ]
  },
  {
   "cell_type": "code",
   "execution_count": 1,
   "id": "f86a7c9a-2faf-465f-a70b-54bd0cc60f84",
   "metadata": {
    "ExecuteTime": {
     "end_time": "2024-09-19T13:26:29.096884Z",
     "start_time": "2024-09-19T13:26:29.094017Z"
    }
   },
   "outputs": [],
   "source": [
    "import time\n",
    "\n",
    "import numpy as np\n",
    "import pandas as pd\n",
    "import matplotlib.pyplot as plt\n",
    "from tqdm.notebook import tqdm\n",
    "import json\n",
    "\n",
    "from sionna.rt import Antenna\n",
    "\n",
    "from cissir.physics import pow2db, db2power, mag2db\n",
    "\n",
    "from cissir import params, optimization as opt\n",
    "from cissir.beamforming import dft_codebook, plot_beamforming_polar\n",
    "from cissir.raytracing import si_paths2cir, load_si_paths, normalize_si_taps\n",
    "from cissir.utils import PrintBuffer, plot_path, res_path\n",
    "from cissir import visualization as viz\n",
    "viz.paper_style(line_cycler=False, figsize=(1.5 * viz.def_figsize[0], 1.5 * viz.def_figsize[1]))\n"
   ]
  },
  {
   "cell_type": "code",
   "execution_count": 2,
   "id": "87db658e-7c9d-4934-ad21-416c2bb10b79",
   "metadata": {
    "ExecuteTime": {
     "end_time": "2024-09-19T13:26:29.507914Z",
     "start_time": "2024-09-19T13:26:29.505474Z"
    }
   },
   "outputs": [],
   "source": [
    "# Global parameters\n",
    "\n",
    "c = params.c\n",
    "fc = params.fc_hz\n",
    "wavelength_m = params.wavelength_m\n",
    "\n",
    "ula_el_spacing = params.array_electrical_spacing\n",
    "\n",
    "N_r = params.n_rx\n",
    "N_t = params.n_tx\n",
    "\n",
    "# Number of beams\n",
    "L_r = params.num_beams\n",
    "L_t = params.num_beams"
   ]
  },
  {
   "cell_type": "markdown",
   "id": "6b0b9aba-f00e-403c-97c8-d5e7b36668af",
   "metadata": {},
   "source": [
    "### DFT beam codebook\n"
   ]
  },
  {
   "cell_type": "code",
   "execution_count": 3,
   "id": "ede5e0e7-3ecb-40b5-b5f5-ecb6312d4714",
   "metadata": {
    "ExecuteTime": {
     "end_time": "2024-09-19T13:26:30.444823Z",
     "start_time": "2024-09-19T13:26:30.441319Z"
    }
   },
   "outputs": [],
   "source": [
    "dft_tx_codebook, tx_degs = dft_codebook(L_max = L_t , N1 = N_t, full_grid=True,\n",
    "                                          az_min = -60, az_max = 60, transmit=True)\n",
    "L_t = len(tx_degs)\n",
    "dft_rx_codebook, rx_degs = dft_codebook(L_max = L_r , N1 = N_r, full_grid=True,\n",
    "                                          az_min = -60, az_max = 60, transmit=False)\n",
    "L_r = len(rx_degs)"
   ]
  },
  {
   "cell_type": "code",
   "execution_count": 4,
   "id": "70cca338-271a-4859-9ddb-91f177ededf5",
   "metadata": {
    "ExecuteTime": {
     "end_time": "2024-09-19T13:26:35.291614Z",
     "start_time": "2024-09-19T13:26:35.284096Z"
    }
   },
   "outputs": [],
   "source": [
    "si_num_taps = 1   # Options: 1, 2, \"full\"\n",
    "\n",
    "def cb_si_db(tx_codebook, rx_codebook, si_channel):\n",
    "    return mag2db(opt.codebook_si(tx_codebook, rx_codebook, si_channel))\n",
    "\n",
    "ht_si_full, _ = load_si_paths(num_taps=\"full\")\n",
    "h_full = si_paths2cir(ht_si_full)\n",
    "\n",
    "if si_num_taps == \"full\":\n",
    "    h_si = h_full\n",
    "    si_db_ref = cb_si_db(dft_tx_codebook, dft_rx_codebook, h_si).max()\n",
    "else:\n",
    "    h_si, _ = load_si_paths(num_taps=si_num_taps)\n",
    "    h_si, si_mag = normalize_si_taps(h_si, ht_si_full,\n",
    "                                     dft_tx_codebook, dft_rx_codebook)\n",
    "    si_db_ref = mag2db(si_mag)\n",
    "    \n",
    "    assert h_si.shape == (si_num_taps, N_r, N_t), \"Unexpected SI shape\""
   ]
  },
  {
   "cell_type": "code",
   "execution_count": 5,
   "id": "5598bc10-9d1c-488a-bdc6-d17a6c1636c5",
   "metadata": {
    "ExecuteTime": {
     "end_time": "2024-09-19T13:26:35.311868Z",
     "start_time": "2024-09-19T13:26:35.292383Z"
    }
   },
   "outputs": [],
   "source": [
    "h_si_rx, h_si_tx = opt.si_split(h_si)\n",
    "\n",
    "min_eigval_db = mag2db(opt.min_eigval(h_si))\n",
    "max_eigval_db = mag2db(opt.max_eigval(h_si))\n",
    "\n",
    "min_split_db = pow2db(opt.min_eigval(h_si_rx)*opt.min_eigval(h_si_tx))\n",
    "max_split_db = pow2db(opt.max_eigval(h_si_rx)*opt.max_eigval(h_si_tx))"
   ]
  },
  {
   "cell_type": "code",
   "execution_count": 6,
   "id": "ac2e6169-ced2-4e22-8b99-b250b5c2a38c",
   "metadata": {
    "ExecuteTime": {
     "end_time": "2024-09-19T13:26:35.311868Z",
     "start_time": "2024-09-19T13:26:35.292383Z"
    }
   },
   "outputs": [
    {
     "name": "stdout",
     "output_type": "stream",
     "text": [
      "      eig_min H: -174.8 dB\n",
      "eig_min Grx\\Gtx: -179.1 dB\n",
      "            cHw: -60.6 dB\n",
      "      eig_max H: -41.7 dB\n",
      "eig_max Grx\\Gtx: -41.3 dB\n"
     ]
    }
   ],
   "source": [
    "print(f\"      eig_min H: {min_eigval_db:.1f} dB\")\n",
    "print(f\"eig_min Grx\\Gtx: {min_split_db:.1f} dB\")\n",
    "print(f\"            cHw: {si_db_ref:.1f} dB\")\n",
    "print(f\"      eig_max H: {max_eigval_db:.1f} dB\")\n",
    "print(f\"eig_max Grx\\Gtx: {max_split_db:.1f} dB\")"
   ]
  },
  {
   "cell_type": "markdown",
   "id": "45955310-1b3c-43af-8d40-36e816cecee3",
   "metadata": {},
   "source": [
    "## Optimization"
   ]
  },
  {
   "cell_type": "code",
   "execution_count": 7,
   "id": "4bce53ae-9fce-4485-ba4f-764b4e32d2b2",
   "metadata": {
    "ExecuteTime": {
     "end_time": "2024-09-19T13:26:36.466158Z",
     "start_time": "2024-09-19T13:26:36.463999Z"
    }
   },
   "outputs": [],
   "source": [
    "feasible_tolerance = 1e-2\n",
    "tgt_si_values = np.arange(si_db_ref, min_split_db, -1.0)\n",
    "pbuf = PrintBuffer(print_input=False)"
   ]
  },
  {
   "cell_type": "code",
   "execution_count": 8,
   "id": "6dc4ac97-8145-4659-a6ab-8b1d4b0e4a7f",
   "metadata": {
    "ExecuteTime": {
     "end_time": "2024-09-19T13:27:04.271918Z",
     "start_time": "2024-09-19T13:26:39.070291Z"
    }
   },
   "outputs": [
    {
     "data": {
      "application/vnd.jupyter.widget-view+json": {
       "model_id": "510499a95935451796b21f277355feba",
       "version_major": 2,
       "version_minor": 0
      },
      "text/plain": [
       "  0%|          | 0/119 [00:00<?, ?it/s]"
      ]
     },
     "metadata": {},
     "output_type": "display_data"
    },
    {
     "name": "stdout",
     "output_type": "stream",
     "text": [
      "Breaking loop due to runtime issues:\n",
      "The TX problem is infeasible, try increasing the target SI\n"
     ]
    }
   ],
   "source": [
    "rx_mesh, tx_mesh = np.meshgrid(rx_degs, tx_degs, indexing=\"ij\")\n",
    "beam_results = {\"opt\": \"sdr\",\n",
    "                \"taps\": si_num_taps,\n",
    "                \"tx\": {\"degrees\": tx_degs.tolist(),\n",
    "                       \"grid\": tx_mesh.flatten().tolist()},\n",
    "                \"rx\": {\"degrees\": rx_degs.tolist(),\n",
    "                       \"grid\": rx_mesh.flatten().tolist()},\n",
    "                \"tgt_si\": [],\n",
    "                \"ach_si\": [],\n",
    "                \"spec_nuc_tx\": [],\n",
    "                \"spec_nuc_rx\": [],\n",
    "                \"beam_dev_tx\": [],\n",
    "                \"beam_dev_rx\": []\n",
    "                }\n",
    "results = []\n",
    "codebooks = []\n",
    "\n",
    "phased_array = True\n",
    "sdrCodebooks = opt.SDRcodebook(h_si, dft_tx_codebook, dft_rx_codebook,\n",
    "                               si_threshold_power=1.0, beta=0.5, phased=phased_array)\n",
    "gram_beams_tx = sdrCodebooks.gram_codebook(dft_tx_codebook)\n",
    "gram_beams_rx = sdrCodebooks.gram_codebook(dft_rx_codebook)\n",
    "\n",
    "\n",
    "pbar = tqdm(tgt_si_values)\n",
    "pbar.set_description(f\"Baseline SI {si_db_ref:.1f} dB\")\n",
    "for tgt_si_db in pbar:\n",
    "    \n",
    "    tgt_si_pow = db2power(tgt_si_db)\n",
    "    sdrCodebooks.si_threshold_power = tgt_si_pow\n",
    "        \n",
    "    pbuf.print(f\"Tgt. SI. {tgt_si_db:.1f} dB\")\n",
    "\n",
    "    try:\n",
    "        start_time = time.perf_counter()\n",
    "        w_codebook, W_sol = sdrCodebooks.solve(tx=True, return_sdr=True)\n",
    "        c_codebook, C_sol = sdrCodebooks.solve(tx=False, return_sdr=True)\n",
    "        end_time = time.perf_counter()\n",
    "    except RuntimeError as re:\n",
    "        print(\"Breaking loop due to runtime issues:\")\n",
    "        print(re)\n",
    "        pbar.close()\n",
    "        break\n",
    "\n",
    "    si_db_sdr = mag2db(opt.sdr_si(W_sol, C_sol, h_si).max())\n",
    "    loss_w_sdr = pow2db(max(opt.sdr_codebook_deviation(W_sol, gram_beams_tx), 1e-10))\n",
    "    loss_c_sdr = pow2db(max(opt.sdr_codebook_deviation(C_sol, gram_beams_rx), 1e-10))\n",
    "    \n",
    "    max_c_err = opt.maxSdrError(C_sol, c_codebook)\n",
    "    max_w_err = opt.maxSdrError(W_sol, w_codebook)\n",
    "    max_amp_err = np.sqrt(max(max_c_err, max_w_err))\n",
    "\n",
    "    si_db_matrix = cb_si_db(w_codebook, c_codebook, h_si)\n",
    "    si_db_rank1 = np.max(si_db_matrix)\n",
    "    tx_dev_beam = np.maximum(opt.codebook_deviation_power(dft_tx_codebook, w_codebook, axis=0), 1e-10)\n",
    "    rx_dev_beam = np.maximum(opt.codebook_deviation_power(dft_rx_codebook, c_codebook, axis=0), 1e-10)\n",
    "    loss_w_rank1 = pow2db(np.mean(tx_dev_beam))\n",
    "    loss_c_rank1 = pow2db(np.mean(rx_dev_beam))\n",
    "\n",
    "    pbuf.print(\"Solutions SDR\\\\Rank-1:\")\n",
    "    pbuf.print(f\"\\t\\tMax. SI.:\\t{si_db_sdr:.1f}\\\\{si_db_rank1:.1f} dB\\t({si_db_ref-si_db_rank1:.1f} dB from baseline)\")\n",
    "    pbuf.print(f\"\\t\\tTx error:\\t{loss_w_sdr:.1f}\\\\{loss_w_rank1:.1f} dB\")\n",
    "    pbuf.print(f\"\\t\\tRx error:\\t{loss_c_sdr:.1f}\\\\{loss_c_rank1:.1f} dB\")\n",
    "    pbuf.print(f\"\\tMax sol. error {max_amp_err:.2E}\")\n",
    "    \n",
    "    postfix = (f\"SI Tgt::Actual {tgt_si_db:.1f}::{si_db_rank1:.1f} dB; \"\n",
    "               f\"Error Tx::Rx {loss_w_rank1:.1f}::{loss_c_rank1:.1f} dB; \"\n",
    "               f\"Max sol. error {max_amp_err:.2E}\")\n",
    "    pbar.set_postfix_str(postfix)\n",
    "\n",
    "    if si_num_taps == \"full\":\n",
    "        si_db_full = si_db_rank1\n",
    "    else:\n",
    "        si_db_full = mag2db(np.max(opt.codebook_si(w_codebook, c_codebook, h_full)))\n",
    "\n",
    "    if max_amp_err < feasible_tolerance:\n",
    "        codebooks.append({\"si_tgt\": tgt_si_db, \"si_opt\": si_db_rank1, \"rx_codebook_p\": c_codebook, \"tx_codebook_p\": w_codebook})\n",
    "        tx_beam_db = pow2db(tx_dev_beam)\n",
    "        rx_beam_db = pow2db(rx_dev_beam)\n",
    "        eps_time = end_time - start_time\n",
    "    else:\n",
    "        si_db_rank1 = None\n",
    "        si_db_full = None\n",
    "        loss_w_rank1= None\n",
    "        loss_c_rank1= None\n",
    "        eps_time = None\n",
    "        si_db_matrix[:] = np.nan\n",
    "        tx_beam_db = np.full_like(tx_dev_beam, np.nan)\n",
    "        rx_beam_db = np.full_like(rx_dev_beam, np.nan)\n",
    "\n",
    "    beam_results[\"tgt_si\"].append(tgt_si_db)\n",
    "    beam_results[\"ach_si\"].append(si_db_matrix.flatten().tolist())\n",
    "    beam_results[\"spec_nuc_tx\"].append(opt.spec_nuc_ratio(W_sol).tolist())\n",
    "    beam_results[\"spec_nuc_rx\"].append(opt.spec_nuc_ratio(C_sol).tolist())\n",
    "    beam_results[\"beam_dev_tx\"].append(tx_beam_db.tolist())\n",
    "    beam_results[\"beam_dev_rx\"].append(rx_beam_db.tolist())\n",
    "\n",
    "    results.append({\"si_tgt\": tgt_si_db, \"opt\": \"cissir\", \"rx_sdr_err\": max_c_err, \"tx_sdr_err\": max_w_err,\n",
    "                    \"si_opt\": si_db_rank1, \"tx_loss\": loss_w_rank1, \"rx_loss\": loss_c_rank1, \"elapsed_time\": eps_time,\n",
    "                    \"si_sdr\": si_db_sdr, \"tx_loss_sdr\": loss_w_sdr, \"rx_loss_sdr\": loss_c_sdr, \"si_full\": si_db_full,\n",
    "                    \"phased\": phased_array, \"si_taps\": si_num_taps, \"num_beams\": L_t})"
   ]
  },
  {
   "cell_type": "code",
   "execution_count": 9,
   "id": "c1ccd7b8-bc14-4295-9a7b-e381252621bc",
   "metadata": {
    "ExecuteTime": {
     "end_time": "2024-09-19T13:27:40.082924Z",
     "start_time": "2024-09-19T13:27:40.079982Z"
    },
    "scrolled": true
   },
   "outputs": [
    {
     "name": "stdout",
     "output_type": "stream",
     "text": [
      "(Mean\\Median) Optimization time:\t0.99\\0.98 s\n",
      "Tgt. SI. -60.6 dB\n",
      "Solutions SDR\\Rank-1:\n",
      "\t\tMax. SI.:\t-60.6\\-60.6 dB\t(0.0 dB from baseline)\n",
      "\t\tTx error:\t-83.4\\-93.3 dB\n",
      "\t\tRx error:\t-83.4\\-93.3 dB\n",
      "\tMax sol. error 2.96E-03\n",
      "Tgt. SI. -61.6 dB\n",
      "Solutions SDR\\Rank-1:\n",
      "\t\tMax. SI.:\t-61.6\\-61.6 dB\t(1.0 dB from baseline)\n",
      "\t\tTx error:\t-43.3\\-43.3 dB\n",
      "\t\tRx error:\t-43.3\\-43.3 dB\n",
      "\tMax sol. error 2.96E-03\n",
      "Tgt. SI. -62.6 dB\n",
      "Solutions SDR\\Rank-1:\n",
      "\t\tMax. SI.:\t-62.6\\-62.6 dB\t(2.0 dB from baseline)\n",
      "\t\tTx error:\t-37.5\\-37.5 dB\n",
      "\t\tRx error:\t-37.5\\-37.5 dB\n",
      "\tMax sol. error 2.96E-03\n",
      "Tgt. SI. -63.6 dB\n",
      "Solutions SDR\\Rank-1:\n",
      "\t\tMax. SI.:\t-63.6\\-63.6 dB\t(3.0 dB from baseline)\n",
      "\t\tTx error:\t-34.2\\-34.2 dB\n",
      "\t\tRx error:\t-34.2\\-34.2 dB\n",
      "\tMax sol. error 2.96E-03\n",
      "Tgt. SI. -64.6 dB\n",
      "Solutions SDR\\Rank-1:\n",
      "\t\tMax. SI.:\t-64.6\\-64.6 dB\t(4.0 dB from baseline)\n",
      "\t\tTx error:\t-31.9\\-31.9 dB\n",
      "\t\tRx error:\t-31.9\\-31.9 dB\n",
      "\tMax sol. error 2.96E-03\n",
      "Tgt. SI. -65.6 dB\n",
      "Solutions SDR\\Rank-1:\n",
      "\t\tMax. SI.:\t-65.6\\-65.6 dB\t(5.0 dB from baseline)\n",
      "\t\tTx error:\t-30.2\\-30.2 dB\n",
      "\t\tRx error:\t-30.2\\-30.2 dB\n",
      "\tMax sol. error 2.96E-03\n",
      "Tgt. SI. -66.6 dB\n",
      "Solutions SDR\\Rank-1:\n",
      "\t\tMax. SI.:\t-66.6\\-66.6 dB\t(6.0 dB from baseline)\n",
      "\t\tTx error:\t-28.8\\-28.9 dB\n",
      "\t\tRx error:\t-28.8\\-28.9 dB\n",
      "\tMax sol. error 2.96E-03\n",
      "Tgt. SI. -67.6 dB\n",
      "Solutions SDR\\Rank-1:\n",
      "\t\tMax. SI.:\t-67.6\\-67.6 dB\t(7.0 dB from baseline)\n",
      "\t\tTx error:\t-27.6\\-27.6 dB\n",
      "\t\tRx error:\t-27.6\\-27.6 dB\n",
      "\tMax sol. error 2.96E-03\n",
      "Tgt. SI. -68.6 dB\n",
      "Solutions SDR\\Rank-1:\n",
      "\t\tMax. SI.:\t-68.6\\-68.5 dB\t(8.0 dB from baseline)\n",
      "\t\tTx error:\t-26.6\\-26.6 dB\n",
      "\t\tRx error:\t-26.6\\-26.6 dB\n",
      "\tMax sol. error 2.96E-03\n",
      "Tgt. SI. -69.6 dB\n",
      "Solutions SDR\\Rank-1:\n",
      "\t\tMax. SI.:\t-69.6\\-69.5 dB\t(9.0 dB from baseline)\n",
      "\t\tTx error:\t-25.6\\-25.6 dB\n",
      "\t\tRx error:\t-25.6\\-25.6 dB\n",
      "\tMax sol. error 2.95E-03\n",
      "Tgt. SI. -70.6 dB\n",
      "Solutions SDR\\Rank-1:\n",
      "\t\tMax. SI.:\t-70.6\\-70.6 dB\t(10.0 dB from baseline)\n",
      "\t\tTx error:\t-24.6\\-24.6 dB\n",
      "\t\tRx error:\t-24.6\\-24.6 dB\n",
      "\tMax sol. error 2.95E-03\n",
      "Tgt. SI. -71.6 dB\n",
      "Solutions SDR\\Rank-1:\n",
      "\t\tMax. SI.:\t-71.6\\-71.6 dB\t(11.0 dB from baseline)\n",
      "\t\tTx error:\t-23.8\\-23.8 dB\n",
      "\t\tRx error:\t-23.8\\-23.8 dB\n",
      "\tMax sol. error 2.95E-03\n",
      "Tgt. SI. -72.6 dB\n",
      "Solutions SDR\\Rank-1:\n",
      "\t\tMax. SI.:\t-72.6\\-72.6 dB\t(12.0 dB from baseline)\n",
      "\t\tTx error:\t-23.0\\-23.0 dB\n",
      "\t\tRx error:\t-23.0\\-23.0 dB\n",
      "\tMax sol. error 2.95E-03\n",
      "Tgt. SI. -73.6 dB\n",
      "Solutions SDR\\Rank-1:\n",
      "\t\tMax. SI.:\t-73.6\\-73.6 dB\t(13.0 dB from baseline)\n",
      "\t\tTx error:\t-22.3\\-22.3 dB\n",
      "\t\tRx error:\t-22.3\\-22.3 dB\n",
      "\tMax sol. error 2.95E-03\n",
      "Tgt. SI. -74.6 dB\n",
      "Solutions SDR\\Rank-1:\n",
      "\t\tMax. SI.:\t-74.6\\-74.6 dB\t(14.0 dB from baseline)\n",
      "\t\tTx error:\t-21.7\\-21.7 dB\n",
      "\t\tRx error:\t-21.7\\-21.7 dB\n",
      "\tMax sol. error 2.95E-03\n",
      "Tgt. SI. -75.6 dB\n",
      "Solutions SDR\\Rank-1:\n",
      "\t\tMax. SI.:\t-75.6\\-75.6 dB\t(15.0 dB from baseline)\n",
      "\t\tTx error:\t-21.0\\-21.0 dB\n",
      "\t\tRx error:\t-21.0\\-21.0 dB\n",
      "\tMax sol. error 2.95E-03\n",
      "Tgt. SI. -76.6 dB\n",
      "Solutions SDR\\Rank-1:\n",
      "\t\tMax. SI.:\t-76.5\\-76.5 dB\t(16.0 dB from baseline)\n",
      "\t\tTx error:\t-20.5\\-20.5 dB\n",
      "\t\tRx error:\t-20.5\\-20.5 dB\n",
      "\tMax sol. error 2.96E-03\n",
      "Tgt. SI. -77.6 dB\n",
      "Solutions SDR\\Rank-1:\n",
      "\t\tMax. SI.:\t-77.6\\-77.6 dB\t(17.0 dB from baseline)\n",
      "\t\tTx error:\t-19.9\\-19.9 dB\n",
      "\t\tRx error:\t-19.9\\-19.9 dB\n",
      "\tMax sol. error 2.97E-03\n",
      "Tgt. SI. -78.6 dB\n",
      "Solutions SDR\\Rank-1:\n",
      "\t\tMax. SI.:\t-78.6\\-78.5 dB\t(18.0 dB from baseline)\n",
      "\t\tTx error:\t-19.4\\-19.4 dB\n",
      "\t\tRx error:\t-19.4\\-19.4 dB\n",
      "\tMax sol. error 3.05E-03\n",
      "Tgt. SI. -79.6 dB\n",
      "Solutions SDR\\Rank-1:\n",
      "\t\tMax. SI.:\t-79.5\\-79.5 dB\t(19.0 dB from baseline)\n",
      "\t\tTx error:\t-18.9\\-18.9 dB\n",
      "\t\tRx error:\t-18.9\\-18.9 dB\n",
      "\tMax sol. error 2.96E-03\n",
      "Tgt. SI. -80.6 dB\n",
      "Solutions SDR\\Rank-1:\n",
      "\t\tMax. SI.:\t-80.6\\-80.5 dB\t(20.0 dB from baseline)\n",
      "\t\tTx error:\t-18.3\\-18.3 dB\n",
      "\t\tRx error:\t-18.3\\-18.3 dB\n",
      "\tMax sol. error 2.96E-03\n",
      "Tgt. SI. -81.6 dB\n",
      "Solutions SDR\\Rank-1:\n",
      "\t\tMax. SI.:\t-81.5\\-81.5 dB\t(21.0 dB from baseline)\n",
      "\t\tTx error:\t-17.8\\-17.8 dB\n",
      "\t\tRx error:\t-17.8\\-17.8 dB\n",
      "\tMax sol. error 2.96E-03\n",
      "Tgt. SI. -82.6 dB\n",
      "Solutions SDR\\Rank-1:\n",
      "\t\tMax. SI.:\t-82.6\\-82.5 dB\t(22.0 dB from baseline)\n",
      "\t\tTx error:\t-17.3\\-17.3 dB\n",
      "\t\tRx error:\t-17.3\\-17.3 dB\n",
      "\tMax sol. error 1.75E-03\n",
      "Tgt. SI. -83.6 dB\n",
      "Solutions SDR\\Rank-1:\n",
      "\t\tMax. SI.:\t-83.6\\-83.5 dB\t(23.0 dB from baseline)\n",
      "\t\tTx error:\t-16.7\\-16.7 dB\n",
      "\t\tRx error:\t-16.7\\-16.7 dB\n",
      "\tMax sol. error 3.25E-03\n",
      "Tgt. SI. -84.6 dB\n",
      "Solutions SDR\\Rank-1:\n",
      "\t\tMax. SI.:\t-84.5\\-84.5 dB\t(24.0 dB from baseline)\n",
      "\t\tTx error:\t-16.2\\-16.2 dB\n",
      "\t\tRx error:\t-16.2\\-16.2 dB\n",
      "\tMax sol. error 1.73E-03\n",
      "Tgt. SI. -85.6 dB\n",
      "Solutions SDR\\Rank-1:\n",
      "\t\tMax. SI.:\t-85.5\\-85.5 dB\t(25.0 dB from baseline)\n",
      "\t\tTx error:\t-15.7\\-15.7 dB\n",
      "\t\tRx error:\t-15.7\\-15.7 dB\n",
      "\tMax sol. error 2.90E-03\n",
      "Tgt. SI. -86.6 dB\n",
      "Solutions SDR\\Rank-1:\n",
      "\t\tMax. SI.:\t-86.5\\-86.5 dB\t(25.9 dB from baseline)\n",
      "\t\tTx error:\t-15.2\\-15.2 dB\n",
      "\t\tRx error:\t-15.2\\-15.2 dB\n",
      "\tMax sol. error 3.21E-03\n",
      "Tgt. SI. -87.6 dB\n",
      "Solutions SDR\\Rank-1:\n",
      "\t\tMax. SI.:\t-87.5\\-87.5 dB\t(26.9 dB from baseline)\n",
      "\t\tTx error:\t-14.7\\-14.7 dB\n",
      "\t\tRx error:\t-14.7\\-14.7 dB\n",
      "\tMax sol. error 3.15E-03\n",
      "Tgt. SI. -88.6 dB\n",
      "Solutions SDR\\Rank-1:\n",
      "\t\tMax. SI.:\t-88.5\\-88.5 dB\t(27.9 dB from baseline)\n",
      "\t\tTx error:\t-14.3\\-14.3 dB\n",
      "\t\tRx error:\t-14.3\\-14.3 dB\n",
      "\tMax sol. error 2.93E-03\n",
      "Tgt. SI. -89.6 dB\n",
      "Solutions SDR\\Rank-1:\n",
      "\t\tMax. SI.:\t-89.5\\-89.5 dB\t(28.9 dB from baseline)\n",
      "\t\tTx error:\t-13.9\\-13.9 dB\n",
      "\t\tRx error:\t-13.9\\-13.9 dB\n",
      "\tMax sol. error 3.26E-03\n",
      "Tgt. SI. -90.6 dB\n",
      "Solutions SDR\\Rank-1:\n",
      "\t\tMax. SI.:\t-90.5\\-90.5 dB\t(29.9 dB from baseline)\n",
      "\t\tTx error:\t-13.5\\-13.5 dB\n",
      "\t\tRx error:\t-13.5\\-13.5 dB\n",
      "\tMax sol. error 3.34E-03\n",
      "Tgt. SI. -91.6 dB\n",
      "Solutions SDR\\Rank-1:\n",
      "\t\tMax. SI.:\t-91.5\\-91.5 dB\t(30.9 dB from baseline)\n",
      "\t\tTx error:\t-13.2\\-13.2 dB\n",
      "\t\tRx error:\t-13.2\\-13.2 dB\n",
      "\tMax sol. error 3.19E-03\n",
      "Tgt. SI. -92.6 dB\n",
      "Solutions SDR\\Rank-1:\n",
      "\t\tMax. SI.:\t-92.5\\-92.4 dB\t(31.9 dB from baseline)\n",
      "\t\tTx error:\t-12.8\\-12.8 dB\n",
      "\t\tRx error:\t-12.8\\-12.8 dB\n",
      "\tMax sol. error 3.25E-03\n",
      "Tgt. SI. -93.6 dB\n",
      "Solutions SDR\\Rank-1:\n",
      "\t\tMax. SI.:\t-93.5\\-93.5 dB\t(33.0 dB from baseline)\n",
      "\t\tTx error:\t-12.5\\-12.5 dB\n",
      "\t\tRx error:\t-12.5\\-12.5 dB\n",
      "\tMax sol. error 3.17E-03\n",
      "Tgt. SI. -94.6 dB\n",
      "Solutions SDR\\Rank-1:\n",
      "\t\tMax. SI.:\t-94.5\\-94.5 dB\t(34.0 dB from baseline)\n",
      "\t\tTx error:\t-12.2\\-12.2 dB\n",
      "\t\tRx error:\t-12.2\\-12.2 dB\n",
      "\tMax sol. error 3.37E-03\n",
      "Tgt. SI. -95.6 dB\n",
      "Solutions SDR\\Rank-1:\n",
      "\t\tMax. SI.:\t-95.4\\-95.4 dB\t(34.8 dB from baseline)\n",
      "\t\tTx error:\t-12.0\\-12.0 dB\n",
      "\t\tRx error:\t-12.0\\-12.0 dB\n",
      "\tMax sol. error 3.28E-03\n",
      "Tgt. SI. -96.6 dB\n",
      "Solutions SDR\\Rank-1:\n",
      "\t\tMax. SI.:\t-96.5\\-96.5 dB\t(36.0 dB from baseline)\n",
      "\t\tTx error:\t-11.7\\-11.7 dB\n",
      "\t\tRx error:\t-11.7\\-11.7 dB\n",
      "\tMax sol. error 2.96E-03\n",
      "Tgt. SI. -97.6 dB\n",
      "Solutions SDR\\Rank-1:\n",
      "\t\tMax. SI.:\t-97.5\\-97.5 dB\t(36.9 dB from baseline)\n",
      "\t\tTx error:\t-11.4\\-11.4 dB\n",
      "\t\tRx error:\t-11.4\\-11.4 dB\n",
      "\tMax sol. error 3.72E-03\n",
      "Tgt. SI. -98.6 dB\n",
      "Solutions SDR\\Rank-1:\n",
      "\t\tMax. SI.:\t-98.5\\-98.5 dB\t(38.0 dB from baseline)\n",
      "\t\tTx error:\t-11.2\\-11.2 dB\n",
      "\t\tRx error:\t-11.2\\-11.2 dB\n",
      "\tMax sol. error 3.40E-03\n",
      "Tgt. SI. -99.6 dB\n",
      "Solutions SDR\\Rank-1:\n",
      "\t\tMax. SI.:\t-99.6\\-99.6 dB\t(39.0 dB from baseline)\n",
      "\t\tTx error:\t-10.9\\-10.9 dB\n",
      "\t\tRx error:\t-10.9\\-10.9 dB\n",
      "\tMax sol. error 3.36E-03\n",
      "Tgt. SI. -100.6 dB\n",
      "Solutions SDR\\Rank-1:\n",
      "\t\tMax. SI.:\t-100.5\\-100.5 dB\t(40.0 dB from baseline)\n",
      "\t\tTx error:\t-10.7\\-10.7 dB\n",
      "\t\tRx error:\t-10.7\\-10.7 dB\n",
      "\tMax sol. error 3.35E-03\n",
      "Tgt. SI. -101.6 dB\n",
      "Solutions SDR\\Rank-1:\n",
      "\t\tMax. SI.:\t-101.5\\-101.5 dB\t(41.0 dB from baseline)\n",
      "\t\tTx error:\t-10.4\\-10.4 dB\n",
      "\t\tRx error:\t-10.4\\-10.4 dB\n",
      "\tMax sol. error 3.38E-03\n",
      "Tgt. SI. -102.6 dB\n",
      "Solutions SDR\\Rank-1:\n",
      "\t\tMax. SI.:\t-102.5\\-102.5 dB\t(42.0 dB from baseline)\n",
      "\t\tTx error:\t-10.2\\-10.2 dB\n",
      "\t\tRx error:\t-10.2\\-10.2 dB\n",
      "\tMax sol. error 3.15E-03\n",
      "Tgt. SI. -103.6 dB\n",
      "Solutions SDR\\Rank-1:\n",
      "\t\tMax. SI.:\t-103.5\\-103.5 dB\t(42.9 dB from baseline)\n",
      "\t\tTx error:\t-9.9\\-9.9 dB\n",
      "\t\tRx error:\t-9.9\\-9.9 dB\n",
      "\tMax sol. error 3.36E-03\n",
      "Tgt. SI. -104.6 dB\n",
      "Solutions SDR\\Rank-1:\n",
      "\t\tMax. SI.:\t-104.5\\-104.5 dB\t(44.0 dB from baseline)\n",
      "\t\tTx error:\t-9.7\\-9.6 dB\n",
      "\t\tRx error:\t-9.6\\-9.6 dB\n",
      "\tMax sol. error 3.37E-03\n",
      "Tgt. SI. -105.6 dB\n",
      "Solutions SDR\\Rank-1:\n",
      "\t\tMax. SI.:\t-105.5\\-105.5 dB\t(44.9 dB from baseline)\n",
      "\t\tTx error:\t-9.4\\-9.4 dB\n",
      "\t\tRx error:\t-9.4\\-9.4 dB\n",
      "\tMax sol. error 3.37E-03\n",
      "Tgt. SI. -106.6 dB\n",
      "Solutions SDR\\Rank-1:\n",
      "\t\tMax. SI.:\t-106.5\\-106.5 dB\t(46.0 dB from baseline)\n",
      "\t\tTx error:\t-9.2\\-9.2 dB\n",
      "\t\tRx error:\t-9.2\\-9.2 dB\n",
      "\tMax sol. error 2.97E-03\n",
      "Tgt. SI. -107.6 dB\n",
      "Solutions SDR\\Rank-1:\n",
      "\t\tMax. SI.:\t-107.5\\-107.5 dB\t(47.0 dB from baseline)\n",
      "\t\tTx error:\t-8.9\\-8.9 dB\n",
      "\t\tRx error:\t-8.9\\-8.9 dB\n",
      "\tMax sol. error 3.17E-03\n",
      "Tgt. SI. -108.6 dB\n",
      "Solutions SDR\\Rank-1:\n",
      "\t\tMax. SI.:\t-108.5\\-108.6 dB\t(48.0 dB from baseline)\n",
      "\t\tTx error:\t-8.7\\-8.7 dB\n",
      "\t\tRx error:\t-8.7\\-8.7 dB\n",
      "\tMax sol. error 3.10E-03\n",
      "Tgt. SI. -109.6 dB\n",
      "Solutions SDR\\Rank-1:\n",
      "\t\tMax. SI.:\t-109.5\\-109.5 dB\t(49.0 dB from baseline)\n",
      "\t\tTx error:\t-8.5\\-8.5 dB\n",
      "\t\tRx error:\t-8.5\\-8.5 dB\n",
      "\tMax sol. error 3.23E-03\n",
      "Tgt. SI. -110.6 dB\n",
      "Solutions SDR\\Rank-1:\n",
      "\t\tMax. SI.:\t-110.5\\-110.5 dB\t(50.0 dB from baseline)\n",
      "\t\tTx error:\t-8.3\\-8.3 dB\n",
      "\t\tRx error:\t-8.3\\-8.3 dB\n",
      "\tMax sol. error 3.20E-03\n",
      "Tgt. SI. -111.6 dB\n",
      "Solutions SDR\\Rank-1:\n",
      "\t\tMax. SI.:\t-111.5\\-111.5 dB\t(51.0 dB from baseline)\n",
      "\t\tTx error:\t-8.0\\-8.0 dB\n",
      "\t\tRx error:\t-8.0\\-8.0 dB\n",
      "\tMax sol. error 3.25E-03\n",
      "Tgt. SI. -112.6 dB\n",
      "Solutions SDR\\Rank-1:\n",
      "\t\tMax. SI.:\t-112.5\\-112.5 dB\t(52.0 dB from baseline)\n",
      "\t\tTx error:\t-7.8\\-7.8 dB\n",
      "\t\tRx error:\t-7.8\\-7.8 dB\n",
      "\tMax sol. error 3.30E-03\n",
      "Tgt. SI. -113.6 dB\n",
      "Solutions SDR\\Rank-1:\n",
      "\t\tMax. SI.:\t-113.5\\-113.5 dB\t(53.0 dB from baseline)\n",
      "\t\tTx error:\t-7.6\\-7.6 dB\n",
      "\t\tRx error:\t-7.6\\-7.6 dB\n",
      "\tMax sol. error 3.23E-03\n",
      "Tgt. SI. -114.6 dB\n",
      "Solutions SDR\\Rank-1:\n",
      "\t\tMax. SI.:\t-114.5\\-114.5 dB\t(54.0 dB from baseline)\n",
      "\t\tTx error:\t-7.4\\-7.4 dB\n",
      "\t\tRx error:\t-7.4\\-7.4 dB\n",
      "\tMax sol. error 3.25E-03\n",
      "Tgt. SI. -115.6 dB\n",
      "Solutions SDR\\Rank-1:\n",
      "\t\tMax. SI.:\t-115.6\\-115.6 dB\t(55.0 dB from baseline)\n",
      "\t\tTx error:\t-7.1\\-7.1 dB\n",
      "\t\tRx error:\t-7.1\\-7.1 dB\n",
      "\tMax sol. error 3.25E-03\n",
      "Tgt. SI. -116.6 dB\n",
      "Solutions SDR\\Rank-1:\n",
      "\t\tMax. SI.:\t-116.5\\-116.5 dB\t(56.0 dB from baseline)\n",
      "\t\tTx error:\t-6.9\\-6.9 dB\n",
      "\t\tRx error:\t-6.9\\-6.9 dB\n",
      "\tMax sol. error 3.28E-03\n",
      "Tgt. SI. -117.6 dB\n",
      "Solutions SDR\\Rank-1:\n",
      "\t\tMax. SI.:\t-117.6\\-117.6 dB\t(57.0 dB from baseline)\n",
      "\t\tTx error:\t-6.6\\-6.6 dB\n",
      "\t\tRx error:\t-6.6\\-6.6 dB\n",
      "\tMax sol. error 3.25E-03\n",
      "Tgt. SI. -118.6 dB\n",
      "Solutions SDR\\Rank-1:\n",
      "\t\tMax. SI.:\t-118.5\\-118.5 dB\t(58.0 dB from baseline)\n",
      "\t\tTx error:\t-6.3\\-6.3 dB\n",
      "\t\tRx error:\t-6.3\\-6.3 dB\n",
      "\tMax sol. error 5.91E-02\n",
      "Tgt. SI. -119.6 dB\n",
      "Solutions SDR\\Rank-1:\n",
      "\t\tMax. SI.:\t-119.6\\-119.6 dB\t(59.0 dB from baseline)\n",
      "\t\tTx error:\t-6.0\\-6.1 dB\n",
      "\t\tRx error:\t-6.0\\-6.1 dB\n",
      "\tMax sol. error 2.47E-01\n",
      "Tgt. SI. -120.6 dB\n",
      "Solutions SDR\\Rank-1:\n",
      "\t\tMax. SI.:\t-120.6\\-120.6 dB\t(60.0 dB from baseline)\n",
      "\t\tTx error:\t-5.7\\-5.7 dB\n",
      "\t\tRx error:\t-5.7\\-5.7 dB\n",
      "\tMax sol. error 2.77E-01\n",
      "Tgt. SI. -121.6 dB\n",
      "Solutions SDR\\Rank-1:\n",
      "\t\tMax. SI.:\t-121.6\\-121.6 dB\t(61.0 dB from baseline)\n",
      "\t\tTx error:\t-5.3\\-5.4 dB\n",
      "\t\tRx error:\t-5.3\\-5.4 dB\n",
      "\tMax sol. error 2.36E-01\n",
      "Tgt. SI. -122.6 dB\n",
      "Solutions SDR\\Rank-1:\n",
      "\t\tMax. SI.:\t-122.6\\-122.6 dB\t(62.0 dB from baseline)\n",
      "\t\tTx error:\t-4.8\\-4.9 dB\n",
      "\t\tRx error:\t-4.8\\-4.9 dB\n",
      "\tMax sol. error 2.01E-01\n",
      "Tgt. SI. -123.6 dB\n",
      "Solutions SDR\\Rank-1:\n",
      "\t\tMax. SI.:\t-123.6\\-123.6 dB\t(63.0 dB from baseline)\n",
      "\t\tTx error:\t-4.2\\-4.4 dB\n",
      "\t\tRx error:\t-4.2\\-4.4 dB\n",
      "\tMax sol. error 2.02E-01\n",
      "Tgt. SI. -124.6 dB\n",
      "Solutions SDR\\Rank-1:\n",
      "\t\tMax. SI.:\t-124.6\\-124.6 dB\t(64.0 dB from baseline)\n",
      "\t\tTx error:\t-3.6\\-3.9 dB\n",
      "\t\tRx error:\t-3.6\\-3.9 dB\n",
      "\tMax sol. error 2.68E-01\n",
      "Tgt. SI. -125.6 dB\n",
      "Solutions SDR\\Rank-1:\n",
      "\t\tMax. SI.:\t-125.6\\-125.6 dB\t(65.0 dB from baseline)\n",
      "\t\tTx error:\t-3.0\\-3.3 dB\n",
      "\t\tRx error:\t-3.0\\-3.3 dB\n",
      "\tMax sol. error 3.03E-01\n",
      "Tgt. SI. -126.6 dB\n",
      "Solutions SDR\\Rank-1:\n",
      "\t\tMax. SI.:\t-126.6\\-126.6 dB\t(66.0 dB from baseline)\n",
      "\t\tTx error:\t-2.5\\-2.6 dB\n",
      "\t\tRx error:\t-2.5\\-2.6 dB\n",
      "\tMax sol. error 3.12E-01\n",
      "Tgt. SI. -127.6 dB\n",
      "Solutions SDR\\Rank-1:\n",
      "\t\tMax. SI.:\t-127.6\\-127.6 dB\t(67.0 dB from baseline)\n",
      "\t\tTx error:\t-1.9\\-1.7 dB\n",
      "\t\tRx error:\t-1.9\\-1.7 dB\n",
      "\tMax sol. error 3.35E-01\n",
      "Tgt. SI. -128.6 dB\n",
      "Solutions SDR\\Rank-1:\n",
      "\t\tMax. SI.:\t-128.6\\-128.6 dB\t(68.0 dB from baseline)\n",
      "\t\tTx error:\t-1.3\\-0.7 dB\n",
      "\t\tRx error:\t-1.3\\-0.7 dB\n",
      "\tMax sol. error 3.48E-01\n",
      "Tgt. SI. -129.6 dB\n",
      "Solutions SDR\\Rank-1:\n",
      "\t\tMax. SI.:\t-129.6\\-129.6 dB\t(69.0 dB from baseline)\n",
      "\t\tTx error:\t-0.2\\0.3 dB\n",
      "\t\tRx error:\t-0.2\\0.3 dB\n",
      "\tMax sol. error 3.23E-01\n",
      "Tgt. SI. -130.6 dB\n"
     ]
    }
   ],
   "source": [
    "opt_times = np.array([r[\"elapsed_time\"] for r in results], dtype=float)\n",
    "opt_times = opt_times[~np.isnan(opt_times)]\n",
    "mean_t, median_t = np.mean(opt_times), np.median(opt_times)\n",
    "print(f\"(Mean\\Median) Optimization time:\\t{mean_t:.2f}\\\\{median_t:.2f} s\")\n",
    "pbuf.print()"
   ]
  },
  {
   "cell_type": "markdown",
   "id": "48542c25-d288-4668-bbeb-c092ad3666da",
   "metadata": {},
   "source": [
    "## Saving results"
   ]
  },
  {
   "cell_type": "code",
   "execution_count": 10,
   "id": "e334a3f3-ef2c-4aee-8ff0-4d236b4084bf",
   "metadata": {
    "ExecuteTime": {
     "end_time": "2024-09-19T15:20:25.805699Z",
     "start_time": "2024-09-19T15:20:25.784122Z"
    }
   },
   "outputs": [
    {
     "name": "stdout",
     "output_type": "stream",
     "text": [
      "Results saved under /mnt/project/results/cissir_cb_results_phased_1tap_si.csv\n",
      "Results saved under /mnt/project/results/sdp_beam_results_1tap.json\n"
     ]
    }
   ],
   "source": [
    "res_file = res_path/f\"cissir_cb_results_phased_{si_num_taps}tap_si.csv\"\n",
    "res_df = pd.DataFrame(results)\n",
    "res_df.to_csv(res_file)\n",
    "print(f\"Results saved under {res_file}\")\n",
    "json_fname = res_path/f\"sdp_beam_results_{si_num_taps}tap.json\"\n",
    "with open(json_fname, 'w', encoding ='utf8') as json_file:\n",
    "    json.dump(beam_results, json_file)\n",
    "print(f\"Results saved under {json_fname}\")"
   ]
  },
  {
   "cell_type": "code",
   "execution_count": 11,
   "id": "e95dd17b-e77b-477a-8ab1-987283aade15",
   "metadata": {
    "ExecuteTime": {
     "end_time": "2024-09-19T15:20:26.807136Z",
     "start_time": "2024-09-19T15:20:26.797029Z"
    },
    "tags": []
   },
   "outputs": [
    {
     "name": "stdout",
     "output_type": "stream",
     "text": [
      "phased_cissir1tap_codebooks.npz was saved at /mnt/project/results.\n"
     ]
    }
   ],
   "source": [
    "method = f\"phased_cissir{si_num_taps}tap\"\n",
    "\n",
    "si_values = [si_db_ref]\n",
    "si_achieved = [si_db_ref]\n",
    "tx_codebooks = [dft_tx_codebook]\n",
    "rx_codebooks = [dft_rx_codebook]\n",
    "for cb in codebooks:\n",
    "    si_values.append(cb[\"si_tgt\"])\n",
    "    si_achieved.append(cb[\"si_opt\"])\n",
    "    tx_codebooks.append(cb[\"tx_codebook_p\"])\n",
    "    rx_codebooks.append(cb[\"rx_codebook_p\"])\n",
    "\n",
    "si_values = np.array(si_values) \n",
    "tx_codebooks = np.stack(tx_codebooks, axis=0)\n",
    "rx_codebooks = np.stack(rx_codebooks, axis=0)\n",
    "tx_dev = np.array([-np.inf] + [r[\"tx_loss\"] for r in results]).astype(float)\n",
    "rx_dev = np.array([-np.inf] + [r[\"rx_loss\"] for r in results]).astype(float)\n",
    "\n",
    "metadata = np.array({\"method\": method, \"phased\": phased_array, \"si_num_taps\": si_num_taps,\n",
    "                     \"norm\": \"max\"})\n",
    "fname = f\"{method}_codebooks.npz\"\n",
    "np.savez(res_path/fname, si_tgt=si_values,\n",
    "         si_opt=si_achieved, tx_dev=tx_dev, rx_dev=rx_dev,\n",
    "         rx_degrees=rx_degs, tx_degrees=tx_degs,\n",
    "         rx=rx_codebooks, tx=tx_codebooks,\n",
    "         metadata=metadata)\n",
    "print(f\"{fname} was saved at {res_path}.\")"
   ]
  },
  {
   "cell_type": "markdown",
   "id": "2af3c39a-33e3-4349-bb00-2b2742063a32",
   "metadata": {},
   "source": [
    "## Plot"
   ]
  },
  {
   "cell_type": "code",
   "execution_count": 12,
   "id": "7058b23d-c258-4407-8462-1eed11157b1a",
   "metadata": {
    "ExecuteTime": {
     "end_time": "2024-09-27T16:58:49.632420Z",
     "start_time": "2024-09-27T16:58:49.629936Z"
    },
    "tags": []
   },
   "outputs": [
    {
     "data": {
      "text/plain": [
       "(-97.48156069123587, -57.78297791619805)"
      ]
     },
     "execution_count": 12,
     "metadata": {},
     "output_type": "execute_result"
    },
    {
     "data": {
      "image/png": "[encoded data removed]",
      "text/plain": [
       "<Figure size 525x397.5 with 1 Axes>"
      ]
     },
     "metadata": {},
     "output_type": "display_data"
    }
   ],
   "source": [
    "max_grx_db = pow2db(np.max(np.diag(h_si_rx).real))\n",
    "sat_bnd_db = np.array([np.max(cb_si_db(w_cb, w_cb, h_si_tx)) for w_cb in tx_codebooks])/2 + max_grx_db\n",
    "sat_opt_db = np.array([np.max(cb_si_db(w_cb, np.eye(N_r), h_si)) for w_cb in tx_codebooks])\n",
    "\n",
    "plt.plot(si_values, sat_opt_db, label=\"Achieved SI @Rx-Ant\")\n",
    "plt.plot(si_values, sat_bnd_db, label=\"Bound SI @Rx-Ant\")\n",
    "plt.legend()\n",
    "plt.xlim(min(si_values), max(si_values))\n",
    "plt.ylim(min(sat_opt_db), max(sat_bnd_db))"
   ]
  },
  {
   "cell_type": "code",
   "execution_count": 13,
   "id": "6da05402-2108-40b4-b39e-3bf2080cc3f7",
   "metadata": {
    "ExecuteTime": {
     "end_time": "2024-09-19T15:22:16.697691Z",
     "start_time": "2024-09-19T15:22:16.695009Z"
    }
   },
   "outputs": [],
   "source": [
    "with np.load(res_path/\"phased_cissir_codebooks.npz\") as cb_data:\n",
    "    si_achieved = cb_data[\"si_opt\"]\n",
    "    si_values = cb_data[\"si_tgt\"]\n",
    "    tx_codebooks = cb_data[\"tx\"]\n",
    "    L_t = tx_codebooks.shape[-1]\n",
    "    rx_codebooks = cb_data[\"rx\"]\n",
    "    L_r = rx_codebooks.shape[-1]\n",
    "\n",
    "    tx_dev = cb_data[\"tx_dev\"]\n",
    "    rx_dev = cb_data[\"rx_dev\"]\n",
    "\n",
    "    tx_degs = cb_data[\"tx_degrees\"]\n",
    "    rx_degs = cb_data[\"rx_degrees\"]\n",
    "    beam_degs = tx_degs"
   ]
  },
  {
   "cell_type": "code",
   "execution_count": 14,
   "id": "f5d69038-a286-45b0-b377-d51ae58f89a9",
   "metadata": {
    "ExecuteTime": {
     "end_time": "2024-09-19T15:22:16.697691Z",
     "start_time": "2024-09-19T15:22:16.695009Z"
    }
   },
   "outputs": [],
   "source": [
    "plot_si = -100\n",
    "si_index = np.argmin(np.abs(np.array(si_values) - plot_si))\n",
    "si_db_val = si_values[si_index]\n",
    "tx_dev_val = tx_dev[si_index]\n",
    "opt_tx_codebook = tx_codebooks[si_index,]\n",
    "opt_rx_codebook = rx_codebooks[si_index,]"
   ]
  },
  {
   "cell_type": "code",
   "execution_count": 15,
   "id": "5f332143-72c7-4958-9fcc-fb8d3a8765d5",
   "metadata": {
    "ExecuteTime": {
     "end_time": "2024-09-19T15:22:28.072633Z",
     "start_time": "2024-09-19T15:22:21.726046Z"
    }
   },
   "outputs": [],
   "source": [
    "antenna_pattern = Antenna(params.antenna_pattern, polarization=params.antenna_polarization).patterns\n",
    "rad_pattern = lambda x: sum(sum(np.abs(p)**2 for p in pat(np.pi/2, x)) for pat in antenna_pattern)"
   ]
  },
  {
   "cell_type": "code",
   "execution_count": 16,
   "id": "88d975308199fdbe",
   "metadata": {},
   "outputs": [
    {
     "data": {
      "image/png": "[encoded data removed]",
      "text/plain": [
       "<Figure size 525x397.5 with 1 Axes>"
      ]
     },
     "metadata": {},
     "output_type": "display_data"
    }
   ],
   "source": [
    "f, ax = plt.subplots(subplot_kw={'projection': 'polar'})\n",
    "\n",
    "rlims = (-9,20)\n",
    "thetas = np.deg2rad(np.clip(np.arange(-75, 80, 15), -70, 70))\n",
    "offset, stride = 0, 4\n",
    "\n",
    "tx_kwargs = dict(transmit=True, element_pattern=rad_pattern, axis=ax, r_lim=rlims, linewidth=0.7, theta_lim=(thetas[0], thetas[-1]))\n",
    "_ = plot_beamforming_polar(opt_tx_codebook[:, offset::stride], alpha=1.0, color_palette=\"husl\", **tx_kwargs,\n",
    "                           label=\"Optimized\", zorder=30)\n",
    "_ = plot_beamforming_polar(dft_tx_codebook[:, offset::stride], alpha=1.0, linestyle=\"--\", color_palette=\"husl\", **tx_kwargs, label=\"Reference\", zorder=40)\n",
    "\n",
    "_ = plot_beamforming_polar(dft_tx_codebook, aggregate=True, alpha=1.0, linestyle=\":\", c='k', **tx_kwargs, label=\"Opt\", zorder=10)\n",
    "\n",
    "bf_lines = ax.get_lines()\n",
    "for i, d in enumerate(beam_degs[offset::stride]):\n",
    "    ax.text(np.deg2rad(d), rlims[-1]-1.8, f\"{d:.1f}°\", c=bf_lines[i].get_color(), rotation=d,\n",
    "            size=\"small\", rotation_mode=\"anchor\", va=\"center\", ha=\"center\")\n",
    "\n",
    "plt.rc('axes', axisbelow=False)\n",
    "\n",
    "ax.set_xticks(thetas)\n",
    "xticks = ax.get_xticklabels()\n",
    "_ = ax.set_xticklabels([tick if i % 2 == 1 else None for i, tick in enumerate(xticks)])\n",
    "ax.tick_params(axis=\"x\", pad=-1)\n",
    "\n",
    "handles, labels = ax.get_legend_handles_labels()\n",
    "ax.legend([handles[i] for i in (0, L_t//stride+1, -1)],\n",
    "          [\"CISSIR\", \"Reference\", \"Ref. coverage\"],\n",
    "          loc=\"upper center\", ncol=3, prop={'size': 9.5},\n",
    "          columnspacing=0.9,\n",
    "          bbox_to_anchor=(0.5, 0.98))\n",
    "ax.set_xlabel(\"TX array gain [dBi]\", labelpad=-30)\n",
    "\n",
    "bbox = ax.get_tightbbox(bbox_extra_artists=None).transformed(f.dpi_scale_trans.inverted())\n",
    "bbox_p = bbox.get_points()\n",
    "bbox_p[0,1] = bbox_p[1,1] - viz.def_figsize[1]*1.05\n",
    "bbox.set_points(bbox_p)\n",
    "\n",
    "f.savefig(plot_path/\"beams.pdf\", bbox_inches=bbox)\n",
    "f.savefig(plot_path/\"beams.pgf\", bbox_inches=bbox)"
   ]
  }
 ],
 "metadata": {
  "kernelspec": {
   "display_name": "Python 3 (ipykernel)",
   "language": "python",
   "name": "python3"
  },
  "language_info": {
   "codemirror_mode": {
    "name": "ipython",
    "version": 3
   },
   "file_extension": ".py",
   "mimetype": "text/x-python",
   "name": "python",
   "nbconvert_exporter": "python",
   "pygments_lexer": "ipython3",
   "version": "3.8.10"
  }
 },
 "nbformat": 4,
 "nbformat_minor": 5
}
