{
 "cells": [
  {
   "cell_type": "markdown",
   "id": "67762cc9-6782-49b5-bb6a-6e9888561da9",
   "metadata": {},
   "source": [
    "# Spectral codebook optimization for tapered CISSIR"
   ]
  },
  {
   "cell_type": "markdown",
   "id": "2dfa7e58-6b11-4ef5-ba6f-5f99d8a621ee",
   "metadata": {},
   "source": [
    "## Setup"
   ]
  },
  {
   "cell_type": "code",
   "execution_count": 1,
   "id": "f86a7c9a-2faf-465f-a70b-54bd0cc60f84",
   "metadata": {
    "ExecuteTime": {
     "end_time": "2024-09-27T16:52:40.446225Z",
     "start_time": "2024-09-27T16:52:37.657667Z"
    }
   },
   "outputs": [
    {
     "name": "stdout",
     "output_type": "stream",
     "text": [
      "Compiling `sigma_poly_coeffs_toeplitz` function...\n",
      "Function compiled. time elapsed: 2.737 s\n"
     ]
    }
   ],
   "source": [
    "import time\n",
    "import json\n",
    "\n",
    "import numpy as np\n",
    "\n",
    "import pandas as pd\n",
    "from tqdm.notebook import tqdm\n",
    "\n",
    "import matplotlib.pyplot as plt\n",
    "from cissir import visualization as viz\n",
    "viz.paper_style(line_cycler=False, figsize=(1.5 * viz.def_figsize[0], 1.5 * viz.def_figsize[1]))\n",
    "\n",
    "from sionna.rt import Antenna\n",
    "\n",
    "from cissir.physics import pow2db, db2power, mag2db\n",
    "from cissir.raytracing import si_paths2cir, load_si_paths, normalize_si_taps\n",
    "\n",
    "from cissir import params, optimization as opt\n",
    "from cissir.beamforming import dft_codebook, plot_beamforming_polar\n",
    "from cissir.utils import PrintBuffer, res_path\n",
    "\n",
    "opt.compile_coeff_code()"
   ]
  },
  {
   "cell_type": "code",
   "execution_count": 2,
   "id": "87db658e-7c9d-4934-ad21-416c2bb10b79",
   "metadata": {
    "ExecuteTime": {
     "end_time": "2024-09-27T16:52:44.723423Z",
     "start_time": "2024-09-27T16:52:44.720796Z"
    }
   },
   "outputs": [],
   "source": [
    "# Global parameters\n",
    "\n",
    "c = params.c\n",
    "fc = params.fc_hz\n",
    "wavelength_m = params.wavelength_m\n",
    "\n",
    "\n",
    "ula_el_spacing = params.array_electrical_spacing\n",
    "\n",
    "N_r = params.n_rx\n",
    "N_t = params.n_tx\n",
    "\n",
    "# Number of beams\n",
    "L_r = params.num_beams\n",
    "L_t = params.num_beams"
   ]
  },
  {
   "cell_type": "markdown",
   "id": "6b0b9aba-f00e-403c-97c8-d5e7b36668af",
   "metadata": {},
   "source": [
    "### DFT beam codebook\n"
   ]
  },
  {
   "cell_type": "code",
   "execution_count": 3,
   "id": "2cdb9145-387b-4d88-8a1e-5c8b660fff92",
   "metadata": {
    "ExecuteTime": {
     "end_time": "2024-09-19T13:26:30.444823Z",
     "start_time": "2024-09-19T13:26:30.441319Z"
    }
   },
   "outputs": [],
   "source": [
    "dft_tx_codebook, tx_degs = dft_codebook(L_max = L_t , N1 = N_t, full_grid=True,\n",
    "                                          az_min = -60, az_max = 60, transmit=True)\n",
    "L_t = len(tx_degs)\n",
    "dft_rx_codebook, rx_degs = dft_codebook(L_max = L_r , N1 = N_r, full_grid=True,\n",
    "                                          az_min = -60, az_max = 60, transmit=False)\n",
    "L_r = len(rx_degs)"
   ]
  },
  {
   "cell_type": "code",
   "execution_count": 4,
   "id": "e8c7f719-b08b-442f-a995-5e1bde3d9a59",
   "metadata": {
    "ExecuteTime": {
     "end_time": "2024-09-19T13:26:35.291614Z",
     "start_time": "2024-09-19T13:26:35.284096Z"
    }
   },
   "outputs": [],
   "source": [
    "si_num_taps = 1 # \"full\"    # Options: 1, 2, \"full\"\n",
    "\n",
    "def cb_si_db(tx_codebook, rx_codebook, si_channel):\n",
    "    return mag2db(opt.codebook_si(tx_codebook, rx_codebook, si_channel))\n",
    "\n",
    "ht_si_full, _ = load_si_paths(num_taps=\"full\")\n",
    "h_full = si_paths2cir(ht_si_full)\n",
    "\n",
    "if si_num_taps == \"full\":\n",
    "    h_si = h_full\n",
    "    si_db_ref = cb_si_db(dft_tx_codebook, dft_rx_codebook, h_si).max()\n",
    "else:\n",
    "    h_si, _ = load_si_paths(num_taps=si_num_taps)\n",
    "    h_si, si_mag = normalize_si_taps(h_si, ht_si_full,\n",
    "                                     dft_tx_codebook, dft_rx_codebook)\n",
    "    si_db_ref = mag2db(si_mag)\n",
    "    \n",
    "    assert h_si.shape == (si_num_taps, N_r, N_t), \"Unexpected SI shape\""
   ]
  },
  {
   "cell_type": "code",
   "execution_count": 5,
   "id": "2450d619-5a0a-42d0-8d98-13d572b1a031",
   "metadata": {
    "ExecuteTime": {
     "end_time": "2024-09-19T13:26:35.311868Z",
     "start_time": "2024-09-19T13:26:35.292383Z"
    }
   },
   "outputs": [],
   "source": [
    "h_si_rx, h_si_tx = opt.si_split(h_si)\n",
    "\n",
    "min_eigval_db = mag2db(opt.min_eigval(h_si))\n",
    "max_eigval_db = mag2db(opt.max_eigval(h_si))\n",
    "\n",
    "min_split_db = pow2db(opt.min_eigval(h_si_rx)*opt.min_eigval(h_si_tx))\n",
    "max_split_db = pow2db(opt.max_eigval(h_si_rx)*opt.max_eigval(h_si_tx))\n",
    "spec_feas_db = pow2db(opt.feasible_spectral(dft_rx_codebook, h_si_rx).max() *\n",
    "                      opt.feasible_spectral(dft_tx_codebook, h_si_tx).max())\n"
   ]
  },
  {
   "cell_type": "code",
   "execution_count": 6,
   "id": "165cf16d-f36e-4874-b889-060d7ff78dce",
   "metadata": {
    "ExecuteTime": {
     "end_time": "2024-09-19T13:26:35.311868Z",
     "start_time": "2024-09-19T13:26:35.292383Z"
    }
   },
   "outputs": [
    {
     "name": "stdout",
     "output_type": "stream",
     "text": [
      "      eig_min H: -174.8 dB\n",
      "eig_min Grx\\Gtx: -179.1 dB\n",
      "Spectral feas. : -166.1 dB\n",
      "            cHw: -60.6 dB\n",
      "      eig_max H: -41.7 dB\n",
      "eig_max Grx\\Gtx: -41.3 dB\n"
     ]
    }
   ],
   "source": [
    "print(f\"      eig_min H: {min_eigval_db:.1f} dB\")\n",
    "print(f\"eig_min Grx\\Gtx: {min_split_db:.1f} dB\")\n",
    "print(f\"Spectral feas. : {spec_feas_db:.1f} dB\")\n",
    "print(f\"            cHw: {si_db_ref:.1f} dB\")\n",
    "print(f\"      eig_max H: {max_eigval_db:.1f} dB\")\n",
    "print(f\"eig_max Grx\\Gtx: {max_split_db:.1f} dB\")"
   ]
  },
  {
   "cell_type": "markdown",
   "id": "45955310-1b3c-43af-8d40-36e816cecee3",
   "metadata": {},
   "source": [
    "## Optimization"
   ]
  },
  {
   "cell_type": "code",
   "execution_count": 7,
   "id": "fd2ecefc-d0f2-4cf0-9ef8-f3911f5e588a",
   "metadata": {
    "ExecuteTime": {
     "end_time": "2024-09-27T16:58:03.434778Z",
     "start_time": "2024-09-27T16:58:03.432422Z"
    }
   },
   "outputs": [],
   "source": [
    "tgt_si_values = np.arange(si_db_ref, spec_feas_db + 0.5, -1.0)\n",
    "pbuf = PrintBuffer(print_input=False)"
   ]
  },
  {
   "cell_type": "code",
   "execution_count": 8,
   "id": "ae3987bf-ba12-49fb-baa3-7a8352da4b5c",
   "metadata": {
    "ExecuteTime": {
     "end_time": "2024-09-27T16:58:09.426229Z",
     "start_time": "2024-09-27T16:58:09.289883Z"
    }
   },
   "outputs": [
    {
     "data": {
      "application/vnd.jupyter.widget-view+json": {
       "model_id": "67859dc8729f4bc2a5e1b331097e61e5",
       "version_major": 2,
       "version_minor": 0
      },
      "text/plain": [
       "  0%|          | 0/106 [00:00<?, ?it/s]"
      ]
     },
     "metadata": {},
     "output_type": "display_data"
    }
   ],
   "source": [
    "rx_mesh, tx_mesh = np.meshgrid(rx_degs, tx_degs, indexing=\"ij\")\n",
    "beam_results = {\"opt\": \"spectral\",\n",
    "                \"taps\": si_num_taps,\n",
    "                \"tx\": {\"degrees\": tx_degs.tolist(),\n",
    "                       \"grid\": tx_mesh.flatten().tolist()},\n",
    "                \"rx\": {\"degrees\": rx_degs.tolist(),\n",
    "                       \"grid\": rx_mesh.flatten().tolist()},\n",
    "                \"tgt_si\": [],\n",
    "                \"ach_si\": [],\n",
    "                \"beam_dev_tx\": [],\n",
    "                \"beam_dev_rx\": []\n",
    "                }\n",
    "\n",
    "results = []\n",
    "codebooks = []\n",
    "\n",
    "phased_array = False\n",
    "\n",
    "\n",
    "pbar = tqdm(tgt_si_values)\n",
    "pbar.set_description(f\"Baseline SI {si_db_ref:.1f} dB\")\n",
    "for tgt_si_db in pbar:\n",
    "    \n",
    "    # att_db = -tgt_si_db\n",
    "    tgt_si_pow = db2power(tgt_si_db)\n",
    "    \n",
    "    q = 0.5\n",
    "    tgt_si_tx, tgt_si_rx = tgt_si_pow ** q, tgt_si_pow ** (1-q)\n",
    "\n",
    "    pbuf.print(f\"Tgt. SI. {tgt_si_db:.1f} dB\")\n",
    "    \n",
    "    start_time = time.perf_counter()\n",
    "    w_codebook = opt.spectral_codebook(dft_tx_codebook, tgt_si_tx, h_si_tx, si_tol=0.01, real_tol=1e-3)\n",
    "    c_codebook = opt.spectral_codebook(dft_rx_codebook, tgt_si_rx, h_si_rx, si_tol=0.01, real_tol=1e-3)\n",
    "    end_time = time.perf_counter()\n",
    "    \n",
    "    si_db_matrix = cb_si_db(w_codebook, c_codebook, h_si)\n",
    "    si_db_opt = np.max(si_db_matrix)\n",
    "    \n",
    "    tx_dev_beam = np.maximum(opt.codebook_deviation_power(dft_tx_codebook, w_codebook, axis=0), 1e-10)\n",
    "    rx_dev_beam = np.maximum(opt.codebook_deviation_power(dft_rx_codebook, c_codebook, axis=0), 1e-10)\n",
    "    loss_w_opt = pow2db(np.mean(tx_dev_beam))\n",
    "    loss_c_opt = pow2db(np.mean(rx_dev_beam))\n",
    "    \n",
    "    # att_rank1 = -si_db_opt\n",
    "    pbuf.print(\"Solutions SDR\\\\Rank-1:\")\n",
    "    pbuf.print(f\"\\t\\tMax. SI :\\t{si_db_opt:.1f} dB\")\n",
    "    pbuf.print(f\"\\t\\tTx error:\\t{loss_w_opt:.1f} dB\")\n",
    "    pbuf.print(f\"\\t\\tRx error:\\t{loss_c_opt:.1f} dB\")\n",
    "\n",
    "    tx_beam_db = pow2db(tx_dev_beam)\n",
    "    rx_beam_db = pow2db(rx_dev_beam)\n",
    "    \n",
    "    postfix = (f\"SI Tgt::Actual {tgt_si_db:.1f}::{si_db_opt:.1f} dB; \"\n",
    "               f\"Error Tx::Rx {loss_w_opt:.1f}::{loss_c_opt:.1f} dB\")\n",
    "    pbar.set_postfix_str(postfix)\n",
    "\n",
    "    if si_num_taps == \"full\":\n",
    "        si_db_full = si_db_opt\n",
    "    else:\n",
    "        si_db_full = mag2db(np.max(opt.codebook_si(w_codebook, c_codebook, h_full)))\n",
    "\n",
    "    beam_results[\"tgt_si\"].append(tgt_si_db)\n",
    "    beam_results[\"ach_si\"].append(si_db_matrix.flatten().tolist())\n",
    "    beam_results[\"beam_dev_tx\"].append(tx_beam_db.tolist())\n",
    "    beam_results[\"beam_dev_rx\"].append(rx_beam_db.tolist())\n",
    "    \n",
    "    codebooks.append({\"si_tgt\": tgt_si_db, \"si_opt\": si_db_opt, \"rx_codebook_p\": c_codebook, \"tx_codebook_p\": w_codebook})\n",
    "    results.append({\"si_tgt\": tgt_si_db, \"opt\": \"cissir\", \"elapsed_time\": end_time - start_time,\n",
    "                    \"si_opt\": si_db_opt, \"tx_loss\": loss_w_opt, \"rx_loss\": loss_c_opt,\n",
    "                    \"si_full\": si_db_full,\n",
    "                    \"phased\": phased_array, \"si_taps\": si_num_taps, \"num_beams\": L_t})\n"
   ]
  },
  {
   "cell_type": "code",
   "execution_count": 9,
   "id": "81769dcd91485413",
   "metadata": {
    "ExecuteTime": {
     "end_time": "2024-09-27T16:58:13.007958Z",
     "start_time": "2024-09-27T16:58:13.005177Z"
    },
    "scrolled": true
   },
   "outputs": [
    {
     "name": "stdout",
     "output_type": "stream",
     "text": [
      "(Mean\\Median) Optimization time:\t7.10\\7.50 ms\n",
      "Tgt. SI. -60.6 dB\n",
      "Solutions SDR\\Rank-1:\n",
      "\t\tMax. SI :\t-60.6 dB\n",
      "\t\tTx error:\t-100.0 dB\n",
      "\t\tRx error:\t-100.0 dB\n",
      "Tgt. SI. -61.6 dB\n",
      "Solutions SDR\\Rank-1:\n",
      "\t\tMax. SI :\t-61.6 dB\n",
      "\t\tTx error:\t-44.9 dB\n",
      "\t\tRx error:\t-44.9 dB\n",
      "Tgt. SI. -62.6 dB\n",
      "Solutions SDR\\Rank-1:\n",
      "\t\tMax. SI :\t-62.6 dB\n",
      "\t\tTx error:\t-39.2 dB\n",
      "\t\tRx error:\t-39.2 dB\n",
      "Tgt. SI. -63.6 dB\n",
      "Solutions SDR\\Rank-1:\n",
      "\t\tMax. SI :\t-63.6 dB\n",
      "\t\tTx error:\t-35.9 dB\n",
      "\t\tRx error:\t-35.9 dB\n",
      "Tgt. SI. -64.6 dB\n",
      "Solutions SDR\\Rank-1:\n",
      "\t\tMax. SI :\t-64.6 dB\n",
      "\t\tTx error:\t-33.6 dB\n",
      "\t\tRx error:\t-33.6 dB\n",
      "Tgt. SI. -65.6 dB\n",
      "Solutions SDR\\Rank-1:\n",
      "\t\tMax. SI :\t-65.6 dB\n",
      "\t\tTx error:\t-31.9 dB\n",
      "\t\tRx error:\t-31.9 dB\n",
      "Tgt. SI. -66.6 dB\n",
      "Solutions SDR\\Rank-1:\n",
      "\t\tMax. SI :\t-66.6 dB\n",
      "\t\tTx error:\t-30.5 dB\n",
      "\t\tRx error:\t-30.5 dB\n",
      "Tgt. SI. -67.6 dB\n",
      "Solutions SDR\\Rank-1:\n",
      "\t\tMax. SI :\t-67.6 dB\n",
      "\t\tTx error:\t-29.3 dB\n",
      "\t\tRx error:\t-29.3 dB\n",
      "Tgt. SI. -68.6 dB\n",
      "Solutions SDR\\Rank-1:\n",
      "\t\tMax. SI :\t-68.6 dB\n",
      "\t\tTx error:\t-28.2 dB\n",
      "\t\tRx error:\t-28.2 dB\n",
      "Tgt. SI. -69.6 dB\n",
      "Solutions SDR\\Rank-1:\n",
      "\t\tMax. SI :\t-69.6 dB\n",
      "\t\tTx error:\t-27.3 dB\n",
      "\t\tRx error:\t-27.3 dB\n",
      "Tgt. SI. -70.6 dB\n",
      "Solutions SDR\\Rank-1:\n",
      "\t\tMax. SI :\t-70.6 dB\n",
      "\t\tTx error:\t-26.4 dB\n",
      "\t\tRx error:\t-26.4 dB\n",
      "Tgt. SI. -71.6 dB\n",
      "Solutions SDR\\Rank-1:\n",
      "\t\tMax. SI :\t-71.6 dB\n",
      "\t\tTx error:\t-25.5 dB\n",
      "\t\tRx error:\t-25.5 dB\n",
      "Tgt. SI. -72.6 dB\n",
      "Solutions SDR\\Rank-1:\n",
      "\t\tMax. SI :\t-72.6 dB\n",
      "\t\tTx error:\t-24.8 dB\n",
      "\t\tRx error:\t-24.8 dB\n",
      "Tgt. SI. -73.6 dB\n",
      "Solutions SDR\\Rank-1:\n",
      "\t\tMax. SI :\t-73.5 dB\n",
      "\t\tTx error:\t-24.1 dB\n",
      "\t\tRx error:\t-24.1 dB\n",
      "Tgt. SI. -74.6 dB\n",
      "Solutions SDR\\Rank-1:\n",
      "\t\tMax. SI :\t-74.6 dB\n",
      "\t\tTx error:\t-23.5 dB\n",
      "\t\tRx error:\t-23.5 dB\n",
      "Tgt. SI. -75.6 dB\n",
      "Solutions SDR\\Rank-1:\n",
      "\t\tMax. SI :\t-75.6 dB\n",
      "\t\tTx error:\t-22.9 dB\n",
      "\t\tRx error:\t-22.9 dB\n",
      "Tgt. SI. -76.6 dB\n",
      "Solutions SDR\\Rank-1:\n",
      "\t\tMax. SI :\t-76.6 dB\n",
      "\t\tTx error:\t-22.3 dB\n",
      "\t\tRx error:\t-22.3 dB\n",
      "Tgt. SI. -77.6 dB\n",
      "Solutions SDR\\Rank-1:\n",
      "\t\tMax. SI :\t-77.6 dB\n",
      "\t\tTx error:\t-21.7 dB\n",
      "\t\tRx error:\t-21.7 dB\n",
      "Tgt. SI. -78.6 dB\n",
      "Solutions SDR\\Rank-1:\n",
      "\t\tMax. SI :\t-78.6 dB\n",
      "\t\tTx error:\t-21.2 dB\n",
      "\t\tRx error:\t-21.2 dB\n",
      "Tgt. SI. -79.6 dB\n",
      "Solutions SDR\\Rank-1:\n",
      "\t\tMax. SI :\t-79.6 dB\n",
      "\t\tTx error:\t-20.6 dB\n",
      "\t\tRx error:\t-20.6 dB\n",
      "Tgt. SI. -80.6 dB\n",
      "Solutions SDR\\Rank-1:\n",
      "\t\tMax. SI :\t-80.6 dB\n",
      "\t\tTx error:\t-19.9 dB\n",
      "\t\tRx error:\t-19.9 dB\n",
      "Tgt. SI. -81.6 dB\n",
      "Solutions SDR\\Rank-1:\n",
      "\t\tMax. SI :\t-81.5 dB\n",
      "\t\tTx error:\t-19.3 dB\n",
      "\t\tRx error:\t-19.3 dB\n",
      "Tgt. SI. -82.6 dB\n",
      "Solutions SDR\\Rank-1:\n",
      "\t\tMax. SI :\t-82.6 dB\n",
      "\t\tTx error:\t-18.7 dB\n",
      "\t\tRx error:\t-18.7 dB\n",
      "Tgt. SI. -83.6 dB\n",
      "Solutions SDR\\Rank-1:\n",
      "\t\tMax. SI :\t-83.6 dB\n",
      "\t\tTx error:\t-18.1 dB\n",
      "\t\tRx error:\t-18.1 dB\n",
      "Tgt. SI. -84.6 dB\n",
      "Solutions SDR\\Rank-1:\n",
      "\t\tMax. SI :\t-84.6 dB\n",
      "\t\tTx error:\t-17.5 dB\n",
      "\t\tRx error:\t-17.5 dB\n",
      "Tgt. SI. -85.6 dB\n",
      "Solutions SDR\\Rank-1:\n",
      "\t\tMax. SI :\t-85.6 dB\n",
      "\t\tTx error:\t-17.0 dB\n",
      "\t\tRx error:\t-17.0 dB\n",
      "Tgt. SI. -86.6 dB\n",
      "Solutions SDR\\Rank-1:\n",
      "\t\tMax. SI :\t-86.6 dB\n",
      "\t\tTx error:\t-16.5 dB\n",
      "\t\tRx error:\t-16.5 dB\n",
      "Tgt. SI. -87.6 dB\n",
      "Solutions SDR\\Rank-1:\n",
      "\t\tMax. SI :\t-87.6 dB\n",
      "\t\tTx error:\t-16.0 dB\n",
      "\t\tRx error:\t-16.0 dB\n",
      "Tgt. SI. -88.6 dB\n",
      "Solutions SDR\\Rank-1:\n",
      "\t\tMax. SI :\t-88.6 dB\n",
      "\t\tTx error:\t-15.5 dB\n",
      "\t\tRx error:\t-15.5 dB\n",
      "Tgt. SI. -89.6 dB\n",
      "Solutions SDR\\Rank-1:\n",
      "\t\tMax. SI :\t-89.6 dB\n",
      "\t\tTx error:\t-15.1 dB\n",
      "\t\tRx error:\t-15.1 dB\n",
      "Tgt. SI. -90.6 dB\n",
      "Solutions SDR\\Rank-1:\n",
      "\t\tMax. SI :\t-90.6 dB\n",
      "\t\tTx error:\t-14.7 dB\n",
      "\t\tRx error:\t-14.7 dB\n",
      "Tgt. SI. -91.6 dB\n",
      "Solutions SDR\\Rank-1:\n",
      "\t\tMax. SI :\t-91.6 dB\n",
      "\t\tTx error:\t-14.3 dB\n",
      "\t\tRx error:\t-14.3 dB\n",
      "Tgt. SI. -92.6 dB\n",
      "Solutions SDR\\Rank-1:\n",
      "\t\tMax. SI :\t-92.6 dB\n",
      "\t\tTx error:\t-14.0 dB\n",
      "\t\tRx error:\t-14.0 dB\n",
      "Tgt. SI. -93.6 dB\n",
      "Solutions SDR\\Rank-1:\n",
      "\t\tMax. SI :\t-93.6 dB\n",
      "\t\tTx error:\t-13.7 dB\n",
      "\t\tRx error:\t-13.7 dB\n",
      "Tgt. SI. -94.6 dB\n",
      "Solutions SDR\\Rank-1:\n",
      "\t\tMax. SI :\t-94.6 dB\n",
      "\t\tTx error:\t-13.4 dB\n",
      "\t\tRx error:\t-13.4 dB\n",
      "Tgt. SI. -95.6 dB\n",
      "Solutions SDR\\Rank-1:\n",
      "\t\tMax. SI :\t-95.6 dB\n",
      "\t\tTx error:\t-13.1 dB\n",
      "\t\tRx error:\t-13.1 dB\n",
      "Tgt. SI. -96.6 dB\n",
      "Solutions SDR\\Rank-1:\n",
      "\t\tMax. SI :\t-96.6 dB\n",
      "\t\tTx error:\t-12.8 dB\n",
      "\t\tRx error:\t-12.8 dB\n",
      "Tgt. SI. -97.6 dB\n",
      "Solutions SDR\\Rank-1:\n",
      "\t\tMax. SI :\t-97.6 dB\n",
      "\t\tTx error:\t-12.6 dB\n",
      "\t\tRx error:\t-12.6 dB\n",
      "Tgt. SI. -98.6 dB\n",
      "Solutions SDR\\Rank-1:\n",
      "\t\tMax. SI :\t-98.6 dB\n",
      "\t\tTx error:\t-12.3 dB\n",
      "\t\tRx error:\t-12.3 dB\n",
      "Tgt. SI. -99.6 dB\n",
      "Solutions SDR\\Rank-1:\n",
      "\t\tMax. SI :\t-99.6 dB\n",
      "\t\tTx error:\t-12.1 dB\n",
      "\t\tRx error:\t-12.1 dB\n",
      "Tgt. SI. -100.6 dB\n",
      "Solutions SDR\\Rank-1:\n",
      "\t\tMax. SI :\t-100.6 dB\n",
      "\t\tTx error:\t-11.9 dB\n",
      "\t\tRx error:\t-11.9 dB\n",
      "Tgt. SI. -101.6 dB\n",
      "Solutions SDR\\Rank-1:\n",
      "\t\tMax. SI :\t-101.6 dB\n",
      "\t\tTx error:\t-11.7 dB\n",
      "\t\tRx error:\t-11.7 dB\n",
      "Tgt. SI. -102.6 dB\n",
      "Solutions SDR\\Rank-1:\n",
      "\t\tMax. SI :\t-102.6 dB\n",
      "\t\tTx error:\t-11.5 dB\n",
      "\t\tRx error:\t-11.5 dB\n",
      "Tgt. SI. -103.6 dB\n",
      "Solutions SDR\\Rank-1:\n",
      "\t\tMax. SI :\t-103.6 dB\n",
      "\t\tTx error:\t-11.3 dB\n",
      "\t\tRx error:\t-11.3 dB\n",
      "Tgt. SI. -104.6 dB\n",
      "Solutions SDR\\Rank-1:\n",
      "\t\tMax. SI :\t-104.6 dB\n",
      "\t\tTx error:\t-11.1 dB\n",
      "\t\tRx error:\t-11.1 dB\n",
      "Tgt. SI. -105.6 dB\n",
      "Solutions SDR\\Rank-1:\n",
      "\t\tMax. SI :\t-105.6 dB\n",
      "\t\tTx error:\t-10.9 dB\n",
      "\t\tRx error:\t-10.9 dB\n",
      "Tgt. SI. -106.6 dB\n",
      "Solutions SDR\\Rank-1:\n",
      "\t\tMax. SI :\t-106.6 dB\n",
      "\t\tTx error:\t-10.7 dB\n",
      "\t\tRx error:\t-10.7 dB\n",
      "Tgt. SI. -107.6 dB\n",
      "Solutions SDR\\Rank-1:\n",
      "\t\tMax. SI :\t-107.6 dB\n",
      "\t\tTx error:\t-10.5 dB\n",
      "\t\tRx error:\t-10.5 dB\n",
      "Tgt. SI. -108.6 dB\n",
      "Solutions SDR\\Rank-1:\n",
      "\t\tMax. SI :\t-108.6 dB\n",
      "\t\tTx error:\t-10.3 dB\n",
      "\t\tRx error:\t-10.3 dB\n",
      "Tgt. SI. -109.6 dB\n",
      "Solutions SDR\\Rank-1:\n",
      "\t\tMax. SI :\t-109.6 dB\n",
      "\t\tTx error:\t-10.2 dB\n",
      "\t\tRx error:\t-10.2 dB\n",
      "Tgt. SI. -110.6 dB\n",
      "Solutions SDR\\Rank-1:\n",
      "\t\tMax. SI :\t-110.6 dB\n",
      "\t\tTx error:\t-10.0 dB\n",
      "\t\tRx error:\t-10.0 dB\n",
      "Tgt. SI. -111.6 dB\n",
      "Solutions SDR\\Rank-1:\n",
      "\t\tMax. SI :\t-111.6 dB\n",
      "\t\tTx error:\t-9.8 dB\n",
      "\t\tRx error:\t-9.8 dB\n",
      "Tgt. SI. -112.6 dB\n",
      "Solutions SDR\\Rank-1:\n",
      "\t\tMax. SI :\t-112.6 dB\n",
      "\t\tTx error:\t-9.6 dB\n",
      "\t\tRx error:\t-9.6 dB\n",
      "Tgt. SI. -113.6 dB\n",
      "Solutions SDR\\Rank-1:\n",
      "\t\tMax. SI :\t-113.6 dB\n",
      "\t\tTx error:\t-9.4 dB\n",
      "\t\tRx error:\t-9.4 dB\n",
      "Tgt. SI. -114.6 dB\n",
      "Solutions SDR\\Rank-1:\n",
      "\t\tMax. SI :\t-114.6 dB\n",
      "\t\tTx error:\t-9.2 dB\n",
      "\t\tRx error:\t-9.2 dB\n",
      "Tgt. SI. -115.6 dB\n",
      "Solutions SDR\\Rank-1:\n",
      "\t\tMax. SI :\t-115.6 dB\n",
      "\t\tTx error:\t-9.0 dB\n",
      "\t\tRx error:\t-9.0 dB\n",
      "Tgt. SI. -116.6 dB\n",
      "Solutions SDR\\Rank-1:\n",
      "\t\tMax. SI :\t-116.6 dB\n",
      "\t\tTx error:\t-8.9 dB\n",
      "\t\tRx error:\t-8.9 dB\n",
      "Tgt. SI. -117.6 dB\n",
      "Solutions SDR\\Rank-1:\n",
      "\t\tMax. SI :\t-117.6 dB\n",
      "\t\tTx error:\t-8.7 dB\n",
      "\t\tRx error:\t-8.7 dB\n",
      "Tgt. SI. -118.6 dB\n",
      "Solutions SDR\\Rank-1:\n",
      "\t\tMax. SI :\t-118.6 dB\n",
      "\t\tTx error:\t-8.5 dB\n",
      "\t\tRx error:\t-8.5 dB\n",
      "Tgt. SI. -119.6 dB\n",
      "Solutions SDR\\Rank-1:\n",
      "\t\tMax. SI :\t-119.6 dB\n",
      "\t\tTx error:\t-8.3 dB\n",
      "\t\tRx error:\t-8.3 dB\n",
      "Tgt. SI. -120.6 dB\n",
      "Solutions SDR\\Rank-1:\n",
      "\t\tMax. SI :\t-120.6 dB\n",
      "\t\tTx error:\t-8.1 dB\n",
      "\t\tRx error:\t-8.1 dB\n",
      "Tgt. SI. -121.6 dB\n",
      "Solutions SDR\\Rank-1:\n",
      "\t\tMax. SI :\t-121.6 dB\n",
      "\t\tTx error:\t-8.0 dB\n",
      "\t\tRx error:\t-8.0 dB\n",
      "Tgt. SI. -122.6 dB\n",
      "Solutions SDR\\Rank-1:\n",
      "\t\tMax. SI :\t-122.6 dB\n",
      "\t\tTx error:\t-7.8 dB\n",
      "\t\tRx error:\t-7.8 dB\n",
      "Tgt. SI. -123.6 dB\n",
      "Solutions SDR\\Rank-1:\n",
      "\t\tMax. SI :\t-123.6 dB\n",
      "\t\tTx error:\t-7.7 dB\n",
      "\t\tRx error:\t-7.7 dB\n",
      "Tgt. SI. -124.6 dB\n",
      "Solutions SDR\\Rank-1:\n",
      "\t\tMax. SI :\t-124.6 dB\n",
      "\t\tTx error:\t-7.5 dB\n",
      "\t\tRx error:\t-7.5 dB\n",
      "Tgt. SI. -125.6 dB\n",
      "Solutions SDR\\Rank-1:\n",
      "\t\tMax. SI :\t-125.6 dB\n",
      "\t\tTx error:\t-7.4 dB\n",
      "\t\tRx error:\t-7.4 dB\n",
      "Tgt. SI. -126.6 dB\n",
      "Solutions SDR\\Rank-1:\n",
      "\t\tMax. SI :\t-126.6 dB\n",
      "\t\tTx error:\t-7.3 dB\n",
      "\t\tRx error:\t-7.3 dB\n",
      "Tgt. SI. -127.6 dB\n",
      "Solutions SDR\\Rank-1:\n",
      "\t\tMax. SI :\t-127.6 dB\n",
      "\t\tTx error:\t-7.1 dB\n",
      "\t\tRx error:\t-7.1 dB\n",
      "Tgt. SI. -128.6 dB\n",
      "Solutions SDR\\Rank-1:\n",
      "\t\tMax. SI :\t-128.6 dB\n",
      "\t\tTx error:\t-7.0 dB\n",
      "\t\tRx error:\t-7.0 dB\n",
      "Tgt. SI. -129.6 dB\n",
      "Solutions SDR\\Rank-1:\n",
      "\t\tMax. SI :\t-129.6 dB\n",
      "\t\tTx error:\t-6.9 dB\n",
      "\t\tRx error:\t-6.9 dB\n",
      "Tgt. SI. -130.6 dB\n",
      "Solutions SDR\\Rank-1:\n",
      "\t\tMax. SI :\t-130.6 dB\n",
      "\t\tTx error:\t-6.8 dB\n",
      "\t\tRx error:\t-6.8 dB\n",
      "Tgt. SI. -131.6 dB\n",
      "Solutions SDR\\Rank-1:\n",
      "\t\tMax. SI :\t-131.6 dB\n",
      "\t\tTx error:\t-6.6 dB\n",
      "\t\tRx error:\t-6.6 dB\n",
      "Tgt. SI. -132.6 dB\n",
      "Solutions SDR\\Rank-1:\n",
      "\t\tMax. SI :\t-132.6 dB\n",
      "\t\tTx error:\t-6.5 dB\n",
      "\t\tRx error:\t-6.5 dB\n",
      "Tgt. SI. -133.6 dB\n",
      "Solutions SDR\\Rank-1:\n",
      "\t\tMax. SI :\t-133.6 dB\n",
      "\t\tTx error:\t-6.4 dB\n",
      "\t\tRx error:\t-6.4 dB\n",
      "Tgt. SI. -134.6 dB\n",
      "Solutions SDR\\Rank-1:\n",
      "\t\tMax. SI :\t-134.6 dB\n",
      "\t\tTx error:\t-6.3 dB\n",
      "\t\tRx error:\t-6.3 dB\n",
      "Tgt. SI. -135.6 dB\n",
      "Solutions SDR\\Rank-1:\n",
      "\t\tMax. SI :\t-135.6 dB\n",
      "\t\tTx error:\t-6.2 dB\n",
      "\t\tRx error:\t-6.2 dB\n",
      "Tgt. SI. -136.6 dB\n",
      "Solutions SDR\\Rank-1:\n",
      "\t\tMax. SI :\t-136.6 dB\n",
      "\t\tTx error:\t-6.1 dB\n",
      "\t\tRx error:\t-6.1 dB\n",
      "Tgt. SI. -137.6 dB\n",
      "Solutions SDR\\Rank-1:\n",
      "\t\tMax. SI :\t-137.6 dB\n",
      "\t\tTx error:\t-6.0 dB\n",
      "\t\tRx error:\t-6.0 dB\n",
      "Tgt. SI. -138.6 dB\n",
      "Solutions SDR\\Rank-1:\n",
      "\t\tMax. SI :\t-138.6 dB\n",
      "\t\tTx error:\t-5.9 dB\n",
      "\t\tRx error:\t-5.9 dB\n",
      "Tgt. SI. -139.6 dB\n",
      "Solutions SDR\\Rank-1:\n",
      "\t\tMax. SI :\t-139.6 dB\n",
      "\t\tTx error:\t-5.8 dB\n",
      "\t\tRx error:\t-5.8 dB\n",
      "Tgt. SI. -140.6 dB\n",
      "Solutions SDR\\Rank-1:\n",
      "\t\tMax. SI :\t-140.6 dB\n",
      "\t\tTx error:\t-5.7 dB\n",
      "\t\tRx error:\t-5.7 dB\n",
      "Tgt. SI. -141.6 dB\n",
      "Solutions SDR\\Rank-1:\n",
      "\t\tMax. SI :\t-141.6 dB\n",
      "\t\tTx error:\t-5.6 dB\n",
      "\t\tRx error:\t-5.6 dB\n",
      "Tgt. SI. -142.6 dB\n",
      "Solutions SDR\\Rank-1:\n",
      "\t\tMax. SI :\t-142.6 dB\n",
      "\t\tTx error:\t-5.5 dB\n",
      "\t\tRx error:\t-5.5 dB\n",
      "Tgt. SI. -143.6 dB\n",
      "Solutions SDR\\Rank-1:\n",
      "\t\tMax. SI :\t-143.6 dB\n",
      "\t\tTx error:\t-5.4 dB\n",
      "\t\tRx error:\t-5.4 dB\n",
      "Tgt. SI. -144.6 dB\n",
      "Solutions SDR\\Rank-1:\n",
      "\t\tMax. SI :\t-144.7 dB\n",
      "\t\tTx error:\t-5.3 dB\n",
      "\t\tRx error:\t-5.3 dB\n",
      "Tgt. SI. -145.6 dB\n",
      "Solutions SDR\\Rank-1:\n",
      "\t\tMax. SI :\t-145.7 dB\n",
      "\t\tTx error:\t-5.2 dB\n",
      "\t\tRx error:\t-5.2 dB\n",
      "Tgt. SI. -146.6 dB\n",
      "Solutions SDR\\Rank-1:\n",
      "\t\tMax. SI :\t-146.7 dB\n",
      "\t\tTx error:\t-5.1 dB\n",
      "\t\tRx error:\t-5.1 dB\n",
      "Tgt. SI. -147.6 dB\n",
      "Solutions SDR\\Rank-1:\n",
      "\t\tMax. SI :\t-147.7 dB\n",
      "\t\tTx error:\t-5.0 dB\n",
      "\t\tRx error:\t-5.0 dB\n",
      "Tgt. SI. -148.6 dB\n",
      "Solutions SDR\\Rank-1:\n",
      "\t\tMax. SI :\t-148.8 dB\n",
      "\t\tTx error:\t-4.9 dB\n",
      "\t\tRx error:\t-4.9 dB\n",
      "Tgt. SI. -149.6 dB\n",
      "Solutions SDR\\Rank-1:\n",
      "\t\tMax. SI :\t-149.8 dB\n",
      "\t\tTx error:\t-4.8 dB\n",
      "\t\tRx error:\t-4.8 dB\n",
      "Tgt. SI. -150.6 dB\n",
      "Solutions SDR\\Rank-1:\n",
      "\t\tMax. SI :\t-150.8 dB\n",
      "\t\tTx error:\t-4.7 dB\n",
      "\t\tRx error:\t-4.7 dB\n",
      "Tgt. SI. -151.6 dB\n",
      "Solutions SDR\\Rank-1:\n",
      "\t\tMax. SI :\t-151.9 dB\n",
      "\t\tTx error:\t-4.6 dB\n",
      "\t\tRx error:\t-4.6 dB\n",
      "Tgt. SI. -152.6 dB\n",
      "Solutions SDR\\Rank-1:\n",
      "\t\tMax. SI :\t-152.9 dB\n",
      "\t\tTx error:\t-4.5 dB\n",
      "\t\tRx error:\t-4.5 dB\n",
      "Tgt. SI. -153.6 dB\n",
      "Solutions SDR\\Rank-1:\n",
      "\t\tMax. SI :\t-153.9 dB\n",
      "\t\tTx error:\t-4.4 dB\n",
      "\t\tRx error:\t-4.4 dB\n",
      "Tgt. SI. -154.6 dB\n",
      "Solutions SDR\\Rank-1:\n",
      "\t\tMax. SI :\t-154.9 dB\n",
      "\t\tTx error:\t-4.3 dB\n",
      "\t\tRx error:\t-4.3 dB\n",
      "Tgt. SI. -155.6 dB\n",
      "Solutions SDR\\Rank-1:\n",
      "\t\tMax. SI :\t-155.9 dB\n",
      "\t\tTx error:\t-4.2 dB\n",
      "\t\tRx error:\t-4.2 dB\n",
      "Tgt. SI. -156.6 dB\n",
      "Solutions SDR\\Rank-1:\n",
      "\t\tMax. SI :\t-156.9 dB\n",
      "\t\tTx error:\t-4.1 dB\n",
      "\t\tRx error:\t-4.1 dB\n",
      "Tgt. SI. -157.6 dB\n",
      "Solutions SDR\\Rank-1:\n",
      "\t\tMax. SI :\t-158.0 dB\n",
      "\t\tTx error:\t-4.0 dB\n",
      "\t\tRx error:\t-4.0 dB\n",
      "Tgt. SI. -158.6 dB\n",
      "Solutions SDR\\Rank-1:\n",
      "\t\tMax. SI :\t-159.0 dB\n",
      "\t\tTx error:\t-3.9 dB\n",
      "\t\tRx error:\t-3.9 dB\n",
      "Tgt. SI. -159.6 dB\n",
      "Solutions SDR\\Rank-1:\n",
      "\t\tMax. SI :\t-159.9 dB\n",
      "\t\tTx error:\t-3.8 dB\n",
      "\t\tRx error:\t-3.8 dB\n",
      "Tgt. SI. -160.6 dB\n",
      "Solutions SDR\\Rank-1:\n",
      "\t\tMax. SI :\t-160.9 dB\n",
      "\t\tTx error:\t-3.7 dB\n",
      "\t\tRx error:\t-3.7 dB\n",
      "Tgt. SI. -161.6 dB\n",
      "Solutions SDR\\Rank-1:\n",
      "\t\tMax. SI :\t-161.9 dB\n",
      "\t\tTx error:\t-3.6 dB\n",
      "\t\tRx error:\t-3.6 dB\n",
      "Tgt. SI. -162.6 dB\n",
      "Solutions SDR\\Rank-1:\n",
      "\t\tMax. SI :\t-162.9 dB\n",
      "\t\tTx error:\t-3.5 dB\n",
      "\t\tRx error:\t-3.5 dB\n",
      "Tgt. SI. -163.6 dB\n",
      "Solutions SDR\\Rank-1:\n",
      "\t\tMax. SI :\t-163.9 dB\n",
      "\t\tTx error:\t-3.3 dB\n",
      "\t\tRx error:\t-3.3 dB\n",
      "Tgt. SI. -164.6 dB\n",
      "Solutions SDR\\Rank-1:\n",
      "\t\tMax. SI :\t-165.1 dB\n",
      "\t\tTx error:\t-3.2 dB\n",
      "\t\tRx error:\t-3.2 dB\n",
      "Tgt. SI. -165.6 dB\n",
      "Solutions SDR\\Rank-1:\n",
      "\t\tMax. SI :\t-165.9 dB\n",
      "\t\tTx error:\t-3.0 dB\n",
      "\t\tRx error:\t-3.0 dB\n"
     ]
    }
   ],
   "source": [
    "opt_times = np.array([r[\"elapsed_time\"] for r in results], dtype=float)\n",
    "opt_times = opt_times[~np.isnan(opt_times)] * 1000\n",
    "mean_t, median_t = np.mean(opt_times), np.median(opt_times)\n",
    "print(f\"(Mean\\Median) Optimization time:\\t{mean_t:.2f}\\\\{median_t:.2f} ms\")\n",
    "pbuf.print()"
   ]
  },
  {
   "cell_type": "markdown",
   "id": "48542c25-d288-4668-bbeb-c092ad3666da",
   "metadata": {},
   "source": [
    "## Saving results"
   ]
  },
  {
   "cell_type": "code",
   "execution_count": 10,
   "id": "34b09dcbf734bc8f",
   "metadata": {
    "ExecuteTime": {
     "end_time": "2024-09-27T16:58:43.806358Z",
     "start_time": "2024-09-27T16:58:43.785386Z"
    }
   },
   "outputs": [
    {
     "name": "stdout",
     "output_type": "stream",
     "text": [
      "Results saved under /mnt/project/results/cissir_cb_results_taper_1tap_si.csv\n",
      "Results saved under /mnt/project/results/spectral_beam_results_1tap.json\n"
     ]
    }
   ],
   "source": [
    "res_file = res_path/f\"cissir_cb_results_taper_{si_num_taps}tap_si.csv\"\n",
    "res_df = pd.DataFrame(results)\n",
    "res_df.to_csv(res_file)\n",
    "print(f\"Results saved under {res_file}\")\n",
    "json_fname = res_path/f\"spectral_beam_results_{si_num_taps}tap.json\"\n",
    "with open(json_fname, 'w', encoding ='utf8') as json_file:\n",
    "    json.dump(beam_results, json_file)\n",
    "print(f\"Results saved under {json_fname}\")"
   ]
  },
  {
   "cell_type": "code",
   "execution_count": 11,
   "id": "9fa2a6d2-e24c-4a76-8dc1-ca512cfa5da8",
   "metadata": {
    "ExecuteTime": {
     "end_time": "2024-09-27T16:58:44.592066Z",
     "start_time": "2024-09-27T16:58:44.136497Z"
    },
    "tags": []
   },
   "outputs": [
    {
     "name": "stdout",
     "output_type": "stream",
     "text": [
      "spectral_codebooks.npz was saved at /mnt/project/results.\n"
     ]
    }
   ],
   "source": [
    "method = \"spectral\"\n",
    "\n",
    "si_values = [si_db_ref]\n",
    "si_achieved = [si_db_ref]\n",
    "tx_codebooks = [dft_tx_codebook]\n",
    "rx_codebooks = [dft_rx_codebook]\n",
    "for cb in codebooks:\n",
    "    si_values.append(cb[\"si_tgt\"])\n",
    "    si_achieved.append(cb[\"si_opt\"])\n",
    "    tx_codebooks.append(cb[\"tx_codebook_p\"])\n",
    "    rx_codebooks.append(cb[\"rx_codebook_p\"])\n",
    "\n",
    "si_values = np.array(si_values) \n",
    "tx_codebooks = np.stack(tx_codebooks, axis=0)\n",
    "rx_codebooks = np.stack(rx_codebooks, axis=0)\n",
    "tx_dev = np.array([-np.inf] + [r[\"tx_loss\"] for r in results]).astype(float)\n",
    "rx_dev = np.array([-np.inf] + [r[\"rx_loss\"] for r in results]).astype(float)\n",
    "\n",
    "metadata = np.array({\"method\": method, \"phased\": phased_array, \"si_num_taps\": si_num_taps,\n",
    "                     \"norm\": \"max\"})\n",
    "fname = f\"{method}_codebooks.npz\"\n",
    "np.savez(res_path/fname, si_tgt=si_values,\n",
    "         si_opt=si_achieved, tx_dev=tx_dev, rx_dev=rx_dev,\n",
    "         rx_degrees=rx_degs, tx_degrees=tx_degs,\n",
    "         rx=rx_codebooks, tx=tx_codebooks,\n",
    "         metadata=metadata)\n",
    "print(f\"{fname} was saved at {res_path}.\")"
   ]
  },
  {
   "cell_type": "code",
   "execution_count": 12,
   "id": "3e03d302-9e3a-42d2-a82e-81eed7d1bf50",
   "metadata": {
    "ExecuteTime": {
     "end_time": "2024-09-27T16:58:49.632420Z",
     "start_time": "2024-09-27T16:58:49.629936Z"
    },
    "tags": []
   },
   "outputs": [],
   "source": [
    "extra_att_cutoff = 6\n",
    "si_cutoff = si_db_ref - extra_att_cutoff\n",
    "si_mask = si_values < si_cutoff\n",
    "tx_mag = np.abs(tx_codebooks[si_mask,].flatten())*np.sqrt(N_t)\n",
    "rx_mag = np.abs(rx_codebooks[si_mask,].flatten())*np.sqrt(N_r)"
   ]
  },
  {
   "cell_type": "code",
   "execution_count": 13,
   "id": "8daf5343-520b-4a8f-8dd1-aafb181e4a37",
   "metadata": {
    "ExecuteTime": {
     "end_time": "2024-09-27T16:58:52.879400Z",
     "start_time": "2024-09-27T16:58:52.636270Z"
    },
    "tags": []
   },
   "outputs": [
    {
     "data": {
      "image/png": "[encoded data removed]",
      "text/plain": [
       "<Figure size 525x397.5 with 1 Axes>"
      ]
     },
     "metadata": {},
     "output_type": "display_data"
    }
   ],
   "source": [
    "_ = plt.hist(tx_mag, bins=tx_codebooks.size//200,\n",
    "             cumulative=True, density=True)\n",
    "_ = plt.xlabel(\"Antenna port magnitude\")\n",
    "_ = plt.ylabel(\"CDF\")\n",
    "_ = plt.xlim(min(tx_mag), max(tx_mag))\n",
    "_ = plt.title(rf\"Tapering magnitude for SI \\textless {si_cutoff:.1f} dB\")"
   ]
  },
  {
   "cell_type": "code",
   "execution_count": 14,
   "id": "7f4008e6-fe69-4040-82a1-781f98981ffe",
   "metadata": {
    "ExecuteTime": {
     "end_time": "2024-09-19T15:22:16.697691Z",
     "start_time": "2024-09-19T15:22:16.695009Z"
    }
   },
   "outputs": [],
   "source": [
    "with np.load(res_path/\"spectral_codebooks.npz\") as cb_data:\n",
    "    si_achieved = cb_data[\"si_opt\"]\n",
    "    si_values = cb_data[\"si_tgt\"]\n",
    "    tx_codebooks = cb_data[\"tx\"]\n",
    "    L_t = tx_codebooks.shape[-1]\n",
    "    rx_codebooks = cb_data[\"rx\"]\n",
    "    L_r = rx_codebooks.shape[-1]\n",
    "\n",
    "    tx_dev = cb_data[\"tx_dev\"]\n",
    "    rx_dev = cb_data[\"rx_dev\"]\n",
    "\n",
    "    tx_degs = cb_data[\"tx_degrees\"]\n",
    "    rx_degs = cb_data[\"rx_degrees\"]\n",
    "    beam_degs = tx_degs"
   ]
  },
  {
   "cell_type": "code",
   "execution_count": 15,
   "id": "4f4150c2-e726-4a06-ba45-2cf6815ac960",
   "metadata": {
    "ExecuteTime": {
     "end_time": "2024-09-19T15:22:16.697691Z",
     "start_time": "2024-09-19T15:22:16.695009Z"
    }
   },
   "outputs": [],
   "source": [
    "plot_si = -130\n",
    "si_index = np.argmin(np.abs(np.array(si_values) - plot_si))\n",
    "si_db_val = si_values[si_index]\n",
    "tx_dev_val = tx_dev[si_index]\n",
    "opt_tx_codebook = tx_codebooks[si_index,]\n",
    "opt_rx_codebook = rx_codebooks[si_index,]"
   ]
  },
  {
   "cell_type": "code",
   "execution_count": 16,
   "id": "5f404a24-ef48-4c22-b2a8-3a9ad749497c",
   "metadata": {
    "ExecuteTime": {
     "end_time": "2024-09-19T15:22:28.072633Z",
     "start_time": "2024-09-19T15:22:21.726046Z"
    }
   },
   "outputs": [],
   "source": [
    "antenna_pattern = Antenna(params.antenna_pattern, polarization=params.antenna_polarization).patterns\n",
    "rad_pattern = lambda x: sum(sum(np.abs(p)**2 for p in pat(np.pi/2, x)) for pat in antenna_pattern)"
   ]
  },
  {
   "cell_type": "code",
   "execution_count": 17,
   "id": "fdd60169-2ec3-4a47-a01b-e92188072f97",
   "metadata": {
    "ExecuteTime": {
     "end_time": "2024-09-19T15:22:28.072633Z",
     "start_time": "2024-09-19T15:22:21.726046Z"
    }
   },
   "outputs": [
    {
     "data": {
      "text/plain": [
       "-129.5576385107767"
      ]
     },
     "execution_count": 17,
     "metadata": {},
     "output_type": "execute_result"
    }
   ],
   "source": [
    "si_db_val"
   ]
  },
  {
   "cell_type": "code",
   "execution_count": 18,
   "id": "2775ae8d-0d31-4a4a-807c-573c3751cc18",
   "metadata": {
    "ExecuteTime": {
     "end_time": "2024-09-19T15:22:28.072633Z",
     "start_time": "2024-09-19T15:22:21.726046Z"
    }
   },
   "outputs": [
    {
     "data": {
      "image/png": "[encoded data removed]",
      "text/plain": [
       "<Figure size 525x397.5 with 1 Axes>"
      ]
     },
     "metadata": {},
     "output_type": "display_data"
    }
   ],
   "source": [
    "thetas = np.deg2rad(np.arange(-75, 80, 15))\n",
    "\n",
    "offset, stride = 1, 2\n",
    "f, ax = plt.subplots(subplot_kw={'projection': 'polar'})\n",
    "tx_kwargs = dict(transmit=True, element_pattern=rad_pattern, axis=ax, r_lim=(-5, 18), alpha=0.9, linewidth=0.7, theta_lim=(-5*np.pi/12, 5*np.pi/12))\n",
    "_ = plot_beamforming_polar(dft_tx_codebook[:, offset::stride], linestyle=\"--\", color_palette=\"husl\", **tx_kwargs, label=\"Reference\", zorder=20)\n",
    "_ = plot_beamforming_polar(opt_tx_codebook[:, offset::stride], color_palette=\"husl\", **tx_kwargs,\n",
    "                           label=\"Optimized\", zorder=10)\n",
    "\n",
    "ax.set_xticks(thetas)\n",
    "xticks = ax.get_xticklabels()\n",
    "_ = ax.set_xticklabels([tick if i % 2 == 1 else None for i, tick in enumerate(xticks)])\n",
    "\n",
    "handles, labels = ax.get_legend_handles_labels()\n",
    "ax.legend(handles[:1]+handles[L_t//stride+1:L_t//stride+2],\n",
    "          [\"Reference\", rf\"CISSIR ($\\varepsilon={si_db_val:.1f}$ dB)\"],\n",
    "          loc=\"upper center\",\n",
    "          ncol=2, prop={'size': 10}, columnspacing=0.8, \n",
    "          bbox_to_anchor=(0.5, 1.01))\n",
    "ax.set_xlabel(\"TX array gain [dBi]\")\n",
    "ax.xaxis.labelpad = -25"
   ]
  }
 ],
 "metadata": {
  "kernelspec": {
   "display_name": "Python 3 (ipykernel)",
   "language": "python",
   "name": "python3"
  },
  "language_info": {
   "codemirror_mode": {
    "name": "ipython",
    "version": 3
   },
   "file_extension": ".py",
   "mimetype": "text/x-python",
   "name": "python",
   "nbconvert_exporter": "python",
   "pygments_lexer": "ipython3",
   "version": "3.8.10"
  }
 },
 "nbformat": 4,
 "nbformat_minor": 5
}
