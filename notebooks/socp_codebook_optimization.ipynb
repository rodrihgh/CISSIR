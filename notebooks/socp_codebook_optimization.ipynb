{
 "cells": [
  {
   "cell_type": "markdown",
   "id": "31c2874f-3ad9-4994-a21b-aaab3a78b7ab",
   "metadata": {},
   "source": [
    "# SOCP Codebook optimization"
   ]
  },
  {
   "cell_type": "markdown",
   "id": "2dfa7e58-6b11-4ef5-ba6f-5f99d8a621ee",
   "metadata": {},
   "source": [
    "## Setup"
   ]
  },
  {
   "cell_type": "code",
   "execution_count": 1,
   "id": "f86a7c9a-2faf-465f-a70b-54bd0cc60f84",
   "metadata": {
    "ExecuteTime": {
     "end_time": "2024-09-19T13:26:29.096884Z",
     "start_time": "2024-09-19T13:26:29.094017Z"
    }
   },
   "outputs": [],
   "source": [
    "import time\n",
    "\n",
    "import numpy as np\n",
    "import pandas as pd\n",
    "from tqdm.notebook import tqdm\n",
    "\n",
    "from pathlib import Path\n",
    "from cissir.physics import pow2db, db2power, mag2db\n",
    "\n",
    "from cissir import params, optimization as opt\n",
    "from cissir.beamforming import dft_codebook\n",
    "from cissir.utils import PrintBuffer\n",
    "\n",
    "base_path = Path.cwd().parent\n",
    "plot_path = base_path/\"plots\"\n",
    "res_path = base_path/\"results\""
   ]
  },
  {
   "cell_type": "code",
   "execution_count": 2,
   "id": "87db658e-7c9d-4934-ad21-416c2bb10b79",
   "metadata": {
    "ExecuteTime": {
     "end_time": "2024-09-19T13:26:29.507914Z",
     "start_time": "2024-09-19T13:26:29.505474Z"
    }
   },
   "outputs": [],
   "source": [
    "# Global parameters\n",
    "\n",
    "c = params.c\n",
    "fc = params.fc_hz\n",
    "wavelength_m = params.wavelength_m\n",
    "\n",
    "ula_el_spacing = params.array_electrical_spacing\n",
    "\n",
    "N_r = params.n_rx\n",
    "N_t = params.n_tx\n",
    "\n",
    "# Number of beams\n",
    "L_r = params.num_beams\n",
    "L_t = params.num_beams"
   ]
  },
  {
   "cell_type": "markdown",
   "id": "6b0b9aba-f00e-403c-97c8-d5e7b36668af",
   "metadata": {},
   "source": [
    "### DFT beam codebook\n"
   ]
  },
  {
   "cell_type": "code",
   "execution_count": 3,
   "id": "5812a6a6-e14d-4de4-a222-54afc08ef8ba",
   "metadata": {
    "ExecuteTime": {
     "end_time": "2024-09-19T13:26:30.444823Z",
     "start_time": "2024-09-19T13:26:30.441319Z"
    }
   },
   "outputs": [],
   "source": [
    "dft_tx_codebook, tx_degs = dft_codebook(L_max = L_t , N1 = N_t,\n",
    "                                          az_min = -60, az_max = 60, transmit=True)\n",
    "dft_rx_codebook, rx_degs = dft_codebook(L_max = L_r , N1 = N_r,\n",
    "                                          az_min = -60, az_max = 60, transmit=False)"
   ]
  },
  {
   "cell_type": "code",
   "execution_count": 4,
   "id": "ce806a2e-57bf-4f22-82a7-0440d1ddebf7",
   "metadata": {
    "ExecuteTime": {
     "end_time": "2024-09-19T13:26:35.291614Z",
     "start_time": "2024-09-19T13:26:35.284096Z"
    }
   },
   "outputs": [],
   "source": [
    "si_num_taps = \"full\"\n",
    "\n",
    "with np.load(res_path/\"channel_impulse_responses.npz\") as rt_data:\n",
    "    t_rt = np.squeeze(rt_data['t_channel_s'])\n",
    "    ht_si_full = np.squeeze(rt_data['ht_si'])\n",
    "    h_full = np.sum(ht_si_full, axis=0).transpose(2, 0, 1)\n",
    "\n",
    "if si_num_taps == \"full\":\n",
    "        h_si = np.sum(ht_si_full, axis=0).transpose(2, 0, 1)\n",
    "        si_pow_db = mag2db(np.max(opt.codebook_si(dft_tx_codebook, dft_rx_codebook, h_si)))\n",
    "else:\n",
    "    with np.load(res_path/\"si_mimo.npz\") as rt_data:\n",
    "        h_si = rt_data['h_si_matrix'][:si_num_taps]\n",
    "\n",
    "        h_cir = np.sum(ht_si_full[:si_num_taps,], axis=0).transpose(2, 0, 1)\n",
    "        si_pow_db = mag2db(np.max(opt.codebook_si(dft_tx_codebook, dft_rx_codebook, h_cir)))\n",
    "    \n",
    "        assert h_si.shape == (si_num_taps, N_r, N_t), \"Unexpected SI shape\"\n"
   ]
  },
  {
   "cell_type": "code",
   "execution_count": 5,
   "id": "8509f91e-dc39-4d9c-8107-affdc5972675",
   "metadata": {
    "ExecuteTime": {
     "end_time": "2024-09-19T13:26:35.311868Z",
     "start_time": "2024-09-19T13:26:35.292383Z"
    }
   },
   "outputs": [],
   "source": [
    "h_si_rx, h_si_tx = opt.si_split(h_si)\n",
    "\n",
    "si_normalized_ref = mag2db(np.max(opt.codebook_si(dft_tx_codebook, dft_rx_codebook, h_si)))\n",
    "si_norm_db = float(si_pow_db) - si_normalized_ref\n",
    "si_db_ref = si_normalized_ref + si_norm_db\n"
   ]
  },
  {
   "cell_type": "code",
   "execution_count": 6,
   "id": "62e884e9-d34b-419b-848e-f3c79698e086",
   "metadata": {
    "ExecuteTime": {
     "end_time": "2024-09-19T13:26:35.311868Z",
     "start_time": "2024-09-19T13:26:35.292383Z"
    }
   },
   "outputs": [],
   "source": [
    "min_eigval_db = mag2db(opt.min_eigval(h_si))\n",
    "max_eigval_db = mag2db(opt.max_eigval(h_si))\n",
    "\n",
    "min_split_db = pow2db(opt.min_eigval(h_si_rx)*opt.min_eigval(h_si_tx))\n",
    "max_split_db = pow2db(opt.max_eigval(h_si_rx)*opt.max_eigval(h_si_tx))"
   ]
  },
  {
   "cell_type": "code",
   "execution_count": 7,
   "id": "ac2e6169-ced2-4e22-8b99-b250b5c2a38c",
   "metadata": {
    "ExecuteTime": {
     "end_time": "2024-09-19T13:26:35.311868Z",
     "start_time": "2024-09-19T13:26:35.292383Z"
    }
   },
   "outputs": [
    {
     "name": "stdout",
     "output_type": "stream",
     "text": [
      "      eig_min H: -286.8 dB\n",
      "eig_min Grx\\Gtx: -147.6 dB\n",
      "            cHw: -67.5 dB\n",
      "      eig_max H: -59.7 dB\n",
      "eig_max Grx\\Gtx: -40.4 dB\n"
     ]
    }
   ],
   "source": [
    "print(f\"      eig_min H: {min_eigval_db+si_norm_db:.1f} dB\")\n",
    "print(f\"eig_min Grx\\Gtx: {min_split_db+si_norm_db:.1f} dB\")\n",
    "print(f\"            cHw: {si_db_ref:.1f} dB\")\n",
    "print(f\"      eig_max H: {max_eigval_db+si_norm_db:.1f} dB\")\n",
    "print(f\"eig_max Grx\\Gtx: {max_split_db+si_norm_db:.1f} dB\")"
   ]
  },
  {
   "cell_type": "markdown",
   "id": "45955310-1b3c-43af-8d40-36e816cecee3",
   "metadata": {},
   "source": [
    "## Optimization"
   ]
  },
  {
   "cell_type": "code",
   "execution_count": 8,
   "id": "4bce53ae-9fce-4485-ba4f-764b4e32d2b2",
   "metadata": {
    "ExecuteTime": {
     "end_time": "2024-09-19T13:26:36.466158Z",
     "start_time": "2024-09-19T13:26:36.463999Z"
    }
   },
   "outputs": [],
   "source": [
    "extra_attenuations = np.arange(-1, 70, 1)\n",
    "feasible_tolerance = 1e-2\n",
    "pbuf = PrintBuffer(print_input=False)"
   ]
  },
  {
   "cell_type": "code",
   "execution_count": 9,
   "id": "ae3987bf-ba12-49fb-baa3-7a8352da4b5c",
   "metadata": {
    "ExecuteTime": {
     "end_time": "2024-09-19T13:27:04.271918Z",
     "start_time": "2024-09-19T13:26:39.070291Z"
    }
   },
   "outputs": [
    {
     "data": {
      "application/vnd.jupyter.widget-view+json": {
       "model_id": "e68edbf8c5c04ad790485c343e6caeaa",
       "version_major": 2,
       "version_minor": 0
      },
      "text/plain": [
       "  0%|          | 0/71 [00:00<?, ?it/s]"
      ]
     },
     "metadata": {},
     "output_type": "display_data"
    },
    {
     "name": "stdout",
     "output_type": "stream",
     "text": [
      "Feasibility error violated, finishing optimization...\n"
     ]
    }
   ],
   "source": [
    "debug_collector = []\n",
    "results = []\n",
    "codebooks = []\n",
    "\n",
    "phased_array = True\n",
    "socpCodebooks = opt.SOCPcodebook(h_si, dft_tx_codebook, dft_rx_codebook,\n",
    "                                si_threshold_power=1.0, beta=0.5, phased=phased_array)\n",
    "\n",
    "pbar = tqdm(extra_attenuations)\n",
    "pbar.set_description(f\"Baseline SI {si_db_ref:.1f} dB\")\n",
    "for extra_att_db in pbar:\n",
    "    \n",
    "    gain_norm_db = si_normalized_ref - extra_att_db \n",
    "    att_db = -(si_norm_db + gain_norm_db)\n",
    "\n",
    "    tgt_si_pow = db2power(gain_norm_db)\n",
    "    \n",
    "    socpCodebooks.si_threshold_power = tgt_si_pow\n",
    "        \n",
    "    pbuf.print(f\"SI-ATT. {att_db:.1f} dB\")\n",
    "\n",
    "    ### CVXPY optimization\n",
    "    \n",
    "    start_time = time.perf_counter()\n",
    "    w_codebook = socpCodebooks.solve(tx=True)\n",
    "    c_codebook = socpCodebooks.solve(tx=False)\n",
    "    end_time = time.perf_counter()\n",
    "    \n",
    "    max_c_err = socpCodebooks.feasible_gap(c_codebook)\n",
    "    max_w_err = socpCodebooks.feasible_gap(w_codebook)\n",
    "    max_amp_err = np.sqrt(max(max_c_err, max_w_err))\n",
    "    \n",
    "    si_db_opt = mag2db(np.max(opt.codebook_si(w_codebook, c_codebook, h_si)))\n",
    "    loss_w_opt = pow2db(max(opt.codebook_deviation_power(dft_tx_codebook, w_codebook), 1e-10))\n",
    "    loss_c_opt = pow2db(max(opt.codebook_deviation_power(dft_rx_codebook, c_codebook), 1e-10))\n",
    "\n",
    "    att_opt = -(si_norm_db+si_db_opt)\n",
    "\n",
    "    pbuf.print(\"Solutions:\")\n",
    "    pbuf.print(f\"\\t\\tSI att.:\\t{att_opt:.1f} dB\\t({si_normalized_ref-si_db_opt:.1f} dB from baseline)\")\n",
    "    pbuf.print(f\"\\t\\tTx error:\\t{loss_w_opt:.1f} dB\")\n",
    "    pbuf.print(f\"\\t\\tRx error:\\t{loss_c_opt:.1f} dB\")\n",
    "    pbuf.print(f\"\\tMax sol. error {max_amp_err:.2E}\")\n",
    "    \n",
    "    postfix = (f\"SI Tgt::Actual {att_db:.1f}::{att_opt:.1f} dB; \"\n",
    "               f\"Error Tx::Rx {loss_w_opt:.1f}::{loss_c_opt:.1f} dB; \"\n",
    "               f\"Max sol. error {max_amp_err:.2E}\")\n",
    "    pbar.set_postfix_str(postfix)\n",
    "\n",
    "    if si_num_taps == \"full\":\n",
    "        att_full_db = att_opt\n",
    "    else:\n",
    "        si_db_full = mag2db(np.max(opt.codebook_si(w_codebook, c_codebook, h_full)))\n",
    "        att_full_db =  - si_db_full\n",
    "\n",
    "    if max_amp_err < feasible_tolerance:\n",
    "        codebooks.append({\"att_tgt\": att_db, \"att_opt\": att_opt, \"rx_codebook_p\": c_codebook, \"tx_codebook_p\": w_codebook})\n",
    "    else:\n",
    "        print(\"Feasibility error violated, finishing optimization...\")\n",
    "        break\n",
    "\n",
    "    results.append({\"att_tgt\": att_db, \"opt\": \"socp\", \"rx_err\": max_c_err, \"tx_err\": max_w_err,\n",
    "                    \"att_opt\": att_opt, \"tx_loss\": loss_w_opt, \"rx_loss\": loss_c_opt, \"elapsed_time\": end_time - start_time,\n",
    "                    \"att_full\": att_full_db,\n",
    "                    \"phased\": phased_array, \"si_taps\": si_num_taps, \"num_beams\": L_t})\n"
   ]
  },
  {
   "cell_type": "code",
   "execution_count": 10,
   "id": "d2af7004-cf9b-4ca2-96f8-5da0c5d9b184",
   "metadata": {
    "ExecuteTime": {
     "end_time": "2024-09-19T13:27:40.082924Z",
     "start_time": "2024-09-19T13:27:40.079982Z"
    },
    "scrolled": true
   },
   "outputs": [
    {
     "name": "stdout",
     "output_type": "stream",
     "text": [
      "SI-ATT. 66.5 dB\n",
      "Solutions:\n",
      "\t\tSI att.:\t67.5 dB\t(0.0 dB from baseline)\n",
      "\t\tTx error:\t-96.2 dB\n",
      "\t\tRx error:\t-95.2 dB\n",
      "\tMax sol. error 4.78E-03\n",
      "SI-ATT. 67.5 dB\n",
      "Solutions:\n",
      "\t\tSI att.:\t67.5 dB\t(0.0 dB from baseline)\n",
      "\t\tTx error:\t-75.9 dB\n",
      "\t\tRx error:\t-70.0 dB\n",
      "\tMax sol. error 3.35E-03\n",
      "SI-ATT. 68.5 dB\n",
      "Solutions:\n",
      "\t\tSI att.:\t68.5 dB\t(1.0 dB from baseline)\n",
      "\t\tTx error:\t-41.2 dB\n",
      "\t\tRx error:\t-41.9 dB\n",
      "\tMax sol. error 3.25E-03\n",
      "SI-ATT. 69.5 dB\n",
      "Solutions:\n",
      "\t\tSI att.:\t69.5 dB\t(2.0 dB from baseline)\n",
      "\t\tTx error:\t-34.7 dB\n",
      "\t\tRx error:\t-35.2 dB\n",
      "\tMax sol. error 4.11E-03\n",
      "SI-ATT. 70.5 dB\n",
      "Solutions:\n",
      "\t\tSI att.:\t70.5 dB\t(3.0 dB from baseline)\n",
      "\t\tTx error:\t-31.1 dB\n",
      "\t\tRx error:\t-31.5 dB\n",
      "\tMax sol. error 3.12E-03\n",
      "SI-ATT. 71.5 dB\n",
      "Solutions:\n",
      "\t\tSI att.:\t71.5 dB\t(4.0 dB from baseline)\n",
      "\t\tTx error:\t-28.7 dB\n",
      "\t\tRx error:\t-29.0 dB\n",
      "\tMax sol. error 2.72E-03\n",
      "SI-ATT. 72.5 dB\n",
      "Solutions:\n",
      "\t\tSI att.:\t72.5 dB\t(5.0 dB from baseline)\n",
      "\t\tTx error:\t-26.8 dB\n",
      "\t\tRx error:\t-27.0 dB\n",
      "\tMax sol. error 1.88E-03\n",
      "SI-ATT. 73.5 dB\n",
      "Solutions:\n",
      "\t\tSI att.:\t73.5 dB\t(6.0 dB from baseline)\n",
      "\t\tTx error:\t-25.2 dB\n",
      "\t\tRx error:\t-25.5 dB\n",
      "\tMax sol. error 4.61E-03\n",
      "SI-ATT. 74.5 dB\n",
      "Solutions:\n",
      "\t\tSI att.:\t74.5 dB\t(7.0 dB from baseline)\n",
      "\t\tTx error:\t-23.9 dB\n",
      "\t\tRx error:\t-24.1 dB\n",
      "\tMax sol. error 5.35E-03\n",
      "SI-ATT. 75.5 dB\n",
      "Solutions:\n",
      "\t\tSI att.:\t75.5 dB\t(8.0 dB from baseline)\n",
      "\t\tTx error:\t-22.7 dB\n",
      "\t\tRx error:\t-23.0 dB\n",
      "\tMax sol. error 3.15E-03\n",
      "SI-ATT. 76.5 dB\n",
      "Solutions:\n",
      "\t\tSI att.:\t76.4 dB\t(9.0 dB from baseline)\n",
      "\t\tTx error:\t-21.7 dB\n",
      "\t\tRx error:\t-22.0 dB\n",
      "\tMax sol. error 3.64E-03\n",
      "SI-ATT. 77.5 dB\n",
      "Solutions:\n",
      "\t\tSI att.:\t77.5 dB\t(10.0 dB from baseline)\n",
      "\t\tTx error:\t-20.8 dB\n",
      "\t\tRx error:\t-21.1 dB\n",
      "\tMax sol. error 2.29E-03\n",
      "SI-ATT. 78.5 dB\n",
      "Solutions:\n",
      "\t\tSI att.:\t78.5 dB\t(11.0 dB from baseline)\n",
      "\t\tTx error:\t-20.0 dB\n",
      "\t\tRx error:\t-20.2 dB\n",
      "\tMax sol. error 1.52E-03\n",
      "SI-ATT. 79.5 dB\n",
      "Solutions:\n",
      "\t\tSI att.:\t79.5 dB\t(12.0 dB from baseline)\n",
      "\t\tTx error:\t-19.2 dB\n",
      "\t\tRx error:\t-19.5 dB\n",
      "\tMax sol. error 2.22E-03\n",
      "SI-ATT. 80.5 dB\n",
      "Solutions:\n",
      "\t\tSI att.:\t80.5 dB\t(13.0 dB from baseline)\n",
      "\t\tTx error:\t-18.5 dB\n",
      "\t\tRx error:\t-18.8 dB\n",
      "\tMax sol. error 1.60E-03\n",
      "SI-ATT. 81.5 dB\n",
      "Solutions:\n",
      "\t\tSI att.:\t81.5 dB\t(14.0 dB from baseline)\n",
      "\t\tTx error:\t-17.9 dB\n",
      "\t\tRx error:\t-18.1 dB\n",
      "\tMax sol. error 3.08E-03\n",
      "SI-ATT. 82.5 dB\n",
      "Solutions:\n",
      "\t\tSI att.:\t82.5 dB\t(15.1 dB from baseline)\n",
      "\t\tTx error:\t-17.3 dB\n",
      "\t\tRx error:\t-17.5 dB\n",
      "\tMax sol. error 2.12E-03\n",
      "SI-ATT. 83.5 dB\n",
      "Solutions:\n",
      "\t\tSI att.:\t83.5 dB\t(16.1 dB from baseline)\n",
      "\t\tTx error:\t-16.8 dB\n",
      "\t\tRx error:\t-17.0 dB\n",
      "\tMax sol. error 2.06E-03\n",
      "SI-ATT. 84.5 dB\n",
      "Solutions:\n",
      "\t\tSI att.:\t84.5 dB\t(17.1 dB from baseline)\n",
      "\t\tTx error:\t-16.2 dB\n",
      "\t\tRx error:\t-16.4 dB\n",
      "\tMax sol. error 2.19E-03\n",
      "SI-ATT. 85.5 dB\n",
      "Solutions:\n",
      "\t\tSI att.:\t85.5 dB\t(18.1 dB from baseline)\n",
      "\t\tTx error:\t-15.8 dB\n",
      "\t\tRx error:\t-16.0 dB\n",
      "\tMax sol. error 3.20E-03\n",
      "SI-ATT. 86.5 dB\n",
      "Solutions:\n",
      "\t\tSI att.:\t86.5 dB\t(19.1 dB from baseline)\n",
      "\t\tTx error:\t-15.3 dB\n",
      "\t\tRx error:\t-15.5 dB\n",
      "\tMax sol. error 2.42E-03\n",
      "SI-ATT. 87.5 dB\n",
      "Solutions:\n",
      "\t\tSI att.:\t87.6 dB\t(20.1 dB from baseline)\n",
      "\t\tTx error:\t-14.9 dB\n",
      "\t\tRx error:\t-15.1 dB\n",
      "\tMax sol. error 1.50E-03\n",
      "SI-ATT. 88.5 dB\n",
      "Solutions:\n",
      "\t\tSI att.:\t88.6 dB\t(21.1 dB from baseline)\n",
      "\t\tTx error:\t-14.5 dB\n",
      "\t\tRx error:\t-14.7 dB\n",
      "\tMax sol. error 2.12E-03\n",
      "SI-ATT. 89.5 dB\n",
      "Solutions:\n",
      "\t\tSI att.:\t89.6 dB\t(22.1 dB from baseline)\n",
      "\t\tTx error:\t-14.1 dB\n",
      "\t\tRx error:\t-14.3 dB\n",
      "\tMax sol. error 1.39E-03\n",
      "SI-ATT. 90.5 dB\n",
      "Solutions:\n",
      "\t\tSI att.:\t90.6 dB\t(23.1 dB from baseline)\n",
      "\t\tTx error:\t-13.7 dB\n",
      "\t\tRx error:\t-13.9 dB\n",
      "\tMax sol. error 1.80E-03\n",
      "SI-ATT. 91.5 dB\n",
      "Solutions:\n",
      "\t\tSI att.:\t91.6 dB\t(24.2 dB from baseline)\n",
      "\t\tTx error:\t-13.4 dB\n",
      "\t\tRx error:\t-13.6 dB\n",
      "\tMax sol. error 2.33E-03\n",
      "SI-ATT. 92.5 dB\n",
      "Solutions:\n",
      "\t\tSI att.:\t92.6 dB\t(25.2 dB from baseline)\n",
      "\t\tTx error:\t-13.1 dB\n",
      "\t\tRx error:\t-13.2 dB\n",
      "\tMax sol. error 1.89E-03\n",
      "SI-ATT. 93.5 dB\n",
      "Solutions:\n",
      "\t\tSI att.:\t93.7 dB\t(26.2 dB from baseline)\n",
      "\t\tTx error:\t-12.7 dB\n",
      "\t\tRx error:\t-12.9 dB\n",
      "\tMax sol. error 2.29E-03\n",
      "SI-ATT. 94.5 dB\n",
      "Solutions:\n",
      "\t\tSI att.:\t94.7 dB\t(27.2 dB from baseline)\n",
      "\t\tTx error:\t-12.4 dB\n",
      "\t\tRx error:\t-12.6 dB\n",
      "\tMax sol. error 1.39E-03\n",
      "SI-ATT. 95.5 dB\n",
      "Solutions:\n",
      "\t\tSI att.:\t95.7 dB\t(28.2 dB from baseline)\n",
      "\t\tTx error:\t-12.1 dB\n",
      "\t\tRx error:\t-12.3 dB\n",
      "\tMax sol. error 1.67E-03\n",
      "SI-ATT. 96.5 dB\n",
      "Solutions:\n",
      "\t\tSI att.:\t96.7 dB\t(29.3 dB from baseline)\n",
      "\t\tTx error:\t-11.8 dB\n",
      "\t\tRx error:\t-12.0 dB\n",
      "\tMax sol. error 1.55E-03\n",
      "SI-ATT. 97.5 dB\n",
      "Solutions:\n",
      "\t\tSI att.:\t97.8 dB\t(30.3 dB from baseline)\n",
      "\t\tTx error:\t-11.5 dB\n",
      "\t\tRx error:\t-11.7 dB\n",
      "\tMax sol. error 2.01E-03\n",
      "SI-ATT. 98.5 dB\n",
      "Solutions:\n",
      "\t\tSI att.:\t98.8 dB\t(31.3 dB from baseline)\n",
      "\t\tTx error:\t-11.2 dB\n",
      "\t\tRx error:\t-11.4 dB\n",
      "\tMax sol. error 2.39E-03\n",
      "SI-ATT. 99.5 dB\n",
      "Solutions:\n",
      "\t\tSI att.:\t99.8 dB\t(32.3 dB from baseline)\n",
      "\t\tTx error:\t-10.9 dB\n",
      "\t\tRx error:\t-11.1 dB\n",
      "\tMax sol. error 2.41E-03\n",
      "SI-ATT. 100.5 dB\n",
      "Solutions:\n",
      "\t\tSI att.:\t100.8 dB\t(33.3 dB from baseline)\n",
      "\t\tTx error:\t-10.6 dB\n",
      "\t\tRx error:\t-10.8 dB\n",
      "\tMax sol. error 6.18E-02\n"
     ]
    }
   ],
   "source": [
    "pbuf.print()"
   ]
  },
  {
   "cell_type": "markdown",
   "id": "48542c25-d288-4668-bbeb-c092ad3666da",
   "metadata": {},
   "source": [
    "## Saving results"
   ]
  },
  {
   "cell_type": "code",
   "execution_count": 11,
   "id": "34b09dcbf734bc8f",
   "metadata": {
    "ExecuteTime": {
     "end_time": "2024-09-19T15:20:25.805699Z",
     "start_time": "2024-09-19T15:20:25.784122Z"
    }
   },
   "outputs": [
    {
     "name": "stdout",
     "output_type": "stream",
     "text": [
      "Results saved under /mnt/project/results/socp_cb_results_phased_fulltap_si.csv\n"
     ]
    }
   ],
   "source": [
    "res_file = res_path/f\"socp_cb_results_phased_{si_num_taps}tap_si.csv\"\n",
    "res_df = pd.DataFrame(results)\n",
    "res_df.to_csv(res_file)\n",
    "print(f\"Results saved under {res_file}\")"
   ]
  },
  {
   "cell_type": "code",
   "execution_count": 12,
   "id": "e95dd17b-e77b-477a-8ab1-987283aade15",
   "metadata": {
    "ExecuteTime": {
     "end_time": "2024-09-19T15:20:26.807136Z",
     "start_time": "2024-09-19T15:20:26.797029Z"
    },
    "tags": []
   },
   "outputs": [
    {
     "name": "stdout",
     "output_type": "stream",
     "text": [
      "socp_ph_full_codebooks.npz was saved at /mnt/project/results.\n"
     ]
    }
   ],
   "source": [
    "method = \"socp_ph_full\"\n",
    "\n",
    "att_values = [-np.inf]\n",
    "att_achieved = [si_db_ref]\n",
    "tx_codebooks = [dft_tx_codebook]\n",
    "rx_codebooks = [dft_rx_codebook]\n",
    "for cb in codebooks:\n",
    "    att_values.append(cb[\"att_tgt\"])\n",
    "    att_achieved.append(cb[\"att_opt\"])\n",
    "    tx_codebooks.append(cb[\"tx_codebook_p\"])\n",
    "    rx_codebooks.append(cb[\"rx_codebook_p\"])\n",
    "\n",
    "att_values = np.array(att_values) \n",
    "tx_codebooks = np.stack(tx_codebooks, axis=0)\n",
    "rx_codebooks = np.stack(rx_codebooks, axis=0)\n",
    "\n",
    "metadata = np.array({\"method\": method, \"phased\": phased_array, \"si_num_taps\": si_num_taps,\n",
    "                     \"norm\": \"max\"})\n",
    "fname = f\"{method}_codebooks.npz\"\n",
    "np.savez(res_path/fname, att_tgt=att_values,\n",
    "         att_opt=att_achieved,\n",
    "         rx_degrees=rx_degs, tx_degrees=tx_degs,\n",
    "         rx=rx_codebooks, tx=tx_codebooks,\n",
    "         metadata=metadata)\n",
    "print(f\"{fname} was saved at {res_path}.\")"
   ]
  }
 ],
 "metadata": {
  "kernelspec": {
   "display_name": "Python 3 (ipykernel)",
   "language": "python",
   "name": "python3"
  },
  "language_info": {
   "codemirror_mode": {
    "name": "ipython",
    "version": 3
   },
   "file_extension": ".py",
   "mimetype": "text/x-python",
   "name": "python",
   "nbconvert_exporter": "python",
   "pygments_lexer": "ipython3",
   "version": "3.8.10"
  }
 },
 "nbformat": 4,
 "nbformat_minor": 5
}
