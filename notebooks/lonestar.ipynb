{
 "cells": [
  {
   "cell_type": "markdown",
   "id": "7e4e40ce-1eb1-4a72-9a36-1f80412d3e16",
   "metadata": {
    "ExecuteTime": {
     "end_time": "2024-09-18T14:46:39.538272Z",
     "start_time": "2024-09-18T14:46:37.828179Z"
    }
   },
   "source": [
    "# LoneSTAR\n",
    "\n",
    "Baseline from:\n",
    "\n",
    "I. P. Roberts, S. Vishwanath, and J. G. Andrews, “LoneSTAR: Analog Beamforming Codebooks for Full-Duplex Millimeter Wave Systems,” IEEE Transactions on Wireless Communications, vol. 22, no. 9, pp. 5754–5769, Sep. 2023, [doi: 10.1109/TWC.2023.3236352](https://doi.org/10.1109/TWC.2023.3236352).\n"
   ]
  },
  {
   "cell_type": "code",
   "execution_count": 1,
   "id": "58f9d283-5ef7-4731-87c2-c1439cb0fe22",
   "metadata": {
    "ExecuteTime": {
     "end_time": "2024-09-18T14:46:39.538272Z",
     "start_time": "2024-09-18T14:46:37.828179Z"
    }
   },
   "outputs": [],
   "source": [
    "import time\n",
    "\n",
    "import numpy as np\n",
    "import pandas as pd\n",
    "from tqdm.notebook import tqdm\n",
    "\n",
    "import cvxpy as cp\n",
    "\n",
    "from cissir import params, optimization as opt\n",
    "from cissir.physics import pow2db, db2power, mag2db, db2mag\n",
    "from cissir.beamforming import dft_codebook\n",
    "from cissir.raytracing import si_paths2cir\n",
    "from cissir.utils import PrintBuffer, res_path\n"
   ]
  },
  {
   "cell_type": "code",
   "execution_count": 2,
   "id": "c203a7d7dbd234ac",
   "metadata": {
    "ExecuteTime": {
     "end_time": "2024-09-18T14:46:39.541880Z",
     "start_time": "2024-09-18T14:46:39.539512Z"
    }
   },
   "outputs": [],
   "source": [
    "# Global parameters\n",
    "\n",
    "c = params.c\n",
    "fc = params.fc_hz\n",
    "wavelength_m = params.wavelength_m\n",
    "\n",
    "ula_el_spacing = params.array_electrical_spacing\n",
    "\n",
    "N_r = params.n_rx\n",
    "N_t = params.n_tx\n",
    "\n",
    "# Number of beams\n",
    "L_r = params.num_beams\n",
    "L_t = params.num_beams"
   ]
  },
  {
   "cell_type": "markdown",
   "id": "48a8688a504aa4a",
   "metadata": {},
   "source": [
    "### DFT beam codebook\n"
   ]
  },
  {
   "cell_type": "code",
   "execution_count": 3,
   "id": "db0249b7-a54e-4196-9ed9-273e390af4df",
   "metadata": {
    "ExecuteTime": {
     "end_time": "2024-09-19T13:26:30.444823Z",
     "start_time": "2024-09-19T13:26:30.441319Z"
    }
   },
   "outputs": [],
   "source": [
    "dft_tx_codebook, tx_degs = dft_codebook(L_max = L_t , N1 = N_t, full_grid=True,\n",
    "                                          az_min = -60, az_max = 60, transmit=True)\n",
    "L_t = len(tx_degs)\n",
    "dft_rx_codebook, rx_degs = dft_codebook(L_max = L_r , N1 = N_r, full_grid=True,\n",
    "                                          az_min = -60, az_max = 60, transmit=False)\n",
    "L_r = len(rx_degs)"
   ]
  },
  {
   "cell_type": "code",
   "execution_count": 4,
   "id": "a3d7e98ec6cc90d0",
   "metadata": {
    "ExecuteTime": {
     "end_time": "2024-09-18T14:46:39.574501Z",
     "start_time": "2024-09-18T14:46:39.558795Z"
    }
   },
   "outputs": [],
   "source": [
    "si_num_taps = 1\n",
    "\n",
    "def cb_si_db(tx_codebook, rx_codebook, si_channel):\n",
    "    return mag2db(opt.codebook_si(tx_codebook, rx_codebook, si_channel))\n",
    "\n",
    "with np.load(res_path/\"channel_impulse_responses.npz\") as rt_data:\n",
    "    t_rt = np.squeeze(rt_data['t_channel_s'])\n",
    "    ht_si_full = np.squeeze(rt_data['ht_si'])\n",
    "    h_full = np.sum(ht_si_full, axis=0).transpose(2, 0, 1)\n",
    "\n",
    "with np.load(res_path/\"si_mimo.npz\") as rt_data:\n",
    "    h_si = rt_data['h_si_matrix'][:si_num_taps]\n",
    "    si_db_ref = cb_si_db(dft_tx_codebook, dft_rx_codebook,\n",
    "                         si_paths2cir(ht_si_full[:si_num_taps])).max()\n",
    "    h_si *= db2mag(si_db_ref - cb_si_db(dft_tx_codebook, dft_rx_codebook, h_si).max())\n",
    "    \n",
    "    assert h_si.shape == (si_num_taps, N_r, N_t), \"Unexpected SI shape\"\n",
    "\n",
    "    h_si = np.squeeze(h_si)\n"
   ]
  },
  {
   "cell_type": "code",
   "execution_count": 5,
   "id": "65c17675-4b56-4118-b46c-deb267b1da3b",
   "metadata": {
    "ExecuteTime": {
     "end_time": "2024-09-18T14:46:43.309427Z",
     "start_time": "2024-09-18T14:46:43.305680Z"
    }
   },
   "outputs": [],
   "source": [
    "# ||H||_F=1.0\n",
    "h_si_normalized = h_si/np.linalg.norm(h_si)"
   ]
  },
  {
   "cell_type": "code",
   "execution_count": 6,
   "id": "e4a3013f393bc097",
   "metadata": {
    "ExecuteTime": {
     "end_time": "2024-09-18T15:06:13.879921Z",
     "start_time": "2024-09-18T15:05:03.967945Z"
    }
   },
   "outputs": [
    {
     "data": {
      "application/vnd.jupyter.widget-view+json": {
       "model_id": "c366ddd0637b4b94a7de5c7f6a5e48ff",
       "version_major": 2,
       "version_minor": 0
      },
      "text/plain": [
       "  0%|          | 0/68 [00:00<?, ?it/s]"
      ]
     },
     "metadata": {},
     "output_type": "display_data"
    },
    {
     "name": "stderr",
     "output_type": "stream",
     "text": [
      "/usr/local/lib/python3.8/dist-packages/cvxpy/problems/problem.py:1407: UserWarning: Solution may be inaccurate. Try another solver, adjusting the solver settings, or solve with verbose=True for more information.\n",
      "  warnings.warn(\n"
     ]
    },
    {
     "name": "stdout",
     "output_type": "stream",
     "text": [
      "SI attenuation does not improve. Exiting loop...\n"
     ]
    }
   ],
   "source": [
    "# Prob (43)\n",
    "\n",
    "phased_array = False\n",
    "min_si = 0\n",
    "\n",
    "feasible_codebook = opt.feasible_phased_array if phased_array else opt.feasible_tapered\n",
    "\n",
    "A_tx = cp.Constant(dft_tx_codebook/np.abs(dft_tx_codebook))\n",
    "A_rx = cp.Constant(dft_rx_codebook/np.abs(dft_rx_codebook))\n",
    "\n",
    "# Create TX problem\n",
    "\n",
    "threshold_tx = cp.Parameter(pos=True)\n",
    "Wt = cp.Constant(dft_rx_codebook)\n",
    "Ft = cp.Variable(shape=(N_t, L_t), complex=True)\n",
    "Ft.value = dft_tx_codebook\n",
    "\n",
    "obj_tx = cp.Minimize(cp.norm(Wt.H @ h_si_normalized @ Ft, p='fro')**2)\n",
    "similarity_tx = cp.norm(N_t * np.ones(L_t) - cp.diag(A_tx.H @ Ft), p=2)**2 <= threshold_tx\n",
    "feasible_tx = cp.abs(Ft) <= cp.Constant(1.0)\n",
    "\n",
    "problem_tx = cp.Problem(obj_tx, constraints=[similarity_tx, feasible_tx])\n",
    "\n",
    "# Create RX problem\n",
    "\n",
    "threshold_rx = cp.Parameter(pos=True)\n",
    "\n",
    "Wr = cp.Variable(shape=(N_r, L_r), complex=True)\n",
    "Fr = cp.Parameter(shape=(N_t, L_t), complex=True, value=dft_tx_codebook)\n",
    "Wr.value = dft_rx_codebook\n",
    "\n",
    "obj_rx = cp.Minimize(cp.norm(Wr.H @ h_si_normalized @ Fr, p='fro')**2)\n",
    "\n",
    "similarity_rx = cp.norm(N_r * np.ones(L_r) - cp.diag(A_rx.H @ Wr), p=2)**2 <= threshold_rx\n",
    "feasible_rx = cp.abs(Wr) <= cp.Constant(1.0)\n",
    "\n",
    "problem_rx = cp.Problem(obj_rx, constraints=[similarity_rx, feasible_rx])\n",
    "\n",
    "error_db_values = np.arange(-70, -2, 1)\n",
    "\n",
    "results = []\n",
    "tx_codebooks = []\n",
    "rx_codebooks = []\n",
    "pbuf = PrintBuffer(print_input=False)\n",
    "for error_db in tqdm(error_db_values):\n",
    "\n",
    "    threshold_tx.value = db2power(error_db) * L_t * N_t ** 2\n",
    "    threshold_rx.value = db2power(error_db) * L_r * N_r ** 2\n",
    "    Ft.value = dft_tx_codebook\n",
    "    Wr.value = dft_rx_codebook\n",
    "\n",
    "    start_time = time.perf_counter()\n",
    "    problem_tx.solve(solver='SCS', warm_start=True)\n",
    "    F_sol = feasible_codebook(Ft.value) # Make realizable\n",
    "    Fr.value = F_sol\n",
    "    problem_rx.solve(solver='SCS', warm_start=True)\n",
    "    W_sol = feasible_codebook(Wr.value)\n",
    "    end_time = time.perf_counter()\n",
    "\n",
    "    opt_time = end_time - start_time\n",
    "\n",
    "    tx_status = problem_tx.status\n",
    "    if tx_status != 'optimal':\n",
    "        opt_time = None\n",
    "        pbuf.print(f\"Tx error for {error_db} dB: {tx_status}\")\n",
    "    rx_status = problem_rx.status\n",
    "    if rx_status != 'optimal':\n",
    "        opt_time = None\n",
    "        pbuf.print(f\"Rx error for {error_db} dB: {rx_status}\")\n",
    "\n",
    "    f_codebook = F_sol/np.sqrt(N_t)\n",
    "    w_codebook = W_sol/np.sqrt(N_r)\n",
    "    \n",
    "    si_db_1tap = cb_si_db(f_codebook, w_codebook, h_si).max()\n",
    "    si_db_full = cb_si_db(f_codebook, w_codebook, h_full).max()\n",
    "\n",
    "    if si_db_1tap < min_si:\n",
    "        min_si = si_db_1tap\n",
    "    elif si_db_1tap > min_si + 1.0:\n",
    "        print(\"SI attenuation does not improve. Exiting loop...\")\n",
    "        break\n",
    "\n",
    "    error_f = pow2db(max(opt.codebook_deviation_power(dft_tx_codebook, f_codebook), 1e-10))\n",
    "    error_w = pow2db(max(opt.codebook_deviation_power(dft_rx_codebook, w_codebook), 1e-10))\n",
    "    \n",
    "    results.append({\"loss_tgt\": error_db, \"opt\": \"lonestar\", \"elapsed_time\": opt_time,\n",
    "                    \"si_opt\": si_db_1tap, \"tx_loss\": error_f, \"rx_loss\": error_w,\n",
    "                    \"si_full\": si_db_full,\n",
    "                    \"phased\": phased_array, \"si_taps\": si_num_taps, \"num_beams\": L_t})\n",
    "    \n",
    "    pbuf.print(f\"Optimization for error {error_db:.1f} dB\")\n",
    "    pbuf.print(f\"\\tTx error:\\t{error_f:.1f} dB\")\n",
    "    pbuf.print(f\"\\tRx error:\\t{error_w:.1f} dB\")\n",
    "    pbuf.print(f\"\\tSI 1-tap:\\t{si_db_1tap:.1f} dB\")\n",
    "    pbuf.print(f\"\\tFull SI :\\t{si_db_full:.1f} dB\")\n",
    "    pbuf.print(\"\\n\")\n",
    "    \n",
    "    tx_codebooks.append(f_codebook)\n",
    "    rx_codebooks.append(w_codebook)\n"
   ]
  },
  {
   "cell_type": "code",
   "execution_count": 10,
   "id": "eae2403b4250b614",
   "metadata": {
    "ExecuteTime": {
     "end_time": "2024-09-18T15:06:20.120658Z",
     "start_time": "2024-09-18T15:06:20.118061Z"
    }
   },
   "outputs": [
    {
     "name": "stdout",
     "output_type": "stream",
     "text": [
      "(Mean\\Median) Optimization time:\t1.69\\0.24 s\n",
      "\n"
     ]
    }
   ],
   "source": [
    "opt_times = np.array([r[\"elapsed_time\"] for r in results], dtype=float)\n",
    "opt_times = opt_times[~np.isnan(opt_times)]\n",
    "mean_t, median_t = np.mean(opt_times), np.median(opt_times)\n",
    "print(f\"(Mean\\Median) Optimization time:\\t{mean_t:.2f}\\\\{median_t:.2f} s\")\n",
    "pbuf.print()"
   ]
  },
  {
   "cell_type": "markdown",
   "id": "b8a0810879cd8c47",
   "metadata": {},
   "source": [
    "## Saving results"
   ]
  },
  {
   "cell_type": "code",
   "execution_count": 8,
   "id": "5160c6a8-6b13-40ea-9924-dca17148cb4a",
   "metadata": {},
   "outputs": [
    {
     "name": "stdout",
     "output_type": "stream",
     "text": [
      "lonestar_cb_results_taper.csv was saved at /mnt/project/results.\n"
     ]
    }
   ],
   "source": [
    "suffix = \"phased\" if phased_array else \"taper\"\n",
    "fname = f\"lonestar_cb_results_{suffix}.csv\"\n",
    "res_df = pd.DataFrame(results)\n",
    "res_df.to_csv(res_path/fname)\n",
    "print(f\"{fname} was saved at {res_path}.\")"
   ]
  },
  {
   "cell_type": "code",
   "execution_count": 9,
   "id": "32ee26c026877b93",
   "metadata": {
    "ExecuteTime": {
     "end_time": "2024-09-18T15:06:24.896766Z",
     "start_time": "2024-09-18T15:06:24.886822Z"
    }
   },
   "outputs": [
    {
     "name": "stdout",
     "output_type": "stream",
     "text": [
      "lonestar_codebooks.npz was saved at /mnt/project/results.\n"
     ]
    }
   ],
   "source": [
    "error_array = np.insert(error_db_values.astype(float), 0, -np.inf)\n",
    "tx_codebooks = np.stack([dft_tx_codebook] + tx_codebooks, axis=0)\n",
    "rx_codebooks = np.stack([dft_rx_codebook] + rx_codebooks, axis=0)\n",
    "\n",
    "metadata = np.array({\"method\": \"lonestar\", \"phased\": phased_array, \"si_num_taps\": si_num_taps})\n",
    "fname = f\"lonestar_codebooks.npz\"\n",
    "np.savez(res_path/fname, error=error_array,\n",
    "         rx_degrees=rx_degs, tx_degrees=tx_degs,\n",
    "         rx=rx_codebooks, tx=tx_codebooks,\n",
    "         metadata=metadata)\n",
    "print(f\"{fname} was saved at {res_path}.\")"
   ]
  }
 ],
 "metadata": {
  "kernelspec": {
   "display_name": "Python 3 (ipykernel)",
   "language": "python",
   "name": "python3"
  },
  "language_info": {
   "codemirror_mode": {
    "name": "ipython",
    "version": 3
   },
   "file_extension": ".py",
   "mimetype": "text/x-python",
   "name": "python",
   "nbconvert_exporter": "python",
   "pygments_lexer": "ipython3",
   "version": "3.8.10"
  }
 },
 "nbformat": 4,
 "nbformat_minor": 5
}
