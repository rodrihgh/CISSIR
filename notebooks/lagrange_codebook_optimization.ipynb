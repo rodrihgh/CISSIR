{
 "cells": [
  {
   "cell_type": "markdown",
   "id": "31c2874f-3ad9-4994-a21b-aaab3a78b7ab",
   "metadata": {},
   "source": [
    "# Lagrange codebook optimization"
   ]
  },
  {
   "cell_type": "markdown",
   "id": "2dfa7e58-6b11-4ef5-ba6f-5f99d8a621ee",
   "metadata": {},
   "source": [
    "## Setup"
   ]
  },
  {
   "cell_type": "code",
   "execution_count": 1,
   "id": "f86a7c9a-2faf-465f-a70b-54bd0cc60f84",
   "metadata": {
    "ExecuteTime": {
     "end_time": "2024-09-27T16:52:40.446225Z",
     "start_time": "2024-09-27T16:52:37.657667Z"
    }
   },
   "outputs": [
    {
     "name": "stdout",
     "output_type": "stream",
     "text": [
      "Compiling `sigma_poly_coeffs_toeplitz` function...\n",
      "Function compiled. time elapsed: 2.683 s\n"
     ]
    }
   ],
   "source": [
    "import time\n",
    "\n",
    "import numpy as np\n",
    "\n",
    "import pandas as pd\n",
    "from tqdm.notebook import tqdm\n",
    "\n",
    "import matplotlib.pyplot as plt\n",
    "\n",
    "import project_path as pp\n",
    "from cissir.physics import pow2db, db2power, mag2db\n",
    "\n",
    "from cissir import params, optimization as opt\n",
    "from cissir.beamforming import dft_codebook\n",
    "from cissir.utils import PrintBuffer\n",
    "\n",
    "base_path = pp.module_path\n",
    "plot_path = base_path/\"plots\"\n",
    "res_path = base_path/\"results\"\n",
    "\n",
    "opt.compile_coeff_code()"
   ]
  },
  {
   "cell_type": "code",
   "execution_count": 2,
   "id": "87db658e-7c9d-4934-ad21-416c2bb10b79",
   "metadata": {
    "ExecuteTime": {
     "end_time": "2024-09-27T16:52:44.723423Z",
     "start_time": "2024-09-27T16:52:44.720796Z"
    }
   },
   "outputs": [],
   "source": [
    "# Global parameters\n",
    "\n",
    "c = params.c\n",
    "fc = params.fc_hz\n",
    "wavelength_m = params.wavelength_m\n",
    "\n",
    "\n",
    "ula_el_spacing = params.array_electrical_spacing\n",
    "\n",
    "N_r = params.n_rx\n",
    "N_t = params.n_tx\n",
    "\n",
    "# Number of beams\n",
    "L_r = params.num_beams\n",
    "L_t = params.num_beams"
   ]
  },
  {
   "cell_type": "markdown",
   "id": "6b0b9aba-f00e-403c-97c8-d5e7b36668af",
   "metadata": {},
   "source": [
    "### DFT beam codebook\n"
   ]
  },
  {
   "cell_type": "code",
   "execution_count": 3,
   "id": "5812a6a6-e14d-4de4-a222-54afc08ef8ba",
   "metadata": {
    "ExecuteTime": {
     "end_time": "2024-09-27T16:52:45.928992Z",
     "start_time": "2024-09-27T16:52:45.926086Z"
    }
   },
   "outputs": [],
   "source": [
    "dft_tx_codebook, tx_degs = dft_codebook(L_max = L_t , N1 = N_t,\n",
    "                                          az_min = -60, az_max = 60, transmit=True)\n",
    "dft_rx_codebook, rx_degs = dft_codebook(L_max = L_r , N1 = N_r,\n",
    "                                          az_min = -60, az_max = 60, transmit=False)"
   ]
  },
  {
   "cell_type": "code",
   "execution_count": 4,
   "id": "7b93b3e40b7c758f",
   "metadata": {
    "ExecuteTime": {
     "end_time": "2024-09-27T16:52:53.534274Z",
     "start_time": "2024-09-27T16:52:53.516046Z"
    }
   },
   "outputs": [],
   "source": [
    "si_num_taps = \"full\"\n",
    "\n",
    "with np.load(res_path/\"channel_impulse_responses.npz\") as rt_data:\n",
    "    t_rt = np.squeeze(rt_data['t_channel_s'])\n",
    "    ht_si_full = np.squeeze(rt_data['ht_si'])\n",
    "    h_full = np.sum(ht_si_full, axis=0).transpose(2, 0, 1)\n",
    "\n",
    "if si_num_taps == \"full\":\n",
    "        h_si = np.sum(ht_si_full, axis=0).transpose(2, 0, 1)\n",
    "        si_pow_db = mag2db(np.max(opt.codebook_si(dft_tx_codebook, dft_rx_codebook, h_si)))\n",
    "else:\n",
    "    with np.load(res_path/\"si_mimo.npz\") as rt_data:\n",
    "        h_si = rt_data['h_si_matrix'][:si_num_taps]\n",
    "\n",
    "        h_cir = np.sum(ht_si_full[:si_num_taps,], axis=0).transpose(2, 0, 1)\n",
    "        si_pow_db = mag2db(np.max(opt.codebook_si(dft_tx_codebook, dft_rx_codebook, h_cir)))\n",
    "    \n",
    "        assert h_si.shape == (si_num_taps, N_r, N_t), \"Unexpected SI shape\"\n",
    "\n",
    "h_si_unnormalized = h_si"
   ]
  },
  {
   "cell_type": "code",
   "execution_count": 5,
   "id": "305146b6-772a-40d9-b88f-b42435535b5a",
   "metadata": {
    "ExecuteTime": {
     "end_time": "2024-09-27T16:52:54.470210Z",
     "start_time": "2024-09-27T16:52:54.467292Z"
    }
   },
   "outputs": [],
   "source": [
    "si_norm = np.max(opt.codebook_si(dft_tx_codebook, dft_rx_codebook, h_si_unnormalized))\n",
    "\n",
    "# ||H||_F=1.0\n",
    "h_si = h_si_unnormalized/si_norm\n",
    "\n",
    "h_si_rx, h_si_tx = opt.si_split(h_si)\n",
    "\n",
    "si_norm_db = si_pow_db"
   ]
  },
  {
   "cell_type": "code",
   "execution_count": 6,
   "id": "27a37bd9-3c8c-4326-9612-c614beb575b5",
   "metadata": {
    "ExecuteTime": {
     "end_time": "2024-09-19T13:26:35.311868Z",
     "start_time": "2024-09-19T13:26:35.292383Z"
    }
   },
   "outputs": [],
   "source": [
    "min_eigval_db = mag2db(opt.min_eigval(h_si))\n",
    "max_eigval_db = mag2db(opt.max_eigval(h_si))\n",
    "\n",
    "min_split_db = pow2db(opt.min_eigval(h_si_rx)*opt.min_eigval(h_si_tx)) \n",
    "max_split_db = pow2db(opt.max_eigval(h_si_rx)*opt.max_eigval(h_si_tx))\n",
    "\n",
    "lagrange_feas_db = pow2db(opt.feasible_eigval_lagrange(dft_rx_codebook, h_si_rx).max() *\n",
    "                             opt.feasible_eigval_lagrange(dft_tx_codebook, h_si_tx).max())\n",
    "max_att = si_norm_db - (lagrange_feas_db + si_norm_db)"
   ]
  },
  {
   "cell_type": "code",
   "execution_count": 7,
   "id": "380ba26e-d3e3-40fe-999e-ba4992a6593d",
   "metadata": {
    "ExecuteTime": {
     "end_time": "2024-09-19T13:26:35.311868Z",
     "start_time": "2024-09-19T13:26:35.292383Z"
    }
   },
   "outputs": [
    {
     "name": "stdout",
     "output_type": "stream",
     "text": [
      "      eig_min H: -286.8 dB\n",
      "eig_min Grx\\Gtx: -147.6 dB\n",
      "            cHw: -67.5 dB\n",
      "      eig_max H: -59.7 dB\n",
      "eig_max Grx\\Gtx: -40.4 dB\n"
     ]
    }
   ],
   "source": [
    "print(f\"      eig_min H: {min_eigval_db+si_norm_db:.1f} dB\")\n",
    "print(f\"eig_min Grx\\Gtx: {min_split_db+si_norm_db:.1f} dB\")\n",
    "print(f\"            cHw: {si_norm_db:.1f} dB\")\n",
    "print(f\"      eig_max H: {max_eigval_db+si_norm_db:.1f} dB\")\n",
    "print(f\"eig_max Grx\\Gtx: {max_split_db+si_norm_db:.1f} dB\")"
   ]
  },
  {
   "cell_type": "markdown",
   "id": "45955310-1b3c-43af-8d40-36e816cecee3",
   "metadata": {},
   "source": [
    "## Optimization"
   ]
  },
  {
   "cell_type": "code",
   "execution_count": 8,
   "id": "fd2ecefc-d0f2-4cf0-9ef8-f3911f5e588a",
   "metadata": {
    "ExecuteTime": {
     "end_time": "2024-09-27T16:58:03.434778Z",
     "start_time": "2024-09-27T16:58:03.432422Z"
    }
   },
   "outputs": [],
   "source": [
    "extra_attenuations = np.arange(-1, max_att, 1)\n",
    "pbuf = PrintBuffer(print_input=False)"
   ]
  },
  {
   "cell_type": "code",
   "execution_count": 9,
   "id": "ae3987bf-ba12-49fb-baa3-7a8352da4b5c",
   "metadata": {
    "ExecuteTime": {
     "end_time": "2024-09-27T16:58:09.426229Z",
     "start_time": "2024-09-27T16:58:09.289883Z"
    }
   },
   "outputs": [
    {
     "data": {
      "application/vnd.jupyter.widget-view+json": {
       "model_id": "9035493471c745f8967b85834124ee25",
       "version_major": 2,
       "version_minor": 0
      },
      "text/plain": [
       "  0%|          | 0/70 [00:00<?, ?it/s]"
      ]
     },
     "metadata": {},
     "output_type": "display_data"
    }
   ],
   "source": [
    "debug_collector = []\n",
    "results = []\n",
    "codebooks = []\n",
    "\n",
    "phased_array = False\n",
    "\n",
    "\n",
    "pbar = tqdm(extra_attenuations)\n",
    "pbar.set_description(f\"Baseline SI {si_norm_db:.1f} dB\")\n",
    "for extra_att_db in pbar:\n",
    "    \n",
    "    gain_norm_db = - extra_att_db \n",
    "    att_db = -(si_norm_db + gain_norm_db)\n",
    "\n",
    "    tgt_si_pow = db2power(gain_norm_db)\n",
    "    \n",
    "    q = 0.5\n",
    "    tgt_si_tx, tgt_si_rx = tgt_si_pow ** q, tgt_si_pow ** (1-q)\n",
    "\n",
    "    pbuf.print(f\"SI-ATT. {att_db:.1f} dB\")\n",
    "    \n",
    "    start_time = time.perf_counter()\n",
    "    w_codebook = opt.lagrange_codebook(dft_tx_codebook, tgt_si_tx, h_si_tx, si_tol=0.01, real_tol=1e-3)\n",
    "    c_codebook = opt.lagrange_codebook(dft_rx_codebook, tgt_si_rx, h_si_rx, si_tol=0.01, real_tol=1e-3)\n",
    "    end_time = time.perf_counter()\n",
    "    \n",
    "    \n",
    "    si_db_opt = mag2db(np.max(opt.codebook_si(w_codebook, c_codebook, h_si))) + si_norm_db\n",
    "    loss_w_opt = pow2db(max(opt.codebook_deviation_power(dft_tx_codebook, w_codebook), 1e-10))\n",
    "    loss_c_opt = pow2db(max(opt.codebook_deviation_power(dft_rx_codebook, c_codebook), 1e-10))\n",
    "    \n",
    "    att_rank1 = -si_db_opt\n",
    "    pbuf.print(\"Solutions SDR\\\\Rank-1:\")\n",
    "    pbuf.print(f\"\\t\\tSI att.:\\t{att_rank1:.1f} dB\")\n",
    "    pbuf.print(f\"\\t\\tTx error:\\t{loss_w_opt:.1f} dB\")\n",
    "    pbuf.print(f\"\\t\\tRx error:\\t{loss_c_opt:.1f} dB\")\n",
    "    \n",
    "    postfix = (f\"SI Tgt::Actual {att_db:.1f}::{att_rank1:.1f} dB; \"\n",
    "               f\"Error Tx::Rx {loss_w_opt:.1f}::{loss_c_opt:.1f} dB\")\n",
    "    pbar.set_postfix_str(postfix)\n",
    "\n",
    "    if si_num_taps == \"full\":\n",
    "        att_full_db = att_rank1\n",
    "    else:\n",
    "        si_db_full = mag2db(np.max(opt.codebook_si(w_codebook, c_codebook, h_full)))\n",
    "        att_full_db =  - si_db_full\n",
    "    \n",
    "    codebooks.append({\"att\": att_db, \"rx_codebook_p\": c_codebook, \"tx_codebook_p\": w_codebook})\n",
    "    results.append({\"att_tgt\": att_db, \"opt\": \"sdp\", \"elapsed_time\": end_time - start_time,\n",
    "                    \"att_opt\": att_rank1, \"tx_loss\": loss_w_opt, \"rx_loss\": loss_c_opt,\n",
    "                    \"att_full\": att_full_db,\n",
    "                    \"phased\": phased_array, \"si_taps\": si_num_taps, \"num_beams\": L_t})\n"
   ]
  },
  {
   "cell_type": "code",
   "execution_count": 10,
   "id": "81769dcd91485413",
   "metadata": {
    "ExecuteTime": {
     "end_time": "2024-09-27T16:58:13.007958Z",
     "start_time": "2024-09-27T16:58:13.005177Z"
    },
    "scrolled": true
   },
   "outputs": [
    {
     "name": "stdout",
     "output_type": "stream",
     "text": [
      "SI-ATT. 66.5 dB\n",
      "Solutions SDR\\Rank-1:\n",
      "\t\tSI att.:\t67.5 dB\n",
      "\t\tTx error:\t-100.0 dB\n",
      "\t\tRx error:\t-100.0 dB\n",
      "SI-ATT. 67.5 dB\n",
      "Solutions SDR\\Rank-1:\n",
      "\t\tSI att.:\t67.5 dB\n",
      "\t\tTx error:\t-100.0 dB\n",
      "\t\tRx error:\t-100.0 dB\n",
      "SI-ATT. 68.5 dB\n",
      "Solutions SDR\\Rank-1:\n",
      "\t\tSI att.:\t68.5 dB\n",
      "\t\tTx error:\t-44.7 dB\n",
      "\t\tRx error:\t-45.4 dB\n",
      "SI-ATT. 69.5 dB\n",
      "Solutions SDR\\Rank-1:\n",
      "\t\tSI att.:\t69.5 dB\n",
      "\t\tTx error:\t-38.1 dB\n",
      "\t\tRx error:\t-38.6 dB\n",
      "SI-ATT. 70.5 dB\n",
      "Solutions SDR\\Rank-1:\n",
      "\t\tSI att.:\t70.5 dB\n",
      "\t\tTx error:\t-34.5 dB\n",
      "\t\tRx error:\t-34.9 dB\n",
      "SI-ATT. 71.5 dB\n",
      "Solutions SDR\\Rank-1:\n",
      "\t\tSI att.:\t71.5 dB\n",
      "\t\tTx error:\t-32.0 dB\n",
      "\t\tRx error:\t-32.3 dB\n",
      "SI-ATT. 72.5 dB\n",
      "Solutions SDR\\Rank-1:\n",
      "\t\tSI att.:\t72.5 dB\n",
      "\t\tTx error:\t-30.0 dB\n",
      "\t\tRx error:\t-30.3 dB\n",
      "SI-ATT. 73.5 dB\n",
      "Solutions SDR\\Rank-1:\n",
      "\t\tSI att.:\t73.5 dB\n",
      "\t\tTx error:\t-28.3 dB\n",
      "\t\tRx error:\t-28.7 dB\n",
      "SI-ATT. 74.5 dB\n",
      "Solutions SDR\\Rank-1:\n",
      "\t\tSI att.:\t74.5 dB\n",
      "\t\tTx error:\t-26.9 dB\n",
      "\t\tRx error:\t-27.3 dB\n",
      "SI-ATT. 75.5 dB\n",
      "Solutions SDR\\Rank-1:\n",
      "\t\tSI att.:\t75.5 dB\n",
      "\t\tTx error:\t-25.7 dB\n",
      "\t\tRx error:\t-26.0 dB\n",
      "SI-ATT. 76.5 dB\n",
      "Solutions SDR\\Rank-1:\n",
      "\t\tSI att.:\t76.5 dB\n",
      "\t\tTx error:\t-24.5 dB\n",
      "\t\tRx error:\t-24.9 dB\n",
      "SI-ATT. 77.5 dB\n",
      "Solutions SDR\\Rank-1:\n",
      "\t\tSI att.:\t77.5 dB\n",
      "\t\tTx error:\t-23.5 dB\n",
      "\t\tRx error:\t-23.9 dB\n",
      "SI-ATT. 78.5 dB\n",
      "Solutions SDR\\Rank-1:\n",
      "\t\tSI att.:\t78.5 dB\n",
      "\t\tTx error:\t-22.6 dB\n",
      "\t\tRx error:\t-22.9 dB\n",
      "SI-ATT. 79.5 dB\n",
      "Solutions SDR\\Rank-1:\n",
      "\t\tSI att.:\t79.5 dB\n",
      "\t\tTx error:\t-21.7 dB\n",
      "\t\tRx error:\t-22.0 dB\n",
      "SI-ATT. 80.5 dB\n",
      "Solutions SDR\\Rank-1:\n",
      "\t\tSI att.:\t80.5 dB\n",
      "\t\tTx error:\t-20.9 dB\n",
      "\t\tRx error:\t-21.2 dB\n",
      "SI-ATT. 81.5 dB\n",
      "Solutions SDR\\Rank-1:\n",
      "\t\tSI att.:\t81.5 dB\n",
      "\t\tTx error:\t-20.1 dB\n",
      "\t\tRx error:\t-20.5 dB\n",
      "SI-ATT. 82.5 dB\n",
      "Solutions SDR\\Rank-1:\n",
      "\t\tSI att.:\t82.5 dB\n",
      "\t\tTx error:\t-19.5 dB\n",
      "\t\tRx error:\t-19.8 dB\n",
      "SI-ATT. 83.5 dB\n",
      "Solutions SDR\\Rank-1:\n",
      "\t\tSI att.:\t83.5 dB\n",
      "\t\tTx error:\t-18.8 dB\n",
      "\t\tRx error:\t-19.2 dB\n",
      "SI-ATT. 84.5 dB\n",
      "Solutions SDR\\Rank-1:\n",
      "\t\tSI att.:\t84.5 dB\n",
      "\t\tTx error:\t-18.3 dB\n",
      "\t\tRx error:\t-18.6 dB\n",
      "SI-ATT. 85.5 dB\n",
      "Solutions SDR\\Rank-1:\n",
      "\t\tSI att.:\t85.5 dB\n",
      "\t\tTx error:\t-17.7 dB\n",
      "\t\tRx error:\t-18.0 dB\n",
      "SI-ATT. 86.5 dB\n",
      "Solutions SDR\\Rank-1:\n",
      "\t\tSI att.:\t86.5 dB\n",
      "\t\tTx error:\t-17.2 dB\n",
      "\t\tRx error:\t-17.5 dB\n",
      "SI-ATT. 87.5 dB\n",
      "Solutions SDR\\Rank-1:\n",
      "\t\tSI att.:\t87.5 dB\n",
      "\t\tTx error:\t-16.8 dB\n",
      "\t\tRx error:\t-17.1 dB\n",
      "SI-ATT. 88.5 dB\n",
      "Solutions SDR\\Rank-1:\n",
      "\t\tSI att.:\t88.6 dB\n",
      "\t\tTx error:\t-16.4 dB\n",
      "\t\tRx error:\t-16.6 dB\n",
      "SI-ATT. 89.5 dB\n",
      "Solutions SDR\\Rank-1:\n",
      "\t\tSI att.:\t89.6 dB\n",
      "\t\tTx error:\t-16.0 dB\n",
      "\t\tRx error:\t-16.2 dB\n",
      "SI-ATT. 90.5 dB\n",
      "Solutions SDR\\Rank-1:\n",
      "\t\tSI att.:\t90.6 dB\n",
      "\t\tTx error:\t-15.6 dB\n",
      "\t\tRx error:\t-15.8 dB\n",
      "SI-ATT. 91.5 dB\n",
      "Solutions SDR\\Rank-1:\n",
      "\t\tSI att.:\t91.6 dB\n",
      "\t\tTx error:\t-15.2 dB\n",
      "\t\tRx error:\t-15.5 dB\n",
      "SI-ATT. 92.5 dB\n",
      "Solutions SDR\\Rank-1:\n",
      "\t\tSI att.:\t92.6 dB\n",
      "\t\tTx error:\t-14.9 dB\n",
      "\t\tRx error:\t-15.1 dB\n",
      "SI-ATT. 93.5 dB\n",
      "Solutions SDR\\Rank-1:\n",
      "\t\tSI att.:\t93.6 dB\n",
      "\t\tTx error:\t-14.5 dB\n",
      "\t\tRx error:\t-14.8 dB\n",
      "SI-ATT. 94.5 dB\n",
      "Solutions SDR\\Rank-1:\n",
      "\t\tSI att.:\t94.7 dB\n",
      "\t\tTx error:\t-14.2 dB\n",
      "\t\tRx error:\t-14.5 dB\n",
      "SI-ATT. 95.5 dB\n",
      "Solutions SDR\\Rank-1:\n",
      "\t\tSI att.:\t95.7 dB\n",
      "\t\tTx error:\t-13.9 dB\n",
      "\t\tRx error:\t-14.2 dB\n",
      "SI-ATT. 96.5 dB\n",
      "Solutions SDR\\Rank-1:\n",
      "\t\tSI att.:\t96.7 dB\n",
      "\t\tTx error:\t-13.6 dB\n",
      "\t\tRx error:\t-13.8 dB\n",
      "SI-ATT. 97.5 dB\n",
      "Solutions SDR\\Rank-1:\n",
      "\t\tSI att.:\t97.7 dB\n",
      "\t\tTx error:\t-13.3 dB\n",
      "\t\tRx error:\t-13.5 dB\n",
      "SI-ATT. 98.5 dB\n",
      "Solutions SDR\\Rank-1:\n",
      "\t\tSI att.:\t98.8 dB\n",
      "\t\tTx error:\t-13.0 dB\n",
      "\t\tRx error:\t-13.2 dB\n",
      "SI-ATT. 99.5 dB\n",
      "Solutions SDR\\Rank-1:\n",
      "\t\tSI att.:\t99.8 dB\n",
      "\t\tTx error:\t-12.7 dB\n",
      "\t\tRx error:\t-12.9 dB\n",
      "SI-ATT. 100.5 dB\n",
      "Solutions SDR\\Rank-1:\n",
      "\t\tSI att.:\t100.8 dB\n",
      "\t\tTx error:\t-12.4 dB\n",
      "\t\tRx error:\t-12.6 dB\n",
      "SI-ATT. 101.5 dB\n",
      "Solutions SDR\\Rank-1:\n",
      "\t\tSI att.:\t101.9 dB\n",
      "\t\tTx error:\t-12.0 dB\n",
      "\t\tRx error:\t-12.3 dB\n",
      "SI-ATT. 102.5 dB\n",
      "Solutions SDR\\Rank-1:\n",
      "\t\tSI att.:\t102.9 dB\n",
      "\t\tTx error:\t-11.7 dB\n",
      "\t\tRx error:\t-12.0 dB\n",
      "SI-ATT. 103.5 dB\n",
      "Solutions SDR\\Rank-1:\n",
      "\t\tSI att.:\t103.9 dB\n",
      "\t\tTx error:\t-11.4 dB\n",
      "\t\tRx error:\t-11.7 dB\n",
      "SI-ATT. 104.5 dB\n",
      "Solutions SDR\\Rank-1:\n",
      "\t\tSI att.:\t104.9 dB\n",
      "\t\tTx error:\t-11.2 dB\n",
      "\t\tRx error:\t-11.4 dB\n",
      "SI-ATT. 105.5 dB\n",
      "Solutions SDR\\Rank-1:\n",
      "\t\tSI att.:\t105.9 dB\n",
      "\t\tTx error:\t-10.9 dB\n",
      "\t\tRx error:\t-11.1 dB\n",
      "SI-ATT. 106.5 dB\n",
      "Solutions SDR\\Rank-1:\n",
      "\t\tSI att.:\t107.0 dB\n",
      "\t\tTx error:\t-10.6 dB\n",
      "\t\tRx error:\t-10.8 dB\n",
      "SI-ATT. 107.5 dB\n",
      "Solutions SDR\\Rank-1:\n",
      "\t\tSI att.:\t108.0 dB\n",
      "\t\tTx error:\t-10.3 dB\n",
      "\t\tRx error:\t-10.5 dB\n",
      "SI-ATT. 108.5 dB\n",
      "Solutions SDR\\Rank-1:\n",
      "\t\tSI att.:\t109.0 dB\n",
      "\t\tTx error:\t-10.1 dB\n",
      "\t\tRx error:\t-10.3 dB\n",
      "SI-ATT. 109.5 dB\n",
      "Solutions SDR\\Rank-1:\n",
      "\t\tSI att.:\t110.0 dB\n",
      "\t\tTx error:\t-9.9 dB\n",
      "\t\tRx error:\t-10.0 dB\n",
      "SI-ATT. 110.5 dB\n",
      "Solutions SDR\\Rank-1:\n",
      "\t\tSI att.:\t111.1 dB\n",
      "\t\tTx error:\t-9.7 dB\n",
      "\t\tRx error:\t-9.8 dB\n",
      "SI-ATT. 111.5 dB\n",
      "Solutions SDR\\Rank-1:\n",
      "\t\tSI att.:\t112.1 dB\n",
      "\t\tTx error:\t-9.4 dB\n",
      "\t\tRx error:\t-9.6 dB\n",
      "SI-ATT. 112.5 dB\n",
      "Solutions SDR\\Rank-1:\n",
      "\t\tSI att.:\t113.2 dB\n",
      "\t\tTx error:\t-9.2 dB\n",
      "\t\tRx error:\t-9.4 dB\n",
      "SI-ATT. 113.5 dB\n",
      "Solutions SDR\\Rank-1:\n",
      "\t\tSI att.:\t114.2 dB\n",
      "\t\tTx error:\t-9.0 dB\n",
      "\t\tRx error:\t-9.2 dB\n",
      "SI-ATT. 114.5 dB\n",
      "Solutions SDR\\Rank-1:\n",
      "\t\tSI att.:\t115.3 dB\n",
      "\t\tTx error:\t-8.9 dB\n",
      "\t\tRx error:\t-9.0 dB\n",
      "SI-ATT. 115.5 dB\n",
      "Solutions SDR\\Rank-1:\n",
      "\t\tSI att.:\t116.4 dB\n",
      "\t\tTx error:\t-8.7 dB\n",
      "\t\tRx error:\t-8.8 dB\n",
      "SI-ATT. 116.5 dB\n",
      "Solutions SDR\\Rank-1:\n",
      "\t\tSI att.:\t117.5 dB\n",
      "\t\tTx error:\t-8.5 dB\n",
      "\t\tRx error:\t-8.6 dB\n",
      "SI-ATT. 117.5 dB\n",
      "Solutions SDR\\Rank-1:\n",
      "\t\tSI att.:\t118.6 dB\n",
      "\t\tTx error:\t-8.3 dB\n",
      "\t\tRx error:\t-8.5 dB\n",
      "SI-ATT. 118.5 dB\n",
      "Solutions SDR\\Rank-1:\n",
      "\t\tSI att.:\t119.7 dB\n",
      "\t\tTx error:\t-8.2 dB\n",
      "\t\tRx error:\t-8.3 dB\n",
      "SI-ATT. 119.5 dB\n",
      "Solutions SDR\\Rank-1:\n",
      "\t\tSI att.:\t120.8 dB\n",
      "\t\tTx error:\t-8.0 dB\n",
      "\t\tRx error:\t-8.1 dB\n",
      "SI-ATT. 120.5 dB\n",
      "Solutions SDR\\Rank-1:\n",
      "\t\tSI att.:\t121.9 dB\n",
      "\t\tTx error:\t-7.9 dB\n",
      "\t\tRx error:\t-8.0 dB\n",
      "SI-ATT. 121.5 dB\n",
      "Solutions SDR\\Rank-1:\n",
      "\t\tSI att.:\t123.1 dB\n",
      "\t\tTx error:\t-7.7 dB\n",
      "\t\tRx error:\t-7.8 dB\n",
      "SI-ATT. 122.5 dB\n",
      "Solutions SDR\\Rank-1:\n",
      "\t\tSI att.:\t124.2 dB\n",
      "\t\tTx error:\t-7.5 dB\n",
      "\t\tRx error:\t-7.7 dB\n",
      "SI-ATT. 123.5 dB\n",
      "Solutions SDR\\Rank-1:\n",
      "\t\tSI att.:\t125.4 dB\n",
      "\t\tTx error:\t-7.4 dB\n",
      "\t\tRx error:\t-7.5 dB\n",
      "SI-ATT. 124.5 dB\n",
      "Solutions SDR\\Rank-1:\n",
      "\t\tSI att.:\t126.5 dB\n",
      "\t\tTx error:\t-7.3 dB\n",
      "\t\tRx error:\t-7.4 dB\n",
      "SI-ATT. 125.5 dB\n",
      "Solutions SDR\\Rank-1:\n",
      "\t\tSI att.:\t127.7 dB\n",
      "\t\tTx error:\t-7.1 dB\n",
      "\t\tRx error:\t-7.3 dB\n",
      "SI-ATT. 126.5 dB\n",
      "Solutions SDR\\Rank-1:\n",
      "\t\tSI att.:\t128.8 dB\n",
      "\t\tTx error:\t-6.9 dB\n",
      "\t\tRx error:\t-7.1 dB\n",
      "SI-ATT. 127.5 dB\n",
      "Solutions SDR\\Rank-1:\n",
      "\t\tSI att.:\t129.9 dB\n",
      "\t\tTx error:\t-6.8 dB\n",
      "\t\tRx error:\t-7.0 dB\n",
      "SI-ATT. 128.5 dB\n",
      "Solutions SDR\\Rank-1:\n",
      "\t\tSI att.:\t130.8 dB\n",
      "\t\tTx error:\t-6.6 dB\n",
      "\t\tRx error:\t-6.8 dB\n",
      "SI-ATT. 129.5 dB\n",
      "Solutions SDR\\Rank-1:\n",
      "\t\tSI att.:\t131.7 dB\n",
      "\t\tTx error:\t-6.4 dB\n",
      "\t\tRx error:\t-6.6 dB\n",
      "SI-ATT. 130.5 dB\n",
      "Solutions SDR\\Rank-1:\n",
      "\t\tSI att.:\t132.6 dB\n",
      "\t\tTx error:\t-6.1 dB\n",
      "\t\tRx error:\t-6.4 dB\n",
      "SI-ATT. 131.5 dB\n",
      "Solutions SDR\\Rank-1:\n",
      "\t\tSI att.:\t133.5 dB\n",
      "\t\tTx error:\t-5.9 dB\n",
      "\t\tRx error:\t-6.2 dB\n",
      "SI-ATT. 132.5 dB\n",
      "Solutions SDR\\Rank-1:\n",
      "\t\tSI att.:\t134.6 dB\n",
      "\t\tTx error:\t-5.6 dB\n",
      "\t\tRx error:\t-6.0 dB\n",
      "SI-ATT. 133.5 dB\n",
      "Solutions SDR\\Rank-1:\n",
      "\t\tSI att.:\t135.8 dB\n",
      "\t\tTx error:\t-5.3 dB\n",
      "\t\tRx error:\t-5.7 dB\n",
      "SI-ATT. 134.5 dB\n",
      "Solutions SDR\\Rank-1:\n",
      "\t\tSI att.:\t137.0 dB\n",
      "\t\tTx error:\t-4.9 dB\n",
      "\t\tRx error:\t-5.4 dB\n",
      "SI-ATT. 135.5 dB\n",
      "Solutions SDR\\Rank-1:\n",
      "\t\tSI att.:\t138.2 dB\n",
      "\t\tTx error:\t-4.5 dB\n",
      "\t\tRx error:\t-5.0 dB\n"
     ]
    }
   ],
   "source": [
    "pbuf.print()"
   ]
  },
  {
   "cell_type": "markdown",
   "id": "48542c25-d288-4668-bbeb-c092ad3666da",
   "metadata": {},
   "source": [
    "## Saving results"
   ]
  },
  {
   "cell_type": "code",
   "execution_count": 11,
   "id": "34b09dcbf734bc8f",
   "metadata": {
    "ExecuteTime": {
     "end_time": "2024-09-27T16:58:43.806358Z",
     "start_time": "2024-09-27T16:58:43.785386Z"
    }
   },
   "outputs": [
    {
     "name": "stdout",
     "output_type": "stream",
     "text": [
      "Results saved under /mnt/project/results/lagrange_cb_results_taper_fulltap_si.csv\n"
     ]
    }
   ],
   "source": [
    "res_file = res_path/f\"lagrange_cb_results_taper_{si_num_taps}tap_si.csv\"\n",
    "res_df = pd.DataFrame(results)\n",
    "res_df.to_csv(res_file)\n",
    "print(f\"Results saved under {res_file}\")"
   ]
  },
  {
   "cell_type": "code",
   "execution_count": 12,
   "id": "9fa2a6d2-e24c-4a76-8dc1-ca512cfa5da8",
   "metadata": {
    "ExecuteTime": {
     "end_time": "2024-09-27T16:58:44.592066Z",
     "start_time": "2024-09-27T16:58:44.136497Z"
    },
    "tags": []
   },
   "outputs": [
    {
     "name": "stdout",
     "output_type": "stream",
     "text": [
      "lagrange_codebooks.npz was saved at /mnt/project/results.\n"
     ]
    }
   ],
   "source": [
    "method = \"lagrange\"\n",
    "\n",
    "att_values = [-np.inf]\n",
    "tx_codebooks = [dft_tx_codebook]\n",
    "rx_codebooks = [dft_rx_codebook]\n",
    "for cb in codebooks:\n",
    "    att_values.append(cb[\"att\"])\n",
    "    tx_codebooks.append(cb[\"tx_codebook_p\"])\n",
    "    rx_codebooks.append(cb[\"rx_codebook_p\"])\n",
    "\n",
    "att_values = np.array(att_values) \n",
    "tx_codebooks = np.stack(tx_codebooks, axis=0)\n",
    "rx_codebooks = np.stack(rx_codebooks, axis=0)\n",
    "\n",
    "metadata = np.array({\"method\": method, \"phased\": phased_array, \"si_num_taps\": si_num_taps,\n",
    "                     \"norm\": \"max\"})\n",
    "fname = f\"{method}_codebooks.npz\"\n",
    "np.savez(res_path/fname, att=att_values,\n",
    "         rx_degrees=rx_degs, tx_degrees=tx_degs,\n",
    "         rx=rx_codebooks, tx=tx_codebooks,\n",
    "         metadata=metadata)\n",
    "print(f\"{fname} was saved at {res_path}.\")"
   ]
  },
  {
   "cell_type": "code",
   "execution_count": 13,
   "id": "3e03d302-9e3a-42d2-a82e-81eed7d1bf50",
   "metadata": {
    "ExecuteTime": {
     "end_time": "2024-09-27T16:58:49.632420Z",
     "start_time": "2024-09-27T16:58:49.629936Z"
    },
    "tags": []
   },
   "outputs": [],
   "source": [
    "extra_att_cutoff = 6\n",
    "si_cutoff = si_norm_db - extra_att_cutoff\n",
    "si_mask = (-att_values) < si_cutoff\n",
    "tx_mag = np.abs(tx_codebooks[si_mask,].flatten())*np.sqrt(N_t)\n",
    "rx_mag = np.abs(rx_codebooks[si_mask,].flatten())*np.sqrt(N_r)"
   ]
  },
  {
   "cell_type": "code",
   "execution_count": 14,
   "id": "8daf5343-520b-4a8f-8dd1-aafb181e4a37",
   "metadata": {
    "ExecuteTime": {
     "end_time": "2024-09-27T16:58:52.879400Z",
     "start_time": "2024-09-27T16:58:52.636270Z"
    },
    "tags": []
   },
   "outputs": [
    {
     "data": {
      "image/png": "[encoded data removed]",
      "text/plain": [
       "<Figure size 640x480 with 1 Axes>"
      ]
     },
     "metadata": {},
     "output_type": "display_data"
    }
   ],
   "source": [
    "_ = plt.hist(tx_mag, bins=tx_codebooks.size//10, cumulative=True, density=True)\n",
    "_ = plt.xlabel(\"Antenna port magnitude\")\n",
    "_ = plt.ylabel(\"CDF\")\n",
    "_ = plt.xlim(min(tx_mag), max(tx_mag))\n",
    "_ = plt.title(f\"Tapering range for SI<{si_cutoff:.1f} dB\")"
   ]
  }
 ],
 "metadata": {
  "kernelspec": {
   "display_name": "Python 3 (ipykernel)",
   "language": "python",
   "name": "python3"
  },
  "language_info": {
   "codemirror_mode": {
    "name": "ipython",
    "version": 3
   },
   "file_extension": ".py",
   "mimetype": "text/x-python",
   "name": "python",
   "nbconvert_exporter": "python",
   "pygments_lexer": "ipython3",
   "version": "3.8.10"
  }
 },
 "nbformat": 4,
 "nbformat_minor": 5
}
