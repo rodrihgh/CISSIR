{
 "cells": [
  {
   "cell_type": "markdown",
   "id": "31c2874f-3ad9-4994-a21b-aaab3a78b7ab",
   "metadata": {},
   "source": [
    "# Lagrange codebook optimization"
   ]
  },
  {
   "cell_type": "markdown",
   "id": "2dfa7e58-6b11-4ef5-ba6f-5f99d8a621ee",
   "metadata": {},
   "source": [
    "## Setup"
   ]
  },
  {
   "cell_type": "code",
   "execution_count": 1,
   "id": "f86a7c9a-2faf-465f-a70b-54bd0cc60f84",
   "metadata": {
    "ExecuteTime": {
     "end_time": "2024-09-27T16:52:40.446225Z",
     "start_time": "2024-09-27T16:52:37.657667Z"
    }
   },
   "outputs": [
    {
     "name": "stdout",
     "output_type": "stream",
     "text": [
      "Compiling `sigma_poly_coeffs_toeplitz` function...\n",
      "Function compiled. time elapsed: 2.700 s\n"
     ]
    }
   ],
   "source": [
    "import time\n",
    "import json\n",
    "\n",
    "import numpy as np\n",
    "\n",
    "import pandas as pd\n",
    "from tqdm.notebook import tqdm\n",
    "\n",
    "import matplotlib.pyplot as plt\n",
    "from cissir import visualization as viz\n",
    "viz.paper_style(line_cycler=False, figsize=(1.5 * viz.def_figsize[0], 1.5 * viz.def_figsize[1]))\n",
    "\n",
    "from sionna.rt import Antenna\n",
    "\n",
    "from pathlib import Path\n",
    "from cissir.physics import pow2db, db2power, mag2db, db2mag\n",
    "from cissir.raytracing import si_paths2cir\n",
    "\n",
    "from cissir import params, optimization as opt\n",
    "from cissir.beamforming import dft_codebook, plot_beamforming_polar\n",
    "from cissir.utils import PrintBuffer\n",
    "\n",
    "base_path = Path.cwd().parent\n",
    "plot_path = base_path/\"plots\"\n",
    "res_path = base_path/\"results\"\n",
    "\n",
    "opt.compile_coeff_code()"
   ]
  },
  {
   "cell_type": "code",
   "execution_count": 2,
   "id": "87db658e-7c9d-4934-ad21-416c2bb10b79",
   "metadata": {
    "ExecuteTime": {
     "end_time": "2024-09-27T16:52:44.723423Z",
     "start_time": "2024-09-27T16:52:44.720796Z"
    }
   },
   "outputs": [],
   "source": [
    "# Global parameters\n",
    "\n",
    "c = params.c\n",
    "fc = params.fc_hz\n",
    "wavelength_m = params.wavelength_m\n",
    "\n",
    "\n",
    "ula_el_spacing = params.array_electrical_spacing\n",
    "\n",
    "N_r = params.n_rx\n",
    "N_t = params.n_tx\n",
    "\n",
    "# Number of beams\n",
    "L_r = params.num_beams\n",
    "L_t = params.num_beams"
   ]
  },
  {
   "cell_type": "markdown",
   "id": "6b0b9aba-f00e-403c-97c8-d5e7b36668af",
   "metadata": {},
   "source": [
    "### DFT beam codebook\n"
   ]
  },
  {
   "cell_type": "code",
   "execution_count": 3,
   "id": "2cdb9145-387b-4d88-8a1e-5c8b660fff92",
   "metadata": {
    "ExecuteTime": {
     "end_time": "2024-09-19T13:26:30.444823Z",
     "start_time": "2024-09-19T13:26:30.441319Z"
    }
   },
   "outputs": [],
   "source": [
    "dft_tx_codebook, tx_degs = dft_codebook(L_max = L_t , N1 = N_t, full_grid=True,\n",
    "                                          az_min = -60, az_max = 60, transmit=True)\n",
    "L_t = len(tx_degs)\n",
    "dft_rx_codebook, rx_degs = dft_codebook(L_max = L_r , N1 = N_r, full_grid=True,\n",
    "                                          az_min = -60, az_max = 60, transmit=False)\n",
    "L_r = len(rx_degs)"
   ]
  },
  {
   "cell_type": "code",
   "execution_count": 11,
   "id": "c6e3dec1-5035-4c16-8229-63e7e0480095",
   "metadata": {
    "ExecuteTime": {
     "end_time": "2024-09-19T13:26:35.291614Z",
     "start_time": "2024-09-19T13:26:35.284096Z"
    }
   },
   "outputs": [],
   "source": [
    "si_num_taps = 1 # \"full\"    # Options: 1, 2, \"full\"\n",
    "\n",
    "def cb_si_db(tx_codebook, rx_codebook, si_channel):\n",
    "    return mag2db(opt.codebook_si(tx_codebook, rx_codebook, si_channel))\n",
    "\n",
    "with np.load(res_path/\"channel_impulse_responses.npz\") as rt_data:\n",
    "    t_rt = np.squeeze(rt_data['t_channel_s'])\n",
    "    ht_si_full = np.squeeze(rt_data['ht_si'])\n",
    "    h_full = si_paths2cir(ht_si_full)\n",
    "\n",
    "if si_num_taps == \"full\":\n",
    "    h_si = h_full\n",
    "    si_db_ref = cb_si_db(dft_tx_codebook, dft_rx_codebook, h_si).max()\n",
    "else:\n",
    "    with np.load(res_path/\"si_mimo.npz\") as rt_data:\n",
    "        h_si = rt_data['h_si_matrix'][:si_num_taps]\n",
    "    si_db_ref = cb_si_db(dft_tx_codebook, dft_rx_codebook,\n",
    "                         si_paths2cir(ht_si_full[:si_num_taps])).max()\n",
    "    h_si *= db2mag(si_db_ref - cb_si_db(dft_tx_codebook, dft_rx_codebook, h_si).max())\n",
    "    \n",
    "    assert h_si.shape == (si_num_taps, N_r, N_t), \"Unexpected SI shape\""
   ]
  },
  {
   "cell_type": "code",
   "execution_count": 12,
   "id": "2450d619-5a0a-42d0-8d98-13d572b1a031",
   "metadata": {
    "ExecuteTime": {
     "end_time": "2024-09-19T13:26:35.311868Z",
     "start_time": "2024-09-19T13:26:35.292383Z"
    }
   },
   "outputs": [],
   "source": [
    "h_si_rx, h_si_tx = opt.si_split(h_si)\n",
    "\n",
    "min_eigval_db = mag2db(opt.min_eigval(h_si))\n",
    "max_eigval_db = mag2db(opt.max_eigval(h_si))\n",
    "\n",
    "min_split_db = pow2db(opt.min_eigval(h_si_rx)*opt.min_eigval(h_si_tx))\n",
    "max_split_db = pow2db(opt.max_eigval(h_si_rx)*opt.max_eigval(h_si_tx))\n",
    "lagrange_feas_db = pow2db(opt.feasible_eigval_lagrange(dft_rx_codebook, h_si_rx).max() *\n",
    "                          opt.feasible_eigval_lagrange(dft_tx_codebook, h_si_tx).max())\n",
    "max_att = si_db_ref - lagrange_feas_db"
   ]
  },
  {
   "cell_type": "code",
   "execution_count": 13,
   "id": "165cf16d-f36e-4874-b889-060d7ff78dce",
   "metadata": {
    "ExecuteTime": {
     "end_time": "2024-09-19T13:26:35.311868Z",
     "start_time": "2024-09-19T13:26:35.292383Z"
    }
   },
   "outputs": [
    {
     "name": "stdout",
     "output_type": "stream",
     "text": [
      "      eig_min H: -173.9 dB\n",
      "eig_min Grx\\Gtx: -177.3 dB\n",
      "Lagrange feas. : -165.5 dB\n",
      "            cHw: -60.6 dB\n",
      "      eig_max H: -41.9 dB\n",
      "eig_max Grx\\Gtx: -41.4 dB\n"
     ]
    }
   ],
   "source": [
    "print(f\"      eig_min H: {min_eigval_db:.1f} dB\")\n",
    "print(f\"eig_min Grx\\Gtx: {min_split_db:.1f} dB\")\n",
    "print(f\"Lagrange feas. : {lagrange_feas_db:.1f} dB\")\n",
    "print(f\"            cHw: {si_db_ref:.1f} dB\")\n",
    "print(f\"      eig_max H: {max_eigval_db:.1f} dB\")\n",
    "print(f\"eig_max Grx\\Gtx: {max_split_db:.1f} dB\")"
   ]
  },
  {
   "cell_type": "markdown",
   "id": "45955310-1b3c-43af-8d40-36e816cecee3",
   "metadata": {},
   "source": [
    "## Optimization"
   ]
  },
  {
   "cell_type": "code",
   "execution_count": 14,
   "id": "fd2ecefc-d0f2-4cf0-9ef8-f3911f5e588a",
   "metadata": {
    "ExecuteTime": {
     "end_time": "2024-09-27T16:58:03.434778Z",
     "start_time": "2024-09-27T16:58:03.432422Z"
    }
   },
   "outputs": [],
   "source": [
    "tgt_si_values = np.arange(si_db_ref, lagrange_feas_db + 0.5, -1.0)\n",
    "pbuf = PrintBuffer(print_input=False)"
   ]
  },
  {
   "cell_type": "code",
   "execution_count": 15,
   "id": "ae3987bf-ba12-49fb-baa3-7a8352da4b5c",
   "metadata": {
    "ExecuteTime": {
     "end_time": "2024-09-27T16:58:09.426229Z",
     "start_time": "2024-09-27T16:58:09.289883Z"
    }
   },
   "outputs": [
    {
     "data": {
      "application/vnd.jupyter.widget-view+json": {
       "model_id": "185207537c444b31aff9be9947f5e6df",
       "version_major": 2,
       "version_minor": 0
      },
      "text/plain": [
       "  0%|          | 0/105 [00:00<?, ?it/s]"
      ]
     },
     "metadata": {},
     "output_type": "display_data"
    }
   ],
   "source": [
    "rx_mesh, tx_mesh = np.meshgrid(rx_degs, tx_degs, indexing=\"ij\")\n",
    "beam_results = {\"opt\": \"sdr\",\n",
    "                \"taps\": si_num_taps,\n",
    "                \"tx\": {\"degrees\": tx_degs.tolist(),\n",
    "                       \"grid\": tx_mesh.flatten().tolist()},\n",
    "                \"rx\": {\"degrees\": rx_degs.tolist(),\n",
    "                       \"grid\": rx_mesh.flatten().tolist()},\n",
    "                \"tgt_si\": [],\n",
    "                \"ach_si\": [],\n",
    "                \"beam_dev_tx\": [],\n",
    "                \"beam_dev_rx\": []\n",
    "                }\n",
    "\n",
    "results = []\n",
    "codebooks = []\n",
    "\n",
    "phased_array = False\n",
    "\n",
    "\n",
    "pbar = tqdm(tgt_si_values)\n",
    "pbar.set_description(f\"Baseline SI {si_db_ref:.1f} dB\")\n",
    "for tgt_si_db in pbar:\n",
    "    \n",
    "    att_db = -tgt_si_db\n",
    "    tgt_si_pow = db2power(tgt_si_db)\n",
    "    \n",
    "    q = 0.5\n",
    "    tgt_si_tx, tgt_si_rx = tgt_si_pow ** q, tgt_si_pow ** (1-q)\n",
    "\n",
    "    pbuf.print(f\"SI-ATT. {att_db:.1f} dB\")\n",
    "    \n",
    "    start_time = time.perf_counter()\n",
    "    w_codebook = opt.lagrange_codebook(dft_tx_codebook, tgt_si_tx, h_si_tx, si_tol=0.01, real_tol=1e-3)\n",
    "    c_codebook = opt.lagrange_codebook(dft_rx_codebook, tgt_si_rx, h_si_rx, si_tol=0.01, real_tol=1e-3)\n",
    "    end_time = time.perf_counter()\n",
    "    \n",
    "    si_db_matrix = cb_si_db(w_codebook, c_codebook, h_si)\n",
    "    si_db_opt = np.max(si_db_matrix)\n",
    "    \n",
    "    tx_dev_beam = np.maximum(opt.codebook_deviation_power(dft_tx_codebook, w_codebook, axis=0), 1e-10)\n",
    "    rx_dev_beam = np.maximum(opt.codebook_deviation_power(dft_rx_codebook, c_codebook, axis=0), 1e-10)\n",
    "    loss_w_opt = pow2db(np.mean(tx_dev_beam))\n",
    "    loss_c_opt = pow2db(np.mean(rx_dev_beam))\n",
    "    \n",
    "    att_rank1 = -si_db_opt\n",
    "    pbuf.print(\"Solutions SDR\\\\Rank-1:\")\n",
    "    pbuf.print(f\"\\t\\tSI att.:\\t{att_rank1:.1f} dB\")\n",
    "    pbuf.print(f\"\\t\\tTx error:\\t{loss_w_opt:.1f} dB\")\n",
    "    pbuf.print(f\"\\t\\tRx error:\\t{loss_c_opt:.1f} dB\")\n",
    "\n",
    "    tx_beam_db = pow2db(tx_dev_beam)\n",
    "    rx_beam_db = pow2db(rx_dev_beam)\n",
    "    \n",
    "    postfix = (f\"SI Tgt::Actual {att_db:.1f}::{att_rank1:.1f} dB; \"\n",
    "               f\"Error Tx::Rx {loss_w_opt:.1f}::{loss_c_opt:.1f} dB\")\n",
    "    pbar.set_postfix_str(postfix)\n",
    "\n",
    "    if si_num_taps == \"full\":\n",
    "        att_full_db = att_rank1\n",
    "    else:\n",
    "        si_db_full = mag2db(np.max(opt.codebook_si(w_codebook, c_codebook, h_full)))\n",
    "        att_full_db =  - si_db_full\n",
    "\n",
    "    beam_results[\"tgt_si\"].append(-att_db)\n",
    "    beam_results[\"ach_si\"].append(si_db_matrix.flatten().tolist())\n",
    "    beam_results[\"beam_dev_tx\"].append(tx_beam_db.tolist())\n",
    "    beam_results[\"beam_dev_rx\"].append(rx_beam_db.tolist())\n",
    "    \n",
    "    codebooks.append({\"att_tgt\": att_db, \"att_opt\": att_rank1, \"rx_codebook_p\": c_codebook, \"tx_codebook_p\": w_codebook})\n",
    "    results.append({\"att_tgt\": att_db, \"opt\": \"sdp\", \"elapsed_time\": end_time - start_time,\n",
    "                    \"att_opt\": att_rank1, \"tx_loss\": loss_w_opt, \"rx_loss\": loss_c_opt,\n",
    "                    \"att_full\": att_full_db,\n",
    "                    \"phased\": phased_array, \"si_taps\": si_num_taps, \"num_beams\": L_t})\n"
   ]
  },
  {
   "cell_type": "code",
   "execution_count": 16,
   "id": "81769dcd91485413",
   "metadata": {
    "ExecuteTime": {
     "end_time": "2024-09-27T16:58:13.007958Z",
     "start_time": "2024-09-27T16:58:13.005177Z"
    },
    "scrolled": true
   },
   "outputs": [
    {
     "name": "stdout",
     "output_type": "stream",
     "text": [
      "SI-ATT. 60.6 dB\n",
      "Solutions SDR\\Rank-1:\n",
      "\t\tSI att.:\t60.6 dB\n",
      "\t\tTx error:\t-100.0 dB\n",
      "\t\tRx error:\t-100.0 dB\n",
      "SI-ATT. 61.6 dB\n",
      "Solutions SDR\\Rank-1:\n",
      "\t\tSI att.:\t61.6 dB\n",
      "\t\tTx error:\t-44.9 dB\n",
      "\t\tRx error:\t-44.9 dB\n",
      "SI-ATT. 62.6 dB\n",
      "Solutions SDR\\Rank-1:\n",
      "\t\tSI att.:\t62.6 dB\n",
      "\t\tTx error:\t-39.2 dB\n",
      "\t\tRx error:\t-39.2 dB\n",
      "SI-ATT. 63.6 dB\n",
      "Solutions SDR\\Rank-1:\n",
      "\t\tSI att.:\t63.6 dB\n",
      "\t\tTx error:\t-35.9 dB\n",
      "\t\tRx error:\t-35.9 dB\n",
      "SI-ATT. 64.6 dB\n",
      "Solutions SDR\\Rank-1:\n",
      "\t\tSI att.:\t64.6 dB\n",
      "\t\tTx error:\t-33.6 dB\n",
      "\t\tRx error:\t-33.6 dB\n",
      "SI-ATT. 65.6 dB\n",
      "Solutions SDR\\Rank-1:\n",
      "\t\tSI att.:\t65.6 dB\n",
      "\t\tTx error:\t-31.9 dB\n",
      "\t\tRx error:\t-31.9 dB\n",
      "SI-ATT. 66.6 dB\n",
      "Solutions SDR\\Rank-1:\n",
      "\t\tSI att.:\t66.6 dB\n",
      "\t\tTx error:\t-30.5 dB\n",
      "\t\tRx error:\t-30.5 dB\n",
      "SI-ATT. 67.6 dB\n",
      "Solutions SDR\\Rank-1:\n",
      "\t\tSI att.:\t67.6 dB\n",
      "\t\tTx error:\t-29.3 dB\n",
      "\t\tRx error:\t-29.3 dB\n",
      "SI-ATT. 68.6 dB\n",
      "Solutions SDR\\Rank-1:\n",
      "\t\tSI att.:\t68.6 dB\n",
      "\t\tTx error:\t-28.3 dB\n",
      "\t\tRx error:\t-28.3 dB\n",
      "SI-ATT. 69.6 dB\n",
      "Solutions SDR\\Rank-1:\n",
      "\t\tSI att.:\t69.6 dB\n",
      "\t\tTx error:\t-27.3 dB\n",
      "\t\tRx error:\t-27.3 dB\n",
      "SI-ATT. 70.6 dB\n",
      "Solutions SDR\\Rank-1:\n",
      "\t\tSI att.:\t70.6 dB\n",
      "\t\tTx error:\t-26.4 dB\n",
      "\t\tRx error:\t-26.4 dB\n",
      "SI-ATT. 71.6 dB\n",
      "Solutions SDR\\Rank-1:\n",
      "\t\tSI att.:\t71.6 dB\n",
      "\t\tTx error:\t-25.6 dB\n",
      "\t\tRx error:\t-25.6 dB\n",
      "SI-ATT. 72.6 dB\n",
      "Solutions SDR\\Rank-1:\n",
      "\t\tSI att.:\t72.6 dB\n",
      "\t\tTx error:\t-24.9 dB\n",
      "\t\tRx error:\t-24.9 dB\n",
      "SI-ATT. 73.6 dB\n",
      "Solutions SDR\\Rank-1:\n",
      "\t\tSI att.:\t73.6 dB\n",
      "\t\tTx error:\t-24.2 dB\n",
      "\t\tRx error:\t-24.2 dB\n",
      "SI-ATT. 74.6 dB\n",
      "Solutions SDR\\Rank-1:\n",
      "\t\tSI att.:\t74.6 dB\n",
      "\t\tTx error:\t-23.6 dB\n",
      "\t\tRx error:\t-23.6 dB\n",
      "SI-ATT. 75.6 dB\n",
      "Solutions SDR\\Rank-1:\n",
      "\t\tSI att.:\t75.6 dB\n",
      "\t\tTx error:\t-23.0 dB\n",
      "\t\tRx error:\t-23.0 dB\n",
      "SI-ATT. 76.6 dB\n",
      "Solutions SDR\\Rank-1:\n",
      "\t\tSI att.:\t76.6 dB\n",
      "\t\tTx error:\t-22.4 dB\n",
      "\t\tRx error:\t-22.4 dB\n",
      "SI-ATT. 77.6 dB\n",
      "Solutions SDR\\Rank-1:\n",
      "\t\tSI att.:\t77.6 dB\n",
      "\t\tTx error:\t-21.9 dB\n",
      "\t\tRx error:\t-21.9 dB\n",
      "SI-ATT. 78.6 dB\n",
      "Solutions SDR\\Rank-1:\n",
      "\t\tSI att.:\t78.6 dB\n",
      "\t\tTx error:\t-21.4 dB\n",
      "\t\tRx error:\t-21.4 dB\n",
      "SI-ATT. 79.6 dB\n",
      "Solutions SDR\\Rank-1:\n",
      "\t\tSI att.:\t79.6 dB\n",
      "\t\tTx error:\t-20.8 dB\n",
      "\t\tRx error:\t-20.8 dB\n",
      "SI-ATT. 80.6 dB\n",
      "Solutions SDR\\Rank-1:\n",
      "\t\tSI att.:\t80.6 dB\n",
      "\t\tTx error:\t-20.2 dB\n",
      "\t\tRx error:\t-20.2 dB\n",
      "SI-ATT. 81.6 dB\n",
      "Solutions SDR\\Rank-1:\n",
      "\t\tSI att.:\t81.5 dB\n",
      "\t\tTx error:\t-19.7 dB\n",
      "\t\tRx error:\t-19.7 dB\n",
      "SI-ATT. 82.6 dB\n",
      "Solutions SDR\\Rank-1:\n",
      "\t\tSI att.:\t82.6 dB\n",
      "\t\tTx error:\t-19.1 dB\n",
      "\t\tRx error:\t-19.1 dB\n",
      "SI-ATT. 83.6 dB\n",
      "Solutions SDR\\Rank-1:\n",
      "\t\tSI att.:\t83.6 dB\n",
      "\t\tTx error:\t-18.5 dB\n",
      "\t\tRx error:\t-18.5 dB\n",
      "SI-ATT. 84.6 dB\n",
      "Solutions SDR\\Rank-1:\n",
      "\t\tSI att.:\t84.6 dB\n",
      "\t\tTx error:\t-17.9 dB\n",
      "\t\tRx error:\t-17.9 dB\n",
      "SI-ATT. 85.6 dB\n",
      "Solutions SDR\\Rank-1:\n",
      "\t\tSI att.:\t85.6 dB\n",
      "\t\tTx error:\t-17.3 dB\n",
      "\t\tRx error:\t-17.3 dB\n",
      "SI-ATT. 86.6 dB\n",
      "Solutions SDR\\Rank-1:\n",
      "\t\tSI att.:\t86.6 dB\n",
      "\t\tTx error:\t-16.8 dB\n",
      "\t\tRx error:\t-16.8 dB\n",
      "SI-ATT. 87.6 dB\n",
      "Solutions SDR\\Rank-1:\n",
      "\t\tSI att.:\t87.6 dB\n",
      "\t\tTx error:\t-16.3 dB\n",
      "\t\tRx error:\t-16.3 dB\n",
      "SI-ATT. 88.6 dB\n",
      "Solutions SDR\\Rank-1:\n",
      "\t\tSI att.:\t88.6 dB\n",
      "\t\tTx error:\t-15.9 dB\n",
      "\t\tRx error:\t-15.9 dB\n",
      "SI-ATT. 89.6 dB\n",
      "Solutions SDR\\Rank-1:\n",
      "\t\tSI att.:\t89.6 dB\n",
      "\t\tTx error:\t-15.4 dB\n",
      "\t\tRx error:\t-15.4 dB\n",
      "SI-ATT. 90.6 dB\n",
      "Solutions SDR\\Rank-1:\n",
      "\t\tSI att.:\t90.6 dB\n",
      "\t\tTx error:\t-15.0 dB\n",
      "\t\tRx error:\t-15.0 dB\n",
      "SI-ATT. 91.6 dB\n",
      "Solutions SDR\\Rank-1:\n",
      "\t\tSI att.:\t91.6 dB\n",
      "\t\tTx error:\t-14.6 dB\n",
      "\t\tRx error:\t-14.6 dB\n",
      "SI-ATT. 92.6 dB\n",
      "Solutions SDR\\Rank-1:\n",
      "\t\tSI att.:\t92.6 dB\n",
      "\t\tTx error:\t-14.3 dB\n",
      "\t\tRx error:\t-14.3 dB\n",
      "SI-ATT. 93.6 dB\n",
      "Solutions SDR\\Rank-1:\n",
      "\t\tSI att.:\t93.6 dB\n",
      "\t\tTx error:\t-13.9 dB\n",
      "\t\tRx error:\t-13.9 dB\n",
      "SI-ATT. 94.6 dB\n",
      "Solutions SDR\\Rank-1:\n",
      "\t\tSI att.:\t94.6 dB\n",
      "\t\tTx error:\t-13.6 dB\n",
      "\t\tRx error:\t-13.6 dB\n",
      "SI-ATT. 95.6 dB\n",
      "Solutions SDR\\Rank-1:\n",
      "\t\tSI att.:\t95.6 dB\n",
      "\t\tTx error:\t-13.3 dB\n",
      "\t\tRx error:\t-13.3 dB\n",
      "SI-ATT. 96.6 dB\n",
      "Solutions SDR\\Rank-1:\n",
      "\t\tSI att.:\t96.6 dB\n",
      "\t\tTx error:\t-13.1 dB\n",
      "\t\tRx error:\t-13.1 dB\n",
      "SI-ATT. 97.6 dB\n",
      "Solutions SDR\\Rank-1:\n",
      "\t\tSI att.:\t97.6 dB\n",
      "\t\tTx error:\t-12.8 dB\n",
      "\t\tRx error:\t-12.8 dB\n",
      "SI-ATT. 98.6 dB\n",
      "Solutions SDR\\Rank-1:\n",
      "\t\tSI att.:\t98.6 dB\n",
      "\t\tTx error:\t-12.6 dB\n",
      "\t\tRx error:\t-12.6 dB\n",
      "SI-ATT. 99.6 dB\n",
      "Solutions SDR\\Rank-1:\n",
      "\t\tSI att.:\t99.6 dB\n",
      "\t\tTx error:\t-12.3 dB\n",
      "\t\tRx error:\t-12.3 dB\n",
      "SI-ATT. 100.6 dB\n",
      "Solutions SDR\\Rank-1:\n",
      "\t\tSI att.:\t100.6 dB\n",
      "\t\tTx error:\t-12.1 dB\n",
      "\t\tRx error:\t-12.1 dB\n",
      "SI-ATT. 101.6 dB\n",
      "Solutions SDR\\Rank-1:\n",
      "\t\tSI att.:\t101.6 dB\n",
      "\t\tTx error:\t-11.9 dB\n",
      "\t\tRx error:\t-11.9 dB\n",
      "SI-ATT. 102.6 dB\n",
      "Solutions SDR\\Rank-1:\n",
      "\t\tSI att.:\t102.6 dB\n",
      "\t\tTx error:\t-11.7 dB\n",
      "\t\tRx error:\t-11.7 dB\n",
      "SI-ATT. 103.6 dB\n",
      "Solutions SDR\\Rank-1:\n",
      "\t\tSI att.:\t103.6 dB\n",
      "\t\tTx error:\t-11.5 dB\n",
      "\t\tRx error:\t-11.5 dB\n",
      "SI-ATT. 104.6 dB\n",
      "Solutions SDR\\Rank-1:\n",
      "\t\tSI att.:\t104.6 dB\n",
      "\t\tTx error:\t-11.3 dB\n",
      "\t\tRx error:\t-11.3 dB\n",
      "SI-ATT. 105.6 dB\n",
      "Solutions SDR\\Rank-1:\n",
      "\t\tSI att.:\t105.6 dB\n",
      "\t\tTx error:\t-11.1 dB\n",
      "\t\tRx error:\t-11.1 dB\n",
      "SI-ATT. 106.6 dB\n",
      "Solutions SDR\\Rank-1:\n",
      "\t\tSI att.:\t106.6 dB\n",
      "\t\tTx error:\t-10.9 dB\n",
      "\t\tRx error:\t-10.9 dB\n",
      "SI-ATT. 107.6 dB\n",
      "Solutions SDR\\Rank-1:\n",
      "\t\tSI att.:\t107.6 dB\n",
      "\t\tTx error:\t-10.7 dB\n",
      "\t\tRx error:\t-10.7 dB\n",
      "SI-ATT. 108.6 dB\n",
      "Solutions SDR\\Rank-1:\n",
      "\t\tSI att.:\t108.6 dB\n",
      "\t\tTx error:\t-10.6 dB\n",
      "\t\tRx error:\t-10.6 dB\n",
      "SI-ATT. 109.6 dB\n",
      "Solutions SDR\\Rank-1:\n",
      "\t\tSI att.:\t109.6 dB\n",
      "\t\tTx error:\t-10.4 dB\n",
      "\t\tRx error:\t-10.4 dB\n",
      "SI-ATT. 110.6 dB\n",
      "Solutions SDR\\Rank-1:\n",
      "\t\tSI att.:\t110.6 dB\n",
      "\t\tTx error:\t-10.2 dB\n",
      "\t\tRx error:\t-10.2 dB\n",
      "SI-ATT. 111.6 dB\n",
      "Solutions SDR\\Rank-1:\n",
      "\t\tSI att.:\t111.6 dB\n",
      "\t\tTx error:\t-10.0 dB\n",
      "\t\tRx error:\t-10.0 dB\n",
      "SI-ATT. 112.6 dB\n",
      "Solutions SDR\\Rank-1:\n",
      "\t\tSI att.:\t112.6 dB\n",
      "\t\tTx error:\t-9.8 dB\n",
      "\t\tRx error:\t-9.8 dB\n",
      "SI-ATT. 113.6 dB\n",
      "Solutions SDR\\Rank-1:\n",
      "\t\tSI att.:\t113.6 dB\n",
      "\t\tTx error:\t-9.7 dB\n",
      "\t\tRx error:\t-9.7 dB\n",
      "SI-ATT. 114.6 dB\n",
      "Solutions SDR\\Rank-1:\n",
      "\t\tSI att.:\t114.6 dB\n",
      "\t\tTx error:\t-9.5 dB\n",
      "\t\tRx error:\t-9.5 dB\n",
      "SI-ATT. 115.6 dB\n",
      "Solutions SDR\\Rank-1:\n",
      "\t\tSI att.:\t115.6 dB\n",
      "\t\tTx error:\t-9.3 dB\n",
      "\t\tRx error:\t-9.3 dB\n",
      "SI-ATT. 116.6 dB\n",
      "Solutions SDR\\Rank-1:\n",
      "\t\tSI att.:\t116.6 dB\n",
      "\t\tTx error:\t-9.1 dB\n",
      "\t\tRx error:\t-9.1 dB\n",
      "SI-ATT. 117.6 dB\n",
      "Solutions SDR\\Rank-1:\n",
      "\t\tSI att.:\t117.6 dB\n",
      "\t\tTx error:\t-8.9 dB\n",
      "\t\tRx error:\t-8.9 dB\n",
      "SI-ATT. 118.6 dB\n",
      "Solutions SDR\\Rank-1:\n",
      "\t\tSI att.:\t118.6 dB\n",
      "\t\tTx error:\t-8.7 dB\n",
      "\t\tRx error:\t-8.7 dB\n",
      "SI-ATT. 119.6 dB\n",
      "Solutions SDR\\Rank-1:\n",
      "\t\tSI att.:\t119.6 dB\n",
      "\t\tTx error:\t-8.5 dB\n",
      "\t\tRx error:\t-8.5 dB\n",
      "SI-ATT. 120.6 dB\n",
      "Solutions SDR\\Rank-1:\n",
      "\t\tSI att.:\t120.6 dB\n",
      "\t\tTx error:\t-8.4 dB\n",
      "\t\tRx error:\t-8.4 dB\n",
      "SI-ATT. 121.6 dB\n",
      "Solutions SDR\\Rank-1:\n",
      "\t\tSI att.:\t121.6 dB\n",
      "\t\tTx error:\t-8.2 dB\n",
      "\t\tRx error:\t-8.2 dB\n",
      "SI-ATT. 122.6 dB\n",
      "Solutions SDR\\Rank-1:\n",
      "\t\tSI att.:\t122.6 dB\n",
      "\t\tTx error:\t-8.0 dB\n",
      "\t\tRx error:\t-8.0 dB\n",
      "SI-ATT. 123.6 dB\n",
      "Solutions SDR\\Rank-1:\n",
      "\t\tSI att.:\t123.6 dB\n",
      "\t\tTx error:\t-7.9 dB\n",
      "\t\tRx error:\t-7.9 dB\n",
      "SI-ATT. 124.6 dB\n",
      "Solutions SDR\\Rank-1:\n",
      "\t\tSI att.:\t124.6 dB\n",
      "\t\tTx error:\t-7.7 dB\n",
      "\t\tRx error:\t-7.7 dB\n",
      "SI-ATT. 125.6 dB\n",
      "Solutions SDR\\Rank-1:\n",
      "\t\tSI att.:\t125.6 dB\n",
      "\t\tTx error:\t-7.6 dB\n",
      "\t\tRx error:\t-7.6 dB\n",
      "SI-ATT. 126.6 dB\n",
      "Solutions SDR\\Rank-1:\n",
      "\t\tSI att.:\t126.6 dB\n",
      "\t\tTx error:\t-7.4 dB\n",
      "\t\tRx error:\t-7.4 dB\n",
      "SI-ATT. 127.6 dB\n",
      "Solutions SDR\\Rank-1:\n",
      "\t\tSI att.:\t127.6 dB\n",
      "\t\tTx error:\t-7.3 dB\n",
      "\t\tRx error:\t-7.3 dB\n",
      "SI-ATT. 128.6 dB\n",
      "Solutions SDR\\Rank-1:\n",
      "\t\tSI att.:\t128.6 dB\n",
      "\t\tTx error:\t-7.2 dB\n",
      "\t\tRx error:\t-7.2 dB\n",
      "SI-ATT. 129.6 dB\n",
      "Solutions SDR\\Rank-1:\n",
      "\t\tSI att.:\t129.6 dB\n",
      "\t\tTx error:\t-7.0 dB\n",
      "\t\tRx error:\t-7.0 dB\n",
      "SI-ATT. 130.6 dB\n",
      "Solutions SDR\\Rank-1:\n",
      "\t\tSI att.:\t130.6 dB\n",
      "\t\tTx error:\t-6.9 dB\n",
      "\t\tRx error:\t-6.9 dB\n",
      "SI-ATT. 131.6 dB\n",
      "Solutions SDR\\Rank-1:\n",
      "\t\tSI att.:\t131.6 dB\n",
      "\t\tTx error:\t-6.8 dB\n",
      "\t\tRx error:\t-6.8 dB\n",
      "SI-ATT. 132.6 dB\n",
      "Solutions SDR\\Rank-1:\n",
      "\t\tSI att.:\t132.6 dB\n",
      "\t\tTx error:\t-6.7 dB\n",
      "\t\tRx error:\t-6.7 dB\n",
      "SI-ATT. 133.6 dB\n",
      "Solutions SDR\\Rank-1:\n",
      "\t\tSI att.:\t133.6 dB\n",
      "\t\tTx error:\t-6.5 dB\n",
      "\t\tRx error:\t-6.5 dB\n",
      "SI-ATT. 134.6 dB\n",
      "Solutions SDR\\Rank-1:\n",
      "\t\tSI att.:\t134.6 dB\n",
      "\t\tTx error:\t-6.4 dB\n",
      "\t\tRx error:\t-6.4 dB\n",
      "SI-ATT. 135.6 dB\n",
      "Solutions SDR\\Rank-1:\n",
      "\t\tSI att.:\t135.6 dB\n",
      "\t\tTx error:\t-6.3 dB\n",
      "\t\tRx error:\t-6.3 dB\n",
      "SI-ATT. 136.6 dB\n",
      "Solutions SDR\\Rank-1:\n",
      "\t\tSI att.:\t136.6 dB\n",
      "\t\tTx error:\t-6.2 dB\n",
      "\t\tRx error:\t-6.2 dB\n",
      "SI-ATT. 137.6 dB\n",
      "Solutions SDR\\Rank-1:\n",
      "\t\tSI att.:\t137.6 dB\n",
      "\t\tTx error:\t-6.1 dB\n",
      "\t\tRx error:\t-6.1 dB\n",
      "SI-ATT. 138.6 dB\n",
      "Solutions SDR\\Rank-1:\n",
      "\t\tSI att.:\t138.6 dB\n",
      "\t\tTx error:\t-6.0 dB\n",
      "\t\tRx error:\t-6.0 dB\n",
      "SI-ATT. 139.6 dB\n",
      "Solutions SDR\\Rank-1:\n",
      "\t\tSI att.:\t139.6 dB\n",
      "\t\tTx error:\t-5.9 dB\n",
      "\t\tRx error:\t-5.9 dB\n",
      "SI-ATT. 140.6 dB\n",
      "Solutions SDR\\Rank-1:\n",
      "\t\tSI att.:\t140.6 dB\n",
      "\t\tTx error:\t-5.8 dB\n",
      "\t\tRx error:\t-5.8 dB\n",
      "SI-ATT. 141.6 dB\n",
      "Solutions SDR\\Rank-1:\n",
      "\t\tSI att.:\t141.6 dB\n",
      "\t\tTx error:\t-5.7 dB\n",
      "\t\tRx error:\t-5.7 dB\n",
      "SI-ATT. 142.6 dB\n",
      "Solutions SDR\\Rank-1:\n",
      "\t\tSI att.:\t142.6 dB\n",
      "\t\tTx error:\t-5.6 dB\n",
      "\t\tRx error:\t-5.6 dB\n",
      "SI-ATT. 143.6 dB\n",
      "Solutions SDR\\Rank-1:\n",
      "\t\tSI att.:\t143.6 dB\n",
      "\t\tTx error:\t-5.5 dB\n",
      "\t\tRx error:\t-5.5 dB\n",
      "SI-ATT. 144.6 dB\n",
      "Solutions SDR\\Rank-1:\n",
      "\t\tSI att.:\t144.7 dB\n",
      "\t\tTx error:\t-5.4 dB\n",
      "\t\tRx error:\t-5.4 dB\n",
      "SI-ATT. 145.6 dB\n",
      "Solutions SDR\\Rank-1:\n",
      "\t\tSI att.:\t145.7 dB\n",
      "\t\tTx error:\t-5.3 dB\n",
      "\t\tRx error:\t-5.3 dB\n",
      "SI-ATT. 146.6 dB\n",
      "Solutions SDR\\Rank-1:\n",
      "\t\tSI att.:\t146.7 dB\n",
      "\t\tTx error:\t-5.1 dB\n",
      "\t\tRx error:\t-5.1 dB\n",
      "SI-ATT. 147.6 dB\n",
      "Solutions SDR\\Rank-1:\n",
      "\t\tSI att.:\t147.7 dB\n",
      "\t\tTx error:\t-5.0 dB\n",
      "\t\tRx error:\t-5.0 dB\n",
      "SI-ATT. 148.6 dB\n",
      "Solutions SDR\\Rank-1:\n",
      "\t\tSI att.:\t148.8 dB\n",
      "\t\tTx error:\t-4.9 dB\n",
      "\t\tRx error:\t-4.9 dB\n",
      "SI-ATT. 149.6 dB\n",
      "Solutions SDR\\Rank-1:\n",
      "\t\tSI att.:\t149.8 dB\n",
      "\t\tTx error:\t-4.8 dB\n",
      "\t\tRx error:\t-4.8 dB\n",
      "SI-ATT. 150.6 dB\n",
      "Solutions SDR\\Rank-1:\n",
      "\t\tSI att.:\t150.9 dB\n",
      "\t\tTx error:\t-4.7 dB\n",
      "\t\tRx error:\t-4.7 dB\n",
      "SI-ATT. 151.6 dB\n",
      "Solutions SDR\\Rank-1:\n",
      "\t\tSI att.:\t151.9 dB\n",
      "\t\tTx error:\t-4.6 dB\n",
      "\t\tRx error:\t-4.6 dB\n",
      "SI-ATT. 152.6 dB\n",
      "Solutions SDR\\Rank-1:\n",
      "\t\tSI att.:\t152.9 dB\n",
      "\t\tTx error:\t-4.5 dB\n",
      "\t\tRx error:\t-4.5 dB\n",
      "SI-ATT. 153.6 dB\n",
      "Solutions SDR\\Rank-1:\n",
      "\t\tSI att.:\t153.9 dB\n",
      "\t\tTx error:\t-4.4 dB\n",
      "\t\tRx error:\t-4.4 dB\n",
      "SI-ATT. 154.6 dB\n",
      "Solutions SDR\\Rank-1:\n",
      "\t\tSI att.:\t155.0 dB\n",
      "\t\tTx error:\t-4.3 dB\n",
      "\t\tRx error:\t-4.3 dB\n",
      "SI-ATT. 155.6 dB\n",
      "Solutions SDR\\Rank-1:\n",
      "\t\tSI att.:\t156.0 dB\n",
      "\t\tTx error:\t-4.2 dB\n",
      "\t\tRx error:\t-4.2 dB\n",
      "SI-ATT. 156.6 dB\n",
      "Solutions SDR\\Rank-1:\n",
      "\t\tSI att.:\t157.0 dB\n",
      "\t\tTx error:\t-4.1 dB\n",
      "\t\tRx error:\t-4.1 dB\n",
      "SI-ATT. 157.6 dB\n",
      "Solutions SDR\\Rank-1:\n",
      "\t\tSI att.:\t158.0 dB\n",
      "\t\tTx error:\t-4.0 dB\n",
      "\t\tRx error:\t-4.0 dB\n",
      "SI-ATT. 158.6 dB\n",
      "Solutions SDR\\Rank-1:\n",
      "\t\tSI att.:\t159.0 dB\n",
      "\t\tTx error:\t-3.9 dB\n",
      "\t\tRx error:\t-3.9 dB\n",
      "SI-ATT. 159.6 dB\n",
      "Solutions SDR\\Rank-1:\n",
      "\t\tSI att.:\t159.9 dB\n",
      "\t\tTx error:\t-3.8 dB\n",
      "\t\tRx error:\t-3.8 dB\n",
      "SI-ATT. 160.6 dB\n",
      "Solutions SDR\\Rank-1:\n",
      "\t\tSI att.:\t160.9 dB\n",
      "\t\tTx error:\t-3.7 dB\n",
      "\t\tRx error:\t-3.7 dB\n",
      "SI-ATT. 161.6 dB\n",
      "Solutions SDR\\Rank-1:\n",
      "\t\tSI att.:\t161.9 dB\n",
      "\t\tTx error:\t-3.6 dB\n",
      "\t\tRx error:\t-3.6 dB\n",
      "SI-ATT. 162.6 dB\n",
      "Solutions SDR\\Rank-1:\n",
      "\t\tSI att.:\t162.8 dB\n",
      "\t\tTx error:\t-3.5 dB\n",
      "\t\tRx error:\t-3.5 dB\n",
      "SI-ATT. 163.6 dB\n",
      "Solutions SDR\\Rank-1:\n",
      "\t\tSI att.:\t163.8 dB\n",
      "\t\tTx error:\t-3.3 dB\n",
      "\t\tRx error:\t-3.3 dB\n",
      "SI-ATT. 164.6 dB\n",
      "Solutions SDR\\Rank-1:\n",
      "\t\tSI att.:\t165.0 dB\n",
      "\t\tTx error:\t-3.2 dB\n",
      "\t\tRx error:\t-3.2 dB\n"
     ]
    }
   ],
   "source": [
    "pbuf.print()"
   ]
  },
  {
   "cell_type": "markdown",
   "id": "48542c25-d288-4668-bbeb-c092ad3666da",
   "metadata": {},
   "source": [
    "## Saving results"
   ]
  },
  {
   "cell_type": "code",
   "execution_count": 18,
   "id": "34b09dcbf734bc8f",
   "metadata": {
    "ExecuteTime": {
     "end_time": "2024-09-27T16:58:43.806358Z",
     "start_time": "2024-09-27T16:58:43.785386Z"
    }
   },
   "outputs": [
    {
     "name": "stdout",
     "output_type": "stream",
     "text": [
      "Results saved under /mnt/project/results/lagrange_cb_results_taper_1tap_si.csv\n",
      "Results saved under /mnt/project/results/lagrange_beam_results_1tap.json\n"
     ]
    }
   ],
   "source": [
    "res_file = res_path/f\"lagrange_cb_results_taper_{si_num_taps}tap_si.csv\"\n",
    "res_df = pd.DataFrame(results)\n",
    "res_df.to_csv(res_file)\n",
    "print(f\"Results saved under {res_file}\")\n",
    "json_fname = res_path/f\"lagrange_beam_results_{si_num_taps}tap.json\"\n",
    "with open(json_fname, 'w', encoding ='utf8') as json_file:\n",
    "    json.dump(beam_results, json_file)\n",
    "print(f\"Results saved under {json_fname}\")"
   ]
  },
  {
   "cell_type": "code",
   "execution_count": 19,
   "id": "9fa2a6d2-e24c-4a76-8dc1-ca512cfa5da8",
   "metadata": {
    "ExecuteTime": {
     "end_time": "2024-09-27T16:58:44.592066Z",
     "start_time": "2024-09-27T16:58:44.136497Z"
    },
    "tags": []
   },
   "outputs": [
    {
     "name": "stdout",
     "output_type": "stream",
     "text": [
      "lagrange_codebooks.npz was saved at /mnt/project/results.\n"
     ]
    }
   ],
   "source": [
    "method = \"lagrange\"\n",
    "\n",
    "att_values = [-np.inf]\n",
    "att_achieved = [-si_db_ref]\n",
    "tx_codebooks = [dft_tx_codebook]\n",
    "rx_codebooks = [dft_rx_codebook]\n",
    "for cb in codebooks:\n",
    "    att_values.append(cb[\"att_tgt\"])\n",
    "    att_achieved.append(cb[\"att_opt\"])\n",
    "    tx_codebooks.append(cb[\"tx_codebook_p\"])\n",
    "    rx_codebooks.append(cb[\"rx_codebook_p\"])\n",
    "\n",
    "att_values = np.array(att_values) \n",
    "tx_codebooks = np.stack(tx_codebooks, axis=0)\n",
    "rx_codebooks = np.stack(rx_codebooks, axis=0)\n",
    "tx_dev = np.array([-np.inf] + [r[\"tx_loss\"] for r in results]).astype(float)\n",
    "rx_dev = np.array([-np.inf] + [r[\"rx_loss\"] for r in results]).astype(float)\n",
    "\n",
    "metadata = np.array({\"method\": method, \"phased\": phased_array, \"si_num_taps\": si_num_taps,\n",
    "                     \"norm\": \"max\"})\n",
    "fname = f\"{method}_codebooks.npz\"\n",
    "np.savez(res_path/fname, att_tgt=att_values,\n",
    "         att_opt=att_achieved, tx_dev=tx_dev, rx_dev=rx_dev,\n",
    "         rx_degrees=rx_degs, tx_degrees=tx_degs,\n",
    "         rx=rx_codebooks, tx=tx_codebooks,\n",
    "         metadata=metadata)\n",
    "print(f\"{fname} was saved at {res_path}.\")"
   ]
  },
  {
   "cell_type": "code",
   "execution_count": 20,
   "id": "3e03d302-9e3a-42d2-a82e-81eed7d1bf50",
   "metadata": {
    "ExecuteTime": {
     "end_time": "2024-09-27T16:58:49.632420Z",
     "start_time": "2024-09-27T16:58:49.629936Z"
    },
    "tags": []
   },
   "outputs": [],
   "source": [
    "extra_att_cutoff = 6\n",
    "si_cutoff = si_db_ref - extra_att_cutoff\n",
    "si_mask = (-att_values) < si_cutoff\n",
    "tx_mag = np.abs(tx_codebooks[si_mask,].flatten())*np.sqrt(N_t)\n",
    "rx_mag = np.abs(rx_codebooks[si_mask,].flatten())*np.sqrt(N_r)"
   ]
  },
  {
   "cell_type": "code",
   "execution_count": 27,
   "id": "8daf5343-520b-4a8f-8dd1-aafb181e4a37",
   "metadata": {
    "ExecuteTime": {
     "end_time": "2024-09-27T16:58:52.879400Z",
     "start_time": "2024-09-27T16:58:52.636270Z"
    },
    "tags": []
   },
   "outputs": [
    {
     "data": {
      "image/png": "[encoded data removed]",
      "text/plain": [
       "<Figure size 525x397.5 with 1 Axes>"
      ]
     },
     "metadata": {},
     "output_type": "display_data"
    }
   ],
   "source": [
    "_ = plt.hist(tx_mag, bins=tx_codebooks.size//500,\n",
    "             cumulative=True, density=True)\n",
    "_ = plt.xlabel(\"Antenna port magnitude\")\n",
    "_ = plt.ylabel(\"CDF\")\n",
    "_ = plt.xlim(min(tx_mag), max(tx_mag))\n",
    "_ = plt.title(rf\"Tapering magnitude for SI \\textless {si_cutoff:.1f} dB\")"
   ]
  },
  {
   "cell_type": "code",
   "execution_count": 55,
   "id": "7f4008e6-fe69-4040-82a1-781f98981ffe",
   "metadata": {
    "ExecuteTime": {
     "end_time": "2024-09-19T15:22:16.697691Z",
     "start_time": "2024-09-19T15:22:16.695009Z"
    }
   },
   "outputs": [],
   "source": [
    "with np.load(res_path/\"lagrange_codebooks.npz\") as cb_data:\n",
    "    att_achieved = cb_data[\"att_opt\"]\n",
    "    att_values = cb_data[\"att_tgt\"]\n",
    "    tx_codebooks = cb_data[\"tx\"]\n",
    "    L_t = tx_codebooks.shape[-1]\n",
    "    rx_codebooks = cb_data[\"rx\"]\n",
    "    L_r = rx_codebooks.shape[-1]\n",
    "\n",
    "    tx_dev = cb_data[\"tx_dev\"]\n",
    "    rx_dev = cb_data[\"rx_dev\"]\n",
    "\n",
    "    tx_degs = cb_data[\"tx_degrees\"]\n",
    "    rx_degs = cb_data[\"rx_degrees\"]\n",
    "    beam_degs = tx_degs"
   ]
  },
  {
   "cell_type": "code",
   "execution_count": 64,
   "id": "4f4150c2-e726-4a06-ba45-2cf6815ac960",
   "metadata": {
    "ExecuteTime": {
     "end_time": "2024-09-19T15:22:16.697691Z",
     "start_time": "2024-09-19T15:22:16.695009Z"
    }
   },
   "outputs": [],
   "source": [
    "plot_att = 130\n",
    "att_index = np.argmin(np.abs(np.array(att_values) - plot_att))\n",
    "att_db_val = att_values[att_index]\n",
    "tx_dev_val = tx_dev[att_index]\n",
    "opt_tx_codebook = tx_codebooks[att_index,]\n",
    "opt_rx_codebook = rx_codebooks[att_index,]"
   ]
  },
  {
   "cell_type": "code",
   "execution_count": 65,
   "id": "5f404a24-ef48-4c22-b2a8-3a9ad749497c",
   "metadata": {
    "ExecuteTime": {
     "end_time": "2024-09-19T15:22:28.072633Z",
     "start_time": "2024-09-19T15:22:21.726046Z"
    }
   },
   "outputs": [],
   "source": [
    "antenna_pattern = Antenna(params.antenna_pattern, polarization=params.antenna_polarization).patterns\n",
    "rad_pattern = lambda x: sum(sum(np.abs(p)**2 for p in pat(np.pi/2, x)) for pat in antenna_pattern)"
   ]
  },
  {
   "cell_type": "code",
   "execution_count": 66,
   "id": "fdd60169-2ec3-4a47-a01b-e92188072f97",
   "metadata": {
    "ExecuteTime": {
     "end_time": "2024-09-19T15:22:28.072633Z",
     "start_time": "2024-09-19T15:22:21.726046Z"
    }
   },
   "outputs": [
    {
     "data": {
      "text/plain": [
       "129.5576385107767"
      ]
     },
     "execution_count": 66,
     "metadata": {},
     "output_type": "execute_result"
    }
   ],
   "source": [
    "att_db_val"
   ]
  },
  {
   "cell_type": "code",
   "execution_count": 68,
   "id": "2775ae8d-0d31-4a4a-807c-573c3751cc18",
   "metadata": {
    "ExecuteTime": {
     "end_time": "2024-09-19T15:22:28.072633Z",
     "start_time": "2024-09-19T15:22:21.726046Z"
    }
   },
   "outputs": [
    {
     "data": {
      "image/png": "[encoded data removed]",
      "text/plain": [
       "<Figure size 525x397.5 with 1 Axes>"
      ]
     },
     "metadata": {},
     "output_type": "display_data"
    }
   ],
   "source": [
    "thetas = np.deg2rad(np.arange(-75, 80, 15))\n",
    "\n",
    "offset, stride = 1, 2\n",
    "f, ax = plt.subplots(subplot_kw={'projection': 'polar'})\n",
    "tx_kwargs = dict(transmit=True, element_pattern=rad_pattern, axis=ax, r_lim=(-5, 18), alpha=0.9, linewidth=0.7, theta_lim=(-5*np.pi/12, 5*np.pi/12))\n",
    "_ = plot_beamforming_polar(dft_tx_codebook[:, offset::stride], linestyle=\"--\", color_palette=\"husl\", **tx_kwargs, label=\"Reference\", zorder=20)\n",
    "_ = plot_beamforming_polar(opt_tx_codebook[:, offset::stride], color_palette=\"husl\", **tx_kwargs,\n",
    "                           label=\"Optimized\", zorder=10)\n",
    "\n",
    "ax.set_xticks(thetas)\n",
    "xticks = ax.get_xticklabels()\n",
    "_ = ax.set_xticklabels([tick if i % 2 == 1 else None for i, tick in enumerate(xticks)])\n",
    "\n",
    "handles, labels = ax.get_legend_handles_labels()\n",
    "ax.legend(handles[:1]+handles[L_t//stride+1:L_t//stride+2], [\"Reference\", rf\"CISSIR ($\\varepsilon=-{att_db_val:.1f}$ dB)\"],\n",
    "                                                   # + r\"$\\sigma_{\\mathrm{tx}}^2=\" + f\"{tx_dev_val:.1f}$ dB)\"],\n",
    "                                                   loc=\"upper center\",\n",
    "          ncol=2, prop={'size': 10}, columnspacing=0.8, \n",
    "          bbox_to_anchor=(0.5, 1.01)) #  prop={'size': 8}, )\n",
    "ax.set_xlabel(\"TX array gain [dBi]\") # , x=0.8, rotation=12)\n",
    "ax.xaxis.labelpad = -25"
   ]
  }
 ],
 "metadata": {
  "kernelspec": {
   "display_name": "Python 3 (ipykernel)",
   "language": "python",
   "name": "python3"
  },
  "language_info": {
   "codemirror_mode": {
    "name": "ipython",
    "version": 3
   },
   "file_extension": ".py",
   "mimetype": "text/x-python",
   "name": "python",
   "nbconvert_exporter": "python",
   "pygments_lexer": "ipython3",
   "version": "3.8.10"
  }
 },
 "nbformat": 4,
 "nbformat_minor": 5
}
