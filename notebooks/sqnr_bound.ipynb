{
 "cells": [
  {
   "cell_type": "markdown",
   "id": "38a00325-a3e9-456a-a0e2-236093419e0b",
   "metadata": {},
   "source": [
    "# SQNR Bound\n",
    "\n",
    "Simulated and theoretical signal-to-quantization-noise ratio as a function of self-interference\n",
    "\n",
    "## Setup"
   ]
  },
  {
   "cell_type": "code",
   "execution_count": 1,
   "id": "0183f1f7-83b1-4dab-b275-c406a0c51cd6",
   "metadata": {
    "ExecuteTime": {
     "end_time": "2024-09-06T14:01:40.735365Z",
     "start_time": "2024-09-06T14:01:38.957698Z"
    }
   },
   "outputs": [],
   "source": [
    "from IPython.display import display, Markdown\n",
    "\n",
    "import tensorflow as tf\n",
    "%matplotlib inline\n",
    "import matplotlib.pyplot as plt\n",
    "import numpy as np\n",
    "\n",
    "# For link-level simulations\n",
    "from sionna.channel import AWGN, ApplyOFDMChannel, time_to_ofdm_channel\n",
    "from sionna.ofdm import OFDMModulator, ResourceGrid, ResourceGridMapper\n",
    "from sionna.nr import CarrierConfig\n",
    "from sionna.utils import QAMSource\n",
    "from sionna.signal import fft\n",
    "\n",
    "from cissir.adc import max_abs_complex, papr, quantize_signal, snr_thermal, sqnr_bound\n",
    "from cissir.beamforming import Beamspace, sionna_mimo_axes\n",
    "from cissir.raytracing import si_paths2cir\n",
    "from cissir.utils import plot_path, res_path\n",
    "\n",
    "import pandas as pd\n",
    "import seaborn as sns\n",
    "\n",
    "from cissir import physics as phy, params, optimization as opt, visualization as viz\n",
    "viz.paper_style()\n",
    "\n",
    "import itertools\n",
    "from tqdm.notebook import tqdm\n"
   ]
  },
  {
   "cell_type": "code",
   "execution_count": 2,
   "id": "e419245c-2861-4866-bd9a-a9c6af15edeb",
   "metadata": {
    "ExecuteTime": {
     "end_time": "2024-09-06T14:01:40.753618Z",
     "start_time": "2024-09-06T14:01:40.750312Z"
    }
   },
   "outputs": [],
   "source": [
    "# Global parameters\n",
    "\n",
    "c = params.c\n",
    "fc = params.fc_hz\n",
    "wavelength_m = params.wavelength_m\n",
    "\n",
    "ula_el_spacing = params.array_electrical_spacing\n",
    "\n",
    "N_r = params.n_rx\n",
    "N_t = params.n_tx\n",
    "\n",
    "Q_bits = 6 # Each complex component (I and Q) is quantized with Q bits"
   ]
  },
  {
   "cell_type": "code",
   "execution_count": 3,
   "id": "48629932-97de-408e-8597-9182f3b53cb4",
   "metadata": {
    "ExecuteTime": {
     "end_time": "2024-09-06T14:01:41.275177Z",
     "start_time": "2024-09-06T14:01:40.754368Z"
    }
   },
   "outputs": [],
   "source": [
    "## Waveform params\n",
    "\n",
    "c_config = CarrierConfig(subcarrier_spacing=params.subcarrier_spacing_khz,\n",
    "                         cyclic_prefix=\"normal\")\n",
    "num_subcarriers = params.num_prb * params.subcarriers_per_rb\n",
    "subcarrier_spacing = params.subcarrier_spacing_khz * 1e3\n",
    "\n",
    "Ts_sec = c_config.t_c\n",
    "fft_size = round(1e-3/(c_config.subcarrier_spacing * Ts_sec))\n",
    "cyclic_prefix_length = round(c_config.cyclic_prefix_length/Ts_sec)\n",
    "digital_bw_hz = 1/Ts_sec\n",
    "\n",
    "sig_bw_hz = num_subcarriers * subcarrier_spacing\n",
    "sig_bw_frac = num_subcarriers/fft_size\n",
    "\n",
    "t_channel_s = tf.range(cyclic_prefix_length, dtype=tf.float64) * Ts_sec\n",
    "distance_m = phy.delay2distance(t_channel_s)\n",
    "\n",
    "## OFDM configuration\n",
    "num_ofdm_symbols = 1 # Number of OFDM symbols forming the resource grid\n",
    "dc_null = True # Null the DC subcarrier\n",
    "pilot_pattern = None # Pilot pattern\n",
    "pilot_ofdm_symbol_indices = None # Index of OFDM symbols carrying pilots\n",
    "\n",
    "null_carriers = fft_size - num_subcarriers\n",
    "num_guard_carriers = [null_carriers//2, null_carriers//2] # Number of guard carriers on each side\n",
    "\n",
    "rg = ResourceGrid(num_ofdm_symbols = num_ofdm_symbols,\n",
    "                 fft_size = fft_size,\n",
    "                 subcarrier_spacing = subcarrier_spacing,\n",
    "                 num_tx = 1,\n",
    "                 num_streams_per_tx = 1,\n",
    "                 cyclic_prefix_length = cyclic_prefix_length,\n",
    "                 dc_null = dc_null,\n",
    "                 pilot_pattern = pilot_pattern,\n",
    "                 pilot_ofdm_symbol_indices = pilot_ofdm_symbol_indices,\n",
    "                 num_guard_carriers = num_guard_carriers)"
   ]
  },
  {
   "cell_type": "markdown",
   "id": "264d0f6b-bc8d-42bc-a562-7439e99a4d20",
   "metadata": {},
   "source": [
    "### Beam codebook\n"
   ]
  },
  {
   "cell_type": "code",
   "execution_count": 4,
   "id": "ff81b036-1dc2-40d6-b1f3-f1c89a96cbd5",
   "metadata": {
    "ExecuteTime": {
     "end_time": "2024-09-06T14:01:41.299916Z",
     "start_time": "2024-09-06T14:01:41.276082Z"
    }
   },
   "outputs": [],
   "source": [
    "with np.load(res_path/\"sdp_ph_full_27tx_codebooks.npz\") as cb_data:\n",
    "    opt_si = cb_data[\"si_opt\"]\n",
    "    tgt_si = cb_data[\"si_tgt\"]\n",
    "    si_points = len(opt_si)\n",
    "    #print(f\"Loading codebooks for {opt_si} dB SI attenuation\")\n",
    "    opt_tx_codebooks = cb_data[\"tx\"]\n",
    "    L_t = opt_tx_codebooks.shape[-1]\n",
    "    assert opt_tx_codebooks.shape == (si_points, N_t, L_t), \"Unexpected shape for Tx codebook\"\n",
    "    opt_rx_codebooks = cb_data[\"rx\"]\n",
    "    L_r = opt_rx_codebooks.shape[-1]\n",
    "    assert opt_rx_codebooks.shape == (si_points, N_r, L_r), \"Unexpected shape for Tx codebook\"\n",
    "\n",
    "    tx_degs = cb_data[\"tx_degrees\"]\n",
    "    rx_degs = cb_data[\"rx_degrees\"]\n",
    "    beam_degs = tx_degs\n",
    "    \n",
    "    tx_codebook_p = opt_tx_codebooks[0,]\n",
    "    rx_codebook_p = opt_rx_codebooks[0,]"
   ]
  },
  {
   "cell_type": "code",
   "execution_count": 5,
   "id": "019e4ec1-f43a-453e-a45b-5d0904e1c002",
   "metadata": {
    "ExecuteTime": {
     "end_time": "2024-09-06T14:01:45.495385Z",
     "start_time": "2024-09-06T14:01:45.488240Z"
    }
   },
   "outputs": [],
   "source": [
    "tx_cb_matrix = tf.cast(tx_codebook_p, dtype=tf.complex64)  # (N_t, L_t)\n",
    "rx_cb_matrix = tf.cast(rx_codebook_p, dtype=tf.complex64)  # (N_r, L_r)"
   ]
  },
  {
   "cell_type": "markdown",
   "id": "1754ceda-c01d-4966-8700-4c64b18962c6",
   "metadata": {},
   "source": [
    "### Backscatter channels "
   ]
  },
  {
   "cell_type": "code",
   "execution_count": 6,
   "id": "88b03978-a94c-44f2-99fa-029a49d7a260",
   "metadata": {
    "ExecuteTime": {
     "end_time": "2024-09-06T14:01:45.562035Z",
     "start_time": "2024-09-06T14:01:45.496111Z"
    }
   },
   "outputs": [
    {
     "data": {
      "text/plain": [
       "TensorShape([3, 1, 8, 1, 8, 1, 2176])"
      ]
     },
     "execution_count": 6,
     "metadata": {},
     "output_type": "execute_result"
    }
   ],
   "source": [
    "si_num_taps = 2\n",
    "\n",
    "with np.load(res_path/\"channel_impulse_responses.npz\") as rt_data:\n",
    "    t_rt = tf.constant(rt_data['t_channel_s'])\n",
    "    assert tf.math.reduce_all(tf.equal(t_rt, t_channel_s)), \"Wrong assumed time scale from simulations\"\n",
    "\n",
    "    ht_tgt = tf.constant(rt_data['ht_tgt'], dtype=tf.complex64)\n",
    "    ht_si_full = tf.constant(rt_data['ht_si'], dtype=tf.complex64)\n",
    "\n",
    "    ht_si = ht_si_full[:si_num_taps,] # tf.reduce_sum(ht_si_full[:si_num_taps,], axis=0, keepdims=True)\n",
    "\n",
    "\n",
    "h_mimo = tf.concat([ht_si, ht_tgt], axis=0)\n",
    "h_mimo.shape"
   ]
  },
  {
   "cell_type": "code",
   "execution_count": 7,
   "id": "7e85c9bc-cf64-4590-ba57-e9e8679df771",
   "metadata": {
    "ExecuteTime": {
     "end_time": "2024-09-06T14:01:46.109571Z",
     "start_time": "2024-09-06T14:01:45.562719Z"
    }
   },
   "outputs": [],
   "source": [
    "# Beam forming\n",
    "rx_axis, tx_axis = sionna_mimo_axes(\"ofdm\")\n",
    "opt_beamspace = Beamspace(receive_axis=rx_axis, transmit_axis=tx_axis)\n",
    "h_siso = opt_beamspace([h_mimo, rx_cb_matrix, tx_cb_matrix])\n",
    "h_beams = tf.squeeze(h_siso, axis=(1, 3, 5))\n",
    "h_beams = tf.transpose(h_beams, perm=[0, 3, 1, 2])\n",
    "h_beams = tf.linalg.diag_part(h_beams)"
   ]
  },
  {
   "cell_type": "code",
   "execution_count": 8,
   "id": "83cb1ceb-1e39-421a-b42d-11657e0fc28b",
   "metadata": {
    "ExecuteTime": {
     "end_time": "2024-09-06T14:01:46.169655Z",
     "start_time": "2024-09-06T14:01:46.115840Z"
    }
   },
   "outputs": [
    {
     "name": "stdout",
     "output_type": "stream",
     "text": [
      "Target located at 44.9 m, -38.7°\n"
     ]
    }
   ],
   "source": [
    "l_max = tf.argmax(tf.reduce_max(tf.abs(h_beams[-1,]), axis=0))\n",
    "t_argmax = tf.argmax(tf.reduce_max(tf.abs(h_beams[-1,]), axis=1))\n",
    "dist_tgt = distance_m[t_argmax]\n",
    "az_tgt = beam_degs[l_max]\n",
    "dist_max = dist_tgt + 5\n",
    "print(f\"Target located at {dist_max:.1f} m, {az_tgt:.1f}°\")"
   ]
  },
  {
   "cell_type": "code",
   "execution_count": 9,
   "id": "08c71960-87eb-4fb3-b0db-88f97eb66933",
   "metadata": {
    "ExecuteTime": {
     "end_time": "2024-09-06T14:01:46.115062Z",
     "start_time": "2024-09-06T14:01:46.110405Z"
    }
   },
   "outputs": [],
   "source": [
    "hf_list = []\n",
    "opt_tx_beam = opt_tx_codebooks[..., l_max:l_max+1]\n",
    "opt_rx_beam = opt_rx_codebooks[..., l_max:l_max+1]\n",
    "for i in range(si_points):\n",
    "    tx_cb_vec = tf.cast(opt_tx_beam[i,], dtype=tf.complex64)\n",
    "    rx_cb_vec = tf.cast(opt_rx_beam[i,], dtype=tf.complex64)\n",
    "    h_siso = opt_beamspace([h_mimo, rx_cb_vec, tx_cb_vec])\n",
    "    h_b = tf.squeeze(h_siso, axis=(1, 3, 5))\n",
    "    h_b = tf.transpose(h_b, perm=[0, 3, 1, 2])\n",
    "    h_b = tf.linalg.diag_part(h_b)\n",
    "    ht_ = h_b[..., 0]\n",
    "\n",
    "    hfreq = time_to_ofdm_channel(tf.reshape(ht_, shape=(1, ht_.shape[0], 1, 1, 1, 1, ht_.shape[-1])) * \n",
    "                             tf.ones(shape=(1, 1, 1, 1, 1, fft_size+cyclic_prefix_length, ht_.shape[-1]),\n",
    "                                     dtype=ht_.dtype), rg, l_min=0)\n",
    "    hf_list.append(hfreq)"
   ]
  },
  {
   "cell_type": "code",
   "execution_count": 10,
   "id": "27773b39-f69e-4960-b976-0b6a41bb1f83",
   "metadata": {
    "ExecuteTime": {
     "end_time": "2024-09-06T14:01:46.169655Z",
     "start_time": "2024-09-06T14:01:46.115840Z"
    }
   },
   "outputs": [],
   "source": [
    "hfreq_opt = tf.stack(hf_list, axis=0)"
   ]
  },
  {
   "cell_type": "code",
   "execution_count": 11,
   "id": "8c97c801-3036-4352-837f-4d1a9b543aa0",
   "metadata": {
    "ExecuteTime": {
     "end_time": "2024-09-06T14:01:46.169655Z",
     "start_time": "2024-09-06T14:01:46.115840Z"
    }
   },
   "outputs": [
    {
     "data": {
      "text/plain": [
       "TensorShape([2, 1, 8, 1, 8, 1, 2176])"
      ]
     },
     "execution_count": 11,
     "metadata": {},
     "output_type": "execute_result"
    }
   ],
   "source": [
    "ht_si.shape"
   ]
  },
  {
   "cell_type": "code",
   "execution_count": 12,
   "id": "e5bc2c98-ba8a-4927-b103-e4e95c1f4c8b",
   "metadata": {
    "ExecuteTime": {
     "end_time": "2024-09-06T14:01:46.169655Z",
     "start_time": "2024-09-06T14:01:46.115840Z"
    }
   },
   "outputs": [],
   "source": [
    "si_beam = []\n",
    "tx_dev = []\n",
    "h_si_beam = si_paths2cir(ht_si)\n",
    "tx_ref = opt_tx_beam[0]\n",
    "for i in range(si_points):\n",
    "    si_b = opt.codebook_si(opt_tx_beam[i], opt_rx_beam[i,], h_si_beam)\n",
    "    si_beam.append(phy.mag2db(np.max(si_b)))\n",
    "    tx_d = opt.codebook_deviation_power(opt_tx_beam[i], tx_ref)\n",
    "    tx_dev.append(phy.pow2db(max(tx_d, 1e-10)))"
   ]
  },
  {
   "cell_type": "code",
   "execution_count": 13,
   "id": "de51f4b9-a458-45fc-a85f-d3484f7459b2",
   "metadata": {
    "ExecuteTime": {
     "end_time": "2024-09-06T14:01:47.639308Z",
     "start_time": "2024-09-06T14:01:46.171291Z"
    }
   },
   "outputs": [
    {
     "data": {
      "image/png": "[encoded data removed]",
      "text/plain": [
       "<Figure size 350x265 with 2 Axes>"
      ]
     },
     "metadata": {},
     "output_type": "display_data"
    }
   ],
   "source": [
    "tmin_us = 0\n",
    "tmax_us = 0.3\n",
    "\n",
    "dr_db = 90\n",
    "\n",
    "h_beams_db = phy.mag2db(tf.abs(np.sum(h_beams, axis=0)) + 1e-20)\n",
    "\n",
    "vmax = np.quantile(h_beams_db, 0.998)\n",
    "vmin = vmax - dr_db\n",
    "\n",
    "extent = (min(beam_degs), max(beam_degs), min(distance_m), max(distance_m))\n",
    "plt.imshow(h_beams_db, vmin=vmin, vmax=vmax, interpolation='bicubic',\n",
    "           origin='lower', extent=extent, aspect=\"auto\"),\n",
    "plt.xlabel(\"Angle (°)\")\n",
    "plt.ylabel(\"Range (m)\")\n",
    "plt.xlim(extent[1], extent[0])\n",
    "plt.ylim(0, 50)\n",
    "plt.gca().invert_yaxis()\n",
    "plt.gca().invert_xaxis()\n",
    "cbar = plt.colorbar()\n",
    "cbar.set_label(\"Backscatter gain [dB]\")\n",
    "plt.grid(visible=False)\n",
    "_ = plt.title(\"Range-angle chart with self-interference\")"
   ]
  },
  {
   "cell_type": "code",
   "execution_count": 14,
   "id": "6a0daee2",
   "metadata": {
    "ExecuteTime": {
     "end_time": "2024-09-06T14:01:47.667049Z",
     "start_time": "2024-09-06T14:01:47.640068Z"
    }
   },
   "outputs": [],
   "source": [
    "ht = h_beams[..., l_max]\n",
    "hfreq = time_to_ofdm_channel(tf.reshape(ht, shape=(1, ht.shape[0], 1, 1, 1, 1, ht.shape[-1])) * \n",
    "                             tf.ones(shape=(1, 1, 1, 1, 1, fft_size+cyclic_prefix_length, ht.shape[-1]),\n",
    "                                     dtype=ht.dtype), rg, l_min=0)\n",
    "\n",
    "hr1 = tf.abs(tf.norm(ht[-1,], ord=1))\n",
    "hr2 = tf.abs(tf.norm(ht[-1,], ord=2))\n",
    "hs1_init = tf.abs(tf.norm(ht[0,], ord=1))\n",
    "t_vec = t_channel_s * 1e6"
   ]
  },
  {
   "cell_type": "code",
   "execution_count": 17,
   "id": "b134b2ff-bf5f-4f5d-8b03-547c975ddfb2",
   "metadata": {
    "ExecuteTime": {
     "end_time": "2024-09-06T14:01:48.067752Z",
     "start_time": "2024-09-06T14:01:47.667800Z"
    }
   },
   "outputs": [
    {
     "data": {
      "image/png": "[encoded data removed]",
      "text/plain": [
       "<Figure size 350x265 with 2 Axes>"
      ]
     },
     "metadata": {},
     "output_type": "display_data"
    }
   ],
   "source": [
    "ymin, ymax = -245, -80\n",
    "\n",
    "t_complex = tf.cast(t_vec, dtype=ht.dtype)\n",
    "tmean_si = tf.cast(tf.norm(t_complex * ht[0,], ord=1)/hs1_init, dtype=t_vec.dtype)\n",
    "tmean_r = tf.cast(tf.norm(t_complex * ht[-1,], ord=1)/hr1, dtype=t_vec.dtype)\n",
    "\n",
    "h_df =pd.DataFrame(phy.mag2db(np.abs(ht)).squeeze().T, columns=[\"hsi1\", \"hsi2\", \"hr\"], index=distance_m)\n",
    "h_df[\"hr\"] = np.where(distance_m > 20, h_df[\"hr\"], -500)\n",
    "h_df[\"hsi2\"] = np.where(distance_m > 0.65, h_df[\"hsi2\"], -500)\n",
    "\n",
    "fig, ax = plt.subplots()\n",
    "\n",
    "ax.set_xlim(tmin_us, tmax_us)\n",
    "ax.set_ylim(ymin, ymax)\n",
    "\n",
    "ax.set_xlabel(\"Delay [$\\mu$s]\")\n",
    "ax.set_ylabel(\"Beamformed channel $\\mathbf{c_\\circ H w_\\circ}$ [dB/s]\")\n",
    "\n",
    "ax2 = ax.twiny()\n",
    "ax2.set_xlim(phy.delay2distance(tmin_us * 1e-6), phy.delay2distance(tmax_us * 1e-6))\n",
    "ax2.set_ylim(ymin, ymax)\n",
    "ax2.set_xlabel(\"Distance [m]\")\n",
    "ax2.grid(visible=False)\n",
    "\n",
    "sns.lineplot(h_df, palette=[viz.b, viz.g, viz.r], ax=ax2)\n",
    "\n",
    "handles, labels = ax2.get_legend_handles_labels()\n",
    "ax2.legend(handles, [\"Direct coupling $\\mathbf{F}_0(t)$\",\n",
    "                     \"Clutter $\\mathbf{F}_1(t)$\",\n",
    "                     \"Target echo $\\mathbf{H}_\\mathrm{r}(t)$\"],)\n",
    "                     # loc=\"lower center\", bbox_to_anchor=(0.45, 0.05))\n",
    "\n",
    "h_df = h_df.reindex(distance_m)\n",
    "fig.savefig(plot_path/\"sensing_channel.pgf\", bbox_inches=\"tight\")"
   ]
  },
  {
   "cell_type": "markdown",
   "id": "64365efb-f056-4eaa-b603-9dbf92765b13",
   "metadata": {},
   "source": [
    "## Simulations"
   ]
  },
  {
   "cell_type": "code",
   "execution_count": 18,
   "id": "6094d44f-6856-4c2d-aa5c-31228ccd0807",
   "metadata": {
    "ExecuteTime": {
     "end_time": "2024-09-06T14:01:48.077179Z",
     "start_time": "2024-09-06T14:01:48.068567Z"
    }
   },
   "outputs": [
    {
     "data": {
      "text/markdown": [
       "### Link budget summary\n",
       "\n",
       "| Parameter | Value | Unit | Condition |\n",
       "| --------- | -----: | ---- | ---------: |\n",
       "| $P_t$ level | 30 | dBm | |\n",
       "| SI gain | -66.6 | dB | |\n",
       "| Channel gain | -111.0 | dB | |\n",
       "| Noise power | -90.8 | dBm | |\n",
       "| Thermal SNR | 9.8 | dB | $P_t$=30 dBm |\n",
       "| ADC SNR | -9.6 | dB | PAPR=3.0 dB |"
      ],
      "text/plain": [
       "<IPython.core.display.Markdown object>"
      ]
     },
     "metadata": {},
     "output_type": "display_data"
    }
   ],
   "source": [
    "symbol_energy = 1.0\n",
    "noise_power = params.n0 * sig_bw_hz # mW\n",
    "ch_gain = hr2**2/sig_bw_frac\n",
    "noise_dbm = phy.pow2db(noise_power)\n",
    "channel_db = phy.pow2db(ch_gain)\n",
    "si_db_init = phy.mag2db(hs1_init)\n",
    "\n",
    "pt_dbm = 30\n",
    "papr_ref = 2.0 \n",
    "\n",
    "snr_th_db = pt_dbm + phy.pow2db(ch_gain) - noise_dbm\n",
    "\n",
    "link_display = [\"### Link budget summary\\n\", f\"| Parameter | Value | Unit | Condition |\",\n",
    "                f\"| --------- | -----: | ---- | ---------: |\", f\"| $P_t$ level | {pt_dbm} | dBm | |\",\n",
    "                f\"| SI gain | {si_db_init:.1f} | dB | |\", f\"| Channel gain | {channel_db:.1f} | dB | |\",\n",
    "                f\"| Noise power | {noise_dbm:.1f} | dBm | |\",\n",
    "                f\"| Thermal SNR | {snr_th_db:.1f} | dB | $P_t$={pt_dbm} dBm |\"]\n",
    "\n",
    "channel_db = phy.mag2db(hr1)\n",
    "sqnr_db = phy.pow2db(sqnr_bound(si_db_init - channel_db, hr1, hr2,\n",
    "                                Q_bits, papr_ref, 1.0, sig_bw_frac, None))\n",
    "link_display.append(f\"| ADC SNR | {sqnr_db:.1f} | dB | PAPR={phy.pow2db(papr_ref):.1f} dB |\")\n",
    "display(Markdown(\"\\n\".join(link_display)))\n",
    "\n",
    "si_values = np.arange(10 * round(channel_db/10) + 10, si_db_init + 20, 3.5)\n",
    "\n",
    "        # {\"waveform_name\": (bits_per_symbol, dft_spread), ...}\n",
    "wf_dict = {\"QPSK SC-FDM\": (2, True),\n",
    "           \"64QAM  OFDM\": (6, False)}\n",
    "\n",
    "waveforms = tuple(wf_dict.keys())\n",
    "\n",
    "trials = 1000"
   ]
  },
  {
   "cell_type": "code",
   "execution_count": 19,
   "id": "874a4d0f-63f0-4a85-b0e5-53a40cca14b7",
   "metadata": {
    "ExecuteTime": {
     "end_time": "2024-09-06T14:01:50.074987Z",
     "start_time": "2024-09-06T14:01:48.077984Z"
    }
   },
   "outputs": [],
   "source": [
    "si_min, si_max = -106, -59\n",
    "\n",
    "si_index = np.arange(len(tgt_si))[np.logical_and(si_min < opt_si, opt_si < si_max)]\n",
    "ofdm_channel = ApplyOFDMChannel(add_awgn=False)\n",
    "awgn = AWGN()"
   ]
  },
  {
   "cell_type": "code",
   "execution_count": 20,
   "id": "325c2cb1-bae2-49a3-bb78-e71d7cf2184d",
   "metadata": {
    "ExecuteTime": {
     "end_time": "2024-09-06T14:01:50.074987Z",
     "start_time": "2024-09-06T14:01:48.077984Z"
    },
    "scrolled": true
   },
   "outputs": [
    {
     "data": {
      "application/vnd.jupyter.widget-view+json": {
       "model_id": "85c913bc4204418f98b82e38b5c8050e",
       "version_major": 2,
       "version_minor": 0
      },
      "text/plain": [
       "  0%|          | 0/92 [00:00<?, ?it/s]"
      ]
     },
     "metadata": {},
     "output_type": "display_data"
    }
   ],
   "source": [
    "progress_bar = tqdm(itertools.product(waveforms, si_index), total=len(waveforms)*len(si_index))\n",
    "simulation_log = []\n",
    "for wf_k, si_i in progress_bar:\n",
    "\n",
    "    si_db = tgt_si[si_i]\n",
    "    \n",
    "    num_bits_per_symbol, dft_spread = wf_dict[wf_k]\n",
    "\n",
    "    g_t = np.sqrt(phy.db2power(pt_dbm) / (symbol_energy * sig_bw_frac))\n",
    "    \n",
    "    \n",
    "    console_out = [f\"{wf_k}, Pt {pt_dbm} dBm\\tSI {si_db:.1f} dB\"]\n",
    "\n",
    "    hf = hfreq_opt[si_i]\n",
    "    # Modulation order \n",
    "    qam_source = QAMSource(num_bits_per_symbol =  num_bits_per_symbol) \n",
    "    \n",
    "    # symbols onto an OFDM resource grid\n",
    "    rg_mapper = ResourceGridMapper(rg)\n",
    "    \n",
    "    # OFDM modulator: freq --> time\n",
    "    modulator = OFDMModulator(rg.cyclic_prefix_length)\n",
    "    \n",
    "    batch_size = trials\n",
    "    \n",
    "    # Binary source + QAM mapper block \n",
    "    x_symbols = qam_source([batch_size, 1,1, rg.num_data_symbols])\n",
    "    \n",
    "    # Resource grid mapper block \n",
    "    x_rg = g_t * rg_mapper(x_symbols)\n",
    "    \n",
    "    if dft_spread:\n",
    "        guard_shape = tf.concat([x_rg.shape[:-1], tf.constant([null_carriers//2])], axis=0)\n",
    "        zero_carriers = tf.zeros(shape=guard_shape, dtype=x_rg.dtype)\n",
    "        dft_start, dft_end = null_carriers//2, null_carriers//2 + num_subcarriers\n",
    "        x_dft = fft(x_rg[..., dft_start:dft_end])\n",
    "        x_rg = tf.concat([zero_carriers, x_dft, zero_carriers], axis=-1)\n",
    "\n",
    "    x_t = modulator(x_rg)\n",
    "\n",
    "    y_freq = ofdm_channel([x_rg, hf])\n",
    "    y_time = modulator(y_freq)\n",
    "    y_si, y_r = y_time[:,0,], y_time[:,-1,] \n",
    "    y_t = y_r + y_si\n",
    "    y_n = awgn([y_t, noise_power])\n",
    "    \n",
    "    pow_yr = tf.math.reduce_variance(y_r, axis=tf.range(1, y_r.ndim))\n",
    "    \n",
    "    pow_xr = tf.math.reduce_variance(x_t, axis=tf.range(1, x_t.ndim))\n",
    "    max_yn = max_abs_complex(y_n, axis=tf.range(1, y_t.ndim), keepdims=True)\n",
    "    yn_quant = quantize_signal(y_n, max_value=max_yn, quantization_bits=Q_bits)\n",
    "    \n",
    "    quant_err_y = yn_quant - y_t\n",
    "    \n",
    "    alpha = pow_yr /(pow_xr*hr2**2 / sig_bw_frac)\n",
    "    console_out.append(f\"Ratio alpha {tf.reduce_mean(alpha):.2f}\")\n",
    "    \n",
    "    papr_x = papr(x_t, axis=tf.range(1,x_t.ndim))\n",
    "    q_err_measured = tf.math.reduce_variance(quant_err_y, axis=tf.range(1, y_t.ndim))\n",
    "\n",
    "    if noise_power > 0:\n",
    "        snr_pow = snr_thermal(phy.db2power(pt_dbm), noise_power=noise_power,\n",
    "                              channel_gain=ch_gain) \n",
    "    else:\n",
    "        snr_pow = None\n",
    "  \n",
    "    \n",
    "    sq_theoretic = tf.reduce_mean(sqnr_bound(si_db - channel_db, hr1, hr2, Q_bits, papr_x, alpha, sig_bw_frac, snr_pow))\n",
    "    sq_measured = tf.reduce_min(pow_yr/q_err_measured)\n",
    "    console_out.append(f\"Min.SQNR (bound | measure): { phy.pow2db(sq_theoretic):.1f} | { phy.pow2db(sq_measured):.1f} dB\")\n",
    "    \n",
    "    progress_bar.set_description_str(\"; \".join(console_out))\n",
    "    \n",
    "    simulation_log.append({\"si_db\": si_db, \"si_index\": si_i, \"waveform\": wf_k, \"pt_dbm\": pt_dbm,\n",
    "                           \"sig_bw\": sig_bw_hz, \"alpha\": alpha.numpy(), \"pow_xr\": pow_xr.numpy(), \"max_y\": max_yn.numpy().squeeze(),\n",
    "                           \"papr_x\": papr_x.numpy(), \"pow_yr\": pow_yr.numpy(), \"q_err\": q_err_measured.numpy()})\n",
    "\n",
    "sim_df = pd.DataFrame(simulation_log).explode(column=[\"alpha\", \"pow_xr\", \"papr_x\", \"pow_yr\", \"q_err\", \"max_y\"])\n",
    "sim_df.to_csv(res_path/\"sim_results.csv\")"
   ]
  },
  {
   "cell_type": "markdown",
   "id": "ba78fa60-f9fa-4c7b-b3fb-ee5be330f20d",
   "metadata": {},
   "source": [
    "## Plots"
   ]
  },
  {
   "cell_type": "code",
   "execution_count": 21,
   "id": "d4fe7671-af1d-453c-b422-c8d8d21ae5ba",
   "metadata": {
    "ExecuteTime": {
     "end_time": "2024-09-06T14:01:50.104497Z",
     "start_time": "2024-09-06T14:01:50.076329Z"
    }
   },
   "outputs": [
    {
     "data": {
      "text/html": [
       "<div>\n",
       "<style scoped>\n",
       "    .dataframe tbody tr th:only-of-type {\n",
       "        vertical-align: middle;\n",
       "    }\n",
       "\n",
       "    .dataframe tbody tr th {\n",
       "        vertical-align: top;\n",
       "    }\n",
       "\n",
       "    .dataframe thead th {\n",
       "        text-align: right;\n",
       "    }\n",
       "</style>\n",
       "<table border=\"1\" class=\"dataframe\">\n",
       "  <thead>\n",
       "    <tr style=\"text-align: right;\">\n",
       "      <th></th>\n",
       "      <th>si_db</th>\n",
       "      <th>si_index</th>\n",
       "      <th>waveform</th>\n",
       "      <th>pt_dbm</th>\n",
       "      <th>sig_bw</th>\n",
       "      <th>alpha</th>\n",
       "      <th>pow_xr</th>\n",
       "      <th>max_y</th>\n",
       "      <th>papr_x</th>\n",
       "      <th>pow_yr</th>\n",
       "      <th>q_err</th>\n",
       "    </tr>\n",
       "  </thead>\n",
       "  <tbody>\n",
       "    <tr>\n",
       "      <th>0</th>\n",
       "      <td>-59.487686</td>\n",
       "      <td>6</td>\n",
       "      <td>QPSK SC-FDM</td>\n",
       "      <td>30</td>\n",
       "      <td>201600000.0</td>\n",
       "      <td>0.960650</td>\n",
       "      <td>997.59546</td>\n",
       "      <td>0.025288</td>\n",
       "      <td>5.082037</td>\n",
       "      <td>7.592797e-09</td>\n",
       "      <td>1.056413e-07</td>\n",
       "    </tr>\n",
       "    <tr>\n",
       "      <th>0</th>\n",
       "      <td>-59.487686</td>\n",
       "      <td>6</td>\n",
       "      <td>QPSK SC-FDM</td>\n",
       "      <td>30</td>\n",
       "      <td>201600000.0</td>\n",
       "      <td>0.966752</td>\n",
       "      <td>998.68790</td>\n",
       "      <td>0.024851</td>\n",
       "      <td>4.735387</td>\n",
       "      <td>7.649391e-09</td>\n",
       "      <td>1.004458e-07</td>\n",
       "    </tr>\n",
       "    <tr>\n",
       "      <th>0</th>\n",
       "      <td>-59.487686</td>\n",
       "      <td>6</td>\n",
       "      <td>QPSK SC-FDM</td>\n",
       "      <td>30</td>\n",
       "      <td>201600000.0</td>\n",
       "      <td>0.970003</td>\n",
       "      <td>998.35150</td>\n",
       "      <td>0.026380</td>\n",
       "      <td>5.230003</td>\n",
       "      <td>7.672531e-09</td>\n",
       "      <td>1.138717e-07</td>\n",
       "    </tr>\n",
       "    <tr>\n",
       "      <th>0</th>\n",
       "      <td>-59.487686</td>\n",
       "      <td>6</td>\n",
       "      <td>QPSK SC-FDM</td>\n",
       "      <td>30</td>\n",
       "      <td>201600000.0</td>\n",
       "      <td>0.964405</td>\n",
       "      <td>999.27790</td>\n",
       "      <td>0.025594</td>\n",
       "      <td>4.877482</td>\n",
       "      <td>7.635330e-09</td>\n",
       "      <td>1.078500e-07</td>\n",
       "    </tr>\n",
       "    <tr>\n",
       "      <th>0</th>\n",
       "      <td>-59.487686</td>\n",
       "      <td>6</td>\n",
       "      <td>QPSK SC-FDM</td>\n",
       "      <td>30</td>\n",
       "      <td>201600000.0</td>\n",
       "      <td>0.986209</td>\n",
       "      <td>998.81335</td>\n",
       "      <td>0.023659</td>\n",
       "      <td>4.429593</td>\n",
       "      <td>7.804321e-09</td>\n",
       "      <td>9.220836e-08</td>\n",
       "    </tr>\n",
       "    <tr>\n",
       "      <th>...</th>\n",
       "      <td>...</td>\n",
       "      <td>...</td>\n",
       "      <td>...</td>\n",
       "      <td>...</td>\n",
       "      <td>...</td>\n",
       "      <td>...</td>\n",
       "      <td>...</td>\n",
       "      <td>...</td>\n",
       "      <td>...</td>\n",
       "      <td>...</td>\n",
       "      <td>...</td>\n",
       "    </tr>\n",
       "    <tr>\n",
       "      <th>91</th>\n",
       "      <td>-104.487686</td>\n",
       "      <td>51</td>\n",
       "      <td>64QAM  OFDM</td>\n",
       "      <td>30</td>\n",
       "      <td>201600000.0</td>\n",
       "      <td>0.752313</td>\n",
       "      <td>1030.92990</td>\n",
       "      <td>0.000374</td>\n",
       "      <td>10.447316</td>\n",
       "      <td>6.144830e-09</td>\n",
       "      <td>8.519705e-10</td>\n",
       "    </tr>\n",
       "    <tr>\n",
       "      <th>91</th>\n",
       "      <td>-104.487686</td>\n",
       "      <td>51</td>\n",
       "      <td>64QAM  OFDM</td>\n",
       "      <td>30</td>\n",
       "      <td>201600000.0</td>\n",
       "      <td>0.768376</td>\n",
       "      <td>987.97340</td>\n",
       "      <td>0.000309</td>\n",
       "      <td>9.683630</td>\n",
       "      <td>6.014523e-09</td>\n",
       "      <td>8.549819e-10</td>\n",
       "    </tr>\n",
       "    <tr>\n",
       "      <th>91</th>\n",
       "      <td>-104.487686</td>\n",
       "      <td>51</td>\n",
       "      <td>64QAM  OFDM</td>\n",
       "      <td>30</td>\n",
       "      <td>201600000.0</td>\n",
       "      <td>0.756827</td>\n",
       "      <td>1010.10090</td>\n",
       "      <td>0.000340</td>\n",
       "      <td>8.560997</td>\n",
       "      <td>6.056802e-09</td>\n",
       "      <td>8.609814e-10</td>\n",
       "    </tr>\n",
       "    <tr>\n",
       "      <th>91</th>\n",
       "      <td>-104.487686</td>\n",
       "      <td>51</td>\n",
       "      <td>64QAM  OFDM</td>\n",
       "      <td>30</td>\n",
       "      <td>201600000.0</td>\n",
       "      <td>0.773895</td>\n",
       "      <td>987.80970</td>\n",
       "      <td>0.000335</td>\n",
       "      <td>9.850843</td>\n",
       "      <td>6.056715e-09</td>\n",
       "      <td>8.573329e-10</td>\n",
       "    </tr>\n",
       "    <tr>\n",
       "      <th>91</th>\n",
       "      <td>-104.487686</td>\n",
       "      <td>51</td>\n",
       "      <td>64QAM  OFDM</td>\n",
       "      <td>30</td>\n",
       "      <td>201600000.0</td>\n",
       "      <td>0.757606</td>\n",
       "      <td>1006.29050</td>\n",
       "      <td>0.000320</td>\n",
       "      <td>9.127550</td>\n",
       "      <td>6.040166e-09</td>\n",
       "      <td>8.548698e-10</td>\n",
       "    </tr>\n",
       "  </tbody>\n",
       "</table>\n",
       "<p>92000 rows × 11 columns</p>\n",
       "</div>"
      ],
      "text/plain": [
       "         si_db  si_index     waveform  pt_dbm       sig_bw     alpha  \\\n",
       "0   -59.487686         6  QPSK SC-FDM      30  201600000.0  0.960650   \n",
       "0   -59.487686         6  QPSK SC-FDM      30  201600000.0  0.966752   \n",
       "0   -59.487686         6  QPSK SC-FDM      30  201600000.0  0.970003   \n",
       "0   -59.487686         6  QPSK SC-FDM      30  201600000.0  0.964405   \n",
       "0   -59.487686         6  QPSK SC-FDM      30  201600000.0  0.986209   \n",
       "..         ...       ...          ...     ...          ...       ...   \n",
       "91 -104.487686        51  64QAM  OFDM      30  201600000.0  0.752313   \n",
       "91 -104.487686        51  64QAM  OFDM      30  201600000.0  0.768376   \n",
       "91 -104.487686        51  64QAM  OFDM      30  201600000.0  0.756827   \n",
       "91 -104.487686        51  64QAM  OFDM      30  201600000.0  0.773895   \n",
       "91 -104.487686        51  64QAM  OFDM      30  201600000.0  0.757606   \n",
       "\n",
       "        pow_xr     max_y     papr_x        pow_yr         q_err  \n",
       "0    997.59546  0.025288   5.082037  7.592797e-09  1.056413e-07  \n",
       "0    998.68790  0.024851   4.735387  7.649391e-09  1.004458e-07  \n",
       "0    998.35150  0.026380   5.230003  7.672531e-09  1.138717e-07  \n",
       "0    999.27790  0.025594   4.877482  7.635330e-09  1.078500e-07  \n",
       "0    998.81335  0.023659   4.429593  7.804321e-09  9.220836e-08  \n",
       "..         ...       ...        ...           ...           ...  \n",
       "91  1030.92990  0.000374  10.447316  6.144830e-09  8.519705e-10  \n",
       "91   987.97340  0.000309   9.683630  6.014523e-09  8.549819e-10  \n",
       "91  1010.10090  0.000340   8.560997  6.056802e-09  8.609814e-10  \n",
       "91   987.80970  0.000335   9.850843  6.056715e-09  8.573329e-10  \n",
       "91  1006.29050  0.000320   9.127550  6.040166e-09  8.548698e-10  \n",
       "\n",
       "[92000 rows x 11 columns]"
      ]
     },
     "execution_count": 21,
     "metadata": {},
     "output_type": "execute_result"
    }
   ],
   "source": [
    "sim_df = pd.read_csv(res_path/\"sim_results.csv\", index_col=0)\n",
    "sim_df"
   ]
  },
  {
   "cell_type": "code",
   "execution_count": 22,
   "id": "f6ee4af4-479e-4c99-ab8b-6ad111583aab",
   "metadata": {
    "ExecuteTime": {
     "end_time": "2024-09-06T14:01:50.119813Z",
     "start_time": "2024-09-06T14:01:50.105299Z"
    }
   },
   "outputs": [],
   "source": [
    "sig_bw, pow_xr = sim_df[[\"sig_bw\", \"pow_xr\"]].mean().values\n",
    "alpha = sim_df.groupby([\"si_index\"])[\"alpha\"].mean()\n",
    "papr_s = sim_df.groupby([\"waveform\"])[\"papr_x\"].mean()\n",
    "avg_val_q = sim_df[[\"waveform\", \"si_db\", \"pow_yr\", \"q_err\", \"pt_dbm\"]]"
   ]
  },
  {
   "cell_type": "code",
   "execution_count": 23,
   "id": "74ae4e9d-8935-4f40-bf39-57d24b4bebde",
   "metadata": {
    "ExecuteTime": {
     "end_time": "2024-09-06T14:01:52.222737Z",
     "start_time": "2024-09-06T14:01:50.120545Z"
    }
   },
   "outputs": [],
   "source": [
    "bnd_label = \"High-SI bound\"\n",
    "ach_label = \"Real bound\"\n",
    "sim_label = \"Simulation\"\n",
    "wf_label = \"Waveform    (avg PAPR)\"\n",
    "pt_label = \"Tx Power\"\n",
    "\n",
    "\n",
    "alph_theory = np.max(alpha)\n",
    "theory_collector = []\n",
    "achieved_collector = []\n",
    "wf_params = {}\n",
    "for wf in waveforms:\n",
    "    papr_x = papr_s[wf]\n",
    "    sig_bw_frac = sig_bw/digital_bw_hz\n",
    "    wf_params[wf] = f\"/{phy.pow2db(papr_x):.1f}dB\"\n",
    "    if noise_power > 0:\n",
    "        snr_pow = snr_thermal(phy.db2power(pt_dbm) * alph_theory, noise_power=noise_power, channel_gain=ch_gain) \n",
    "    else:\n",
    "        snr_pow = None\n",
    "    for si_db in np.linspace(si_min, si_max, 1000):\n",
    "        sqnr_theory = sqnr_bound(si_db - channel_db, hr1, hr2, Q_bits, papr_x, alph_theory, sig_bw_frac, snr_pow)\n",
    "        sqnr_pure = sqnr_bound(si_db - channel_db, hr1, hr2, Q_bits, papr_x, alph_theory, sig_bw_frac, None)\n",
    "        theory_collector.append({\"type\": bnd_label, \"waveform\": wf, \"pt_dbm\": pt_dbm, \"si_db\": si_db, \"sqnr_db\": phy.pow2db(sqnr_theory), \"sqr\": phy.pow2db(sqnr_pure)})\n",
    "    for si_i in si_index:\n",
    "        eps_si = tgt_si[si_i]\n",
    "        si_db = si_beam[si_i]\n",
    "        alph_si = alpha.loc[si_i]\n",
    "        snr_pow = snr_thermal(phy.db2power(pt_dbm) * alph_si, noise_power=noise_power, channel_gain=ch_gain)\n",
    "        \n",
    "        sqnr_achieved = sqnr_bound(si_db - channel_db, hr1, hr2, Q_bits, papr_x, alph_si, sig_bw_frac, snr_pow)\n",
    "        achieved_collector.append({\"type\": ach_label, \"waveform\": wf, \"pt_dbm\": pt_dbm, \"si_db\": eps_si, \"sqnr_db\": phy.pow2db(sqnr_achieved)})"
   ]
  },
  {
   "cell_type": "code",
   "execution_count": 24,
   "id": "ab05887d-020c-4bbe-9143-3c3b8c7c1df6",
   "metadata": {
    "ExecuteTime": {
     "end_time": "2024-09-06T14:01:52.228177Z",
     "start_time": "2024-09-06T14:01:52.223616Z"
    }
   },
   "outputs": [
    {
     "data": {
      "text/plain": [
       "0.9769365395249999"
      ]
     },
     "execution_count": 24,
     "metadata": {},
     "output_type": "execute_result"
    }
   ],
   "source": [
    "alph_theory"
   ]
  },
  {
   "cell_type": "code",
   "execution_count": 25,
   "id": "980326cd-8a5e-4a3e-b1bb-7ed89fc95e97",
   "metadata": {
    "ExecuteTime": {
     "end_time": "2024-09-06T14:01:52.228177Z",
     "start_time": "2024-09-06T14:01:52.223616Z"
    }
   },
   "outputs": [],
   "source": [
    "bnd_df = pd.DataFrame(achieved_collector+theory_collector).reset_index()"
   ]
  },
  {
   "cell_type": "code",
   "execution_count": 26,
   "id": "6a34bd0e-dabd-4520-9a9a-be0d8e2fc892",
   "metadata": {
    "ExecuteTime": {
     "end_time": "2024-09-06T14:01:52.276717Z",
     "start_time": "2024-09-06T14:01:52.228926Z"
    }
   },
   "outputs": [],
   "source": [
    "empiric_df = avg_val_q.reset_index()\n",
    "empiric_df[\"type\"] = sim_label\n",
    "empiric_df[\"sqnr_db\"] = phy.pow2db(empiric_df[\"pow_yr\"] / empiric_df[\"q_err\"])"
   ]
  },
  {
   "cell_type": "code",
   "execution_count": 27,
   "id": "f2da2fd9-5372-49c6-a0c1-63a226e81c77",
   "metadata": {
    "ExecuteTime": {
     "end_time": "2024-09-06T14:01:52.308920Z",
     "start_time": "2024-09-06T14:01:52.277432Z"
    }
   },
   "outputs": [],
   "source": [
    "plot_df = pd.concat([empiric_df, bnd_df], axis=0).reset_index()\n",
    "plot_df[pt_label] = plot_df[\"pt_dbm\"].apply(str) + \" dBm\" \n",
    "plot_df[wf_label] = plot_df[\"waveform\"] + plot_df[\"waveform\"].map(wf_params)\n",
    "\n",
    "si_gains = plot_df[\"si_db\"]\n",
    "plot_df[\"si_gain\"] = si_gains\n",
    "si_gains = si_gains.unique()"
   ]
  },
  {
   "cell_type": "code",
   "execution_count": 28,
   "id": "0b0c4977-3c4b-420d-84e4-e73d27c4d318",
   "metadata": {
    "ExecuteTime": {
     "end_time": "2024-09-06T14:01:53.057114Z",
     "start_time": "2024-09-06T14:01:52.309589Z"
    }
   },
   "outputs": [
    {
     "data": {
      "image/png": "[encoded data removed]",
      "text/plain": [
       "<Figure size 350x265 with 1 Axes>"
      ]
     },
     "metadata": {},
     "output_type": "display_data"
    }
   ],
   "source": [
    "wf_plot = waveforms[-1]\n",
    "title_wf = wf_plot\n",
    "\n",
    "fig, ax2 = plt.subplots(1,1)\n",
    "\n",
    "xlims = (empiric_df[\"si_db\"].min(), -60)\n",
    "ylims = (bnd_df.query(f\"type == '{ach_label}' and  waveform =='{wf_plot}'\")[\"sqnr_db\"].min() - 1,\n",
    "         10)\n",
    "\n",
    "ln_order = [sim_label, bnd_label]\n",
    "\n",
    "sns.lineplot(plot_df.query(f\" waveform =='{wf_plot}' and type != '{ach_label}'\"), x=\"si_gain\", y=\"sqnr_db\", style=\"type\", style_order=ln_order,\n",
    "             hue_order=ln_order, estimator=phy.avg_snr_noise,\n",
    "             markers=[\"o\", \",\"], dashes=((1,1), (1,0)),\n",
    "             errorbar=(\"pi\", 98),\n",
    "             hue=\"type\", markevery=2, markersize=6, palette=[viz.b, viz.r],\n",
    "             ax=ax2)\n",
    "\n",
    "ax2.collections[0].set_label('pi')\n",
    "ax2.legend()\n",
    "handles, _ = ax2.get_legend_handles_labels()\n",
    "ax2.legend(handles[1::-1] + handles[::-1], [r\"Average noise\", r\"99\\% interval\", \"High-SI bound\"],\n",
    "           loc=\"lower left\", borderaxespad=0.7) #, fontsize=\"10\")\n",
    "\n",
    "plt.sca(ax2)\n",
    "plt.xlim(xlims)\n",
    "plt.ylim(ylims)\n",
    "plt.xlabel(r\"Target SI $\\varepsilon$ [dB]\")\n",
    "plt.ylabel(\"Sensing SNR [dB]\")\n",
    "\n",
    "fig.savefig(plot_path/\"bound_sqnr.pgf\", bbox_inches=\"tight\")\n",
    "fig.savefig(plot_path/\"bound_sqnr.pdf\", bbox_inches=\"tight\")"
   ]
  },
  {
   "cell_type": "code",
   "execution_count": 30,
   "id": "0f4743db-243a-4d34-9347-8fe0160c8cc0",
   "metadata": {},
   "outputs": [
    {
     "data": {
      "image/png": "[encoded data removed]",
      "text/plain": [
       "<Figure size 350x265 with 1 Axes>"
      ]
     },
     "metadata": {},
     "output_type": "display_data"
    }
   ],
   "source": [
    "fig, ax2 = plt.subplots(1,1)\n",
    "\n",
    "xlims = (empiric_df[\"si_db\"].min(), -60)\n",
    "ylims = (bnd_df.query(f\"type == '{ach_label}'\")[\"sqnr_db\"].min(),\n",
    "         plot_df.sqnr_db.max() + 1)\n",
    "\n",
    "ln_order = style_order = [sim_label, bnd_label]\n",
    "\n",
    "sns.lineplot(plot_df.query(f\"type != '{ach_label}'\"), x=\"si_gain\", y=\"sqnr_db\", style=\"type\", style_order=ln_order,\n",
    "             estimator=phy.avg_snr_noise,\n",
    "             alpha=0.9,\n",
    "             markers=[\"o\", \",\"], dashes=((1,1), (1,0)),\n",
    "             errorbar=(\"pi\", 98),\n",
    "             hue=wf_label, markevery=2, markersize=6, palette=[viz.b, viz.g],\n",
    "             ax=ax2)\n",
    "handles, labels = ax2.get_legend_handles_labels()\n",
    "ax2.legend(handles[1:3]+handles[-2:], labels[1:3]+labels[-2:], title=wf_label, framealpha=0.4) #, fontsize=\"10\")\n",
    "\n",
    "plt.sca(ax2)\n",
    "plt.xlim(xlims)\n",
    "plt.ylim(ylims)\n",
    "plt.xlabel(r\"Target SI $\\varepsilon$ [dB]\")\n",
    "plt.ylabel(\"Sensing SNR [dB]\")\n",
    "\n",
    "fig.savefig(plot_path/\"bound_sqnr_wf.pgf\", bbox_inches=\"tight\")\n",
    "fig.savefig(plot_path/\"bound_sqnr_wf.pdf\", bbox_inches=\"tight\")"
   ]
  }
 ],
 "metadata": {
  "kernelspec": {
   "display_name": "Python 3 (ipykernel)",
   "language": "python",
   "name": "python3"
  },
  "language_info": {
   "codemirror_mode": {
    "name": "ipython",
    "version": 3
   },
   "file_extension": ".py",
   "mimetype": "text/x-python",
   "name": "python",
   "nbconvert_exporter": "python",
   "pygments_lexer": "ipython3",
   "version": "3.8.10"
  }
 },
 "nbformat": 4,
 "nbformat_minor": 5
}
