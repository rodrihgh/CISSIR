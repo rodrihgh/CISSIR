{
 "cells": [
  {
   "cell_type": "markdown",
   "id": "31c2874f-3ad9-4994-a21b-aaab3a78b7ab",
   "metadata": {},
   "source": [
    "# SDR Codebook optimization"
   ]
  },
  {
   "cell_type": "markdown",
   "id": "2dfa7e58-6b11-4ef5-ba6f-5f99d8a621ee",
   "metadata": {},
   "source": [
    "## Setup"
   ]
  },
  {
   "cell_type": "code",
   "execution_count": 1,
   "id": "f86a7c9a-2faf-465f-a70b-54bd0cc60f84",
   "metadata": {
    "ExecuteTime": {
     "end_time": "2024-09-19T13:26:29.096884Z",
     "start_time": "2024-09-19T13:26:29.094017Z"
    }
   },
   "outputs": [],
   "source": [
    "import time\n",
    "\n",
    "import numpy as np\n",
    "import pandas as pd\n",
    "import matplotlib.pyplot as plt\n",
    "from tqdm.notebook import tqdm\n",
    "import json\n",
    "\n",
    "from sionna.rt import Antenna\n",
    "\n",
    "from cissir.physics import pow2db, db2power, mag2db, db2mag\n",
    "\n",
    "from cissir import params, optimization as opt\n",
    "from cissir.beamforming import dft_codebook, plot_beamforming_polar\n",
    "from cissir.raytracing import si_paths2cir\n",
    "from cissir.utils import PrintBuffer, plot_path, res_path\n",
    "from cissir import visualization as viz\n",
    "viz.paper_style(line_cycler=False, figsize=(1.5 * viz.def_figsize[0], 1.5 * viz.def_figsize[1]))\n"
   ]
  },
  {
   "cell_type": "code",
   "execution_count": 2,
   "id": "87db658e-7c9d-4934-ad21-416c2bb10b79",
   "metadata": {
    "ExecuteTime": {
     "end_time": "2024-09-19T13:26:29.507914Z",
     "start_time": "2024-09-19T13:26:29.505474Z"
    }
   },
   "outputs": [],
   "source": [
    "# Global parameters\n",
    "\n",
    "c = params.c\n",
    "fc = params.fc_hz\n",
    "wavelength_m = params.wavelength_m\n",
    "\n",
    "ula_el_spacing = params.array_electrical_spacing\n",
    "\n",
    "N_r = params.n_rx\n",
    "N_t = params.n_tx\n",
    "\n",
    "# Number of beams\n",
    "L_r = params.num_beams\n",
    "L_t = params.num_beams"
   ]
  },
  {
   "cell_type": "markdown",
   "id": "6b0b9aba-f00e-403c-97c8-d5e7b36668af",
   "metadata": {},
   "source": [
    "### DFT beam codebook\n"
   ]
  },
  {
   "cell_type": "code",
   "execution_count": 3,
   "id": "ede5e0e7-3ecb-40b5-b5f5-ecb6312d4714",
   "metadata": {
    "ExecuteTime": {
     "end_time": "2024-09-19T13:26:30.444823Z",
     "start_time": "2024-09-19T13:26:30.441319Z"
    }
   },
   "outputs": [],
   "source": [
    "dft_tx_codebook, tx_degs = dft_codebook(L_max = L_t , N1 = N_t, full_grid=True,\n",
    "                                          az_min = -60, az_max = 60, transmit=True)\n",
    "L_t = len(tx_degs)\n",
    "dft_rx_codebook, rx_degs = dft_codebook(L_max = L_r , N1 = N_r, full_grid=True,\n",
    "                                          az_min = -60, az_max = 60, transmit=False)\n",
    "L_r = len(rx_degs)"
   ]
  },
  {
   "cell_type": "code",
   "execution_count": 9,
   "id": "91ebb7c6-189e-4ba0-a7de-2f796c5be31d",
   "metadata": {
    "ExecuteTime": {
     "end_time": "2024-09-19T13:26:35.291614Z",
     "start_time": "2024-09-19T13:26:35.284096Z"
    }
   },
   "outputs": [],
   "source": [
    "si_num_taps = 1 # \"full\"    # Options: 1, 2, \"full\"\n",
    "\n",
    "def cb_si_db(tx_codebook, rx_codebook, si_channel):\n",
    "    return mag2db(opt.codebook_si(tx_codebook, rx_codebook, si_channel))\n",
    "\n",
    "with np.load(res_path/\"channel_impulse_responses.npz\") as rt_data:\n",
    "    t_rt = np.squeeze(rt_data['t_channel_s'])\n",
    "    ht_si_full = np.squeeze(rt_data['ht_si'])\n",
    "    h_full = si_paths2cir(ht_si_full)\n",
    "\n",
    "if si_num_taps == \"full\":\n",
    "    h_si = h_full\n",
    "    si_db_ref = cb_si_db(dft_tx_codebook, dft_rx_codebook, h_si).max()\n",
    "else:\n",
    "    with np.load(res_path/\"si_mimo.npz\") as rt_data:\n",
    "        h_si = rt_data['h_si_matrix'][:si_num_taps]\n",
    "    si_db_ref = cb_si_db(dft_tx_codebook, dft_rx_codebook,\n",
    "                         si_paths2cir(ht_si_full[:si_num_taps])).max()\n",
    "    h_si *= db2mag(si_db_ref - cb_si_db(dft_tx_codebook, dft_rx_codebook, h_si).max())\n",
    "    \n",
    "    assert h_si.shape == (si_num_taps, N_r, N_t), \"Unexpected SI shape\""
   ]
  },
  {
   "cell_type": "code",
   "execution_count": 10,
   "id": "5598bc10-9d1c-488a-bdc6-d17a6c1636c5",
   "metadata": {
    "ExecuteTime": {
     "end_time": "2024-09-19T13:26:35.311868Z",
     "start_time": "2024-09-19T13:26:35.292383Z"
    }
   },
   "outputs": [],
   "source": [
    "h_si_rx, h_si_tx = opt.si_split(h_si)\n",
    "\n",
    "min_eigval_db = mag2db(opt.min_eigval(h_si))\n",
    "max_eigval_db = mag2db(opt.max_eigval(h_si))\n",
    "\n",
    "min_split_db = pow2db(opt.min_eigval(h_si_rx)*opt.min_eigval(h_si_tx))\n",
    "max_split_db = pow2db(opt.max_eigval(h_si_rx)*opt.max_eigval(h_si_tx))"
   ]
  },
  {
   "cell_type": "code",
   "execution_count": 11,
   "id": "ac2e6169-ced2-4e22-8b99-b250b5c2a38c",
   "metadata": {
    "ExecuteTime": {
     "end_time": "2024-09-19T13:26:35.311868Z",
     "start_time": "2024-09-19T13:26:35.292383Z"
    }
   },
   "outputs": [
    {
     "name": "stdout",
     "output_type": "stream",
     "text": [
      "      eig_min H: -173.9 dB\n",
      "eig_min Grx\\Gtx: -177.3 dB\n",
      "            cHw: -60.6 dB\n",
      "      eig_max H: -41.9 dB\n",
      "eig_max Grx\\Gtx: -41.4 dB\n"
     ]
    }
   ],
   "source": [
    "print(f\"      eig_min H: {min_eigval_db:.1f} dB\")\n",
    "print(f\"eig_min Grx\\Gtx: {min_split_db:.1f} dB\")\n",
    "print(f\"            cHw: {si_db_ref:.1f} dB\")\n",
    "print(f\"      eig_max H: {max_eigval_db:.1f} dB\")\n",
    "print(f\"eig_max Grx\\Gtx: {max_split_db:.1f} dB\")"
   ]
  },
  {
   "cell_type": "markdown",
   "id": "45955310-1b3c-43af-8d40-36e816cecee3",
   "metadata": {},
   "source": [
    "## Optimization"
   ]
  },
  {
   "cell_type": "code",
   "execution_count": 12,
   "id": "4bce53ae-9fce-4485-ba4f-764b4e32d2b2",
   "metadata": {
    "ExecuteTime": {
     "end_time": "2024-09-19T13:26:36.466158Z",
     "start_time": "2024-09-19T13:26:36.463999Z"
    }
   },
   "outputs": [],
   "source": [
    "feasible_tolerance = 1e-2\n",
    "tgt_si_values = np.arange(si_db_ref, min_split_db, -1.0)\n",
    "pbuf = PrintBuffer(print_input=False)"
   ]
  },
  {
   "cell_type": "code",
   "execution_count": 13,
   "id": "6dc4ac97-8145-4659-a6ab-8b1d4b0e4a7f",
   "metadata": {
    "ExecuteTime": {
     "end_time": "2024-09-19T13:27:04.271918Z",
     "start_time": "2024-09-19T13:26:39.070291Z"
    }
   },
   "outputs": [
    {
     "data": {
      "application/vnd.jupyter.widget-view+json": {
       "model_id": "82e6f47c347349b09d14f3e50c592308",
       "version_major": 2,
       "version_minor": 0
      },
      "text/plain": [
       "  0%|          | 0/117 [00:00<?, ?it/s]"
      ]
     },
     "metadata": {},
     "output_type": "display_data"
    },
    {
     "name": "stdout",
     "output_type": "stream",
     "text": [
      "Breaking loop due to runtime issues:\n",
      "The TX problem is infeasible, try increasing the target SI\n"
     ]
    }
   ],
   "source": [
    "rx_mesh, tx_mesh = np.meshgrid(rx_degs, tx_degs, indexing=\"ij\")\n",
    "beam_results = {\"opt\": \"sdr\",\n",
    "                \"taps\": si_num_taps,\n",
    "                \"tx\": {\"degrees\": tx_degs.tolist(),\n",
    "                       \"grid\": tx_mesh.flatten().tolist()},\n",
    "                \"rx\": {\"degrees\": rx_degs.tolist(),\n",
    "                       \"grid\": rx_mesh.flatten().tolist()},\n",
    "                \"tgt_si\": [],\n",
    "                \"ach_si\": [],\n",
    "                \"spec_nuc_tx\": [],\n",
    "                \"spec_nuc_rx\": [],\n",
    "                \"beam_dev_tx\": [],\n",
    "                \"beam_dev_rx\": []\n",
    "                }\n",
    "results = []\n",
    "codebooks = []\n",
    "\n",
    "phased_array = True\n",
    "sdrCodebooks = opt.SDRcodebook(h_si, dft_tx_codebook, dft_rx_codebook,\n",
    "                               si_threshold_power=1.0, beta=0.5, phased=phased_array)\n",
    "gram_beams_tx = sdrCodebooks.gram_codebook(dft_tx_codebook)\n",
    "gram_beams_rx = sdrCodebooks.gram_codebook(dft_rx_codebook)\n",
    "\n",
    "\n",
    "pbar = tqdm(tgt_si_values)\n",
    "pbar.set_description(f\"Baseline SI {si_db_ref:.1f} dB\")\n",
    "for tgt_si_db in pbar:\n",
    "    \n",
    "    att_db = -tgt_si_db\n",
    "    tgt_si_pow = db2power(tgt_si_db)\n",
    "    sdrCodebooks.si_threshold_power = tgt_si_pow\n",
    "        \n",
    "    pbuf.print(f\"SI-ATT. {att_db:.1f} dB\")\n",
    "\n",
    "    try:\n",
    "        start_time = time.perf_counter()\n",
    "        w_codebook, W_sol = sdrCodebooks.solve(tx=True, return_sdr=True)\n",
    "        c_codebook, C_sol = sdrCodebooks.solve(tx=False, return_sdr=True)\n",
    "        end_time = time.perf_counter()\n",
    "    except RuntimeError as re:\n",
    "        print(\"Breaking loop due to runtime issues:\")\n",
    "        print(re)\n",
    "        pbar.close()\n",
    "        break\n",
    "\n",
    "    si_db_sdr = mag2db(opt.sdr_si(W_sol, C_sol, h_si).max())\n",
    "    loss_w_sdr = pow2db(max(opt.sdr_codebook_deviation(W_sol, gram_beams_tx), 1e-10))\n",
    "    loss_c_sdr = pow2db(max(opt.sdr_codebook_deviation(C_sol, gram_beams_rx), 1e-10))\n",
    "    \n",
    "    max_c_err = opt.maxSdrError(C_sol, c_codebook)\n",
    "    max_w_err = opt.maxSdrError(W_sol, w_codebook)\n",
    "    max_amp_err = np.sqrt(max(max_c_err, max_w_err))\n",
    "\n",
    "    si_db_matrix = cb_si_db(w_codebook, c_codebook, h_si)\n",
    "    si_db_rank1 = np.max(si_db_matrix)\n",
    "    tx_dev_beam = np.maximum(opt.codebook_deviation_power(dft_tx_codebook, w_codebook, axis=0), 1e-10)\n",
    "    rx_dev_beam = np.maximum(opt.codebook_deviation_power(dft_rx_codebook, c_codebook, axis=0), 1e-10)\n",
    "    loss_w_rank1 = pow2db(np.mean(tx_dev_beam))\n",
    "    loss_c_rank1 = pow2db(np.mean(rx_dev_beam))\n",
    "    \n",
    "    att_sdr = -si_db_sdr\n",
    "    att_rank1 = -si_db_rank1\n",
    "\n",
    "    pbuf.print(\"Solutions SDR\\\\Rank-1:\")\n",
    "    pbuf.print(f\"\\t\\tSI att.:\\t{att_sdr:.1f}\\\\{att_rank1:.1f} dB\\t({si_db_ref-si_db_rank1:.1f} dB from baseline)\")\n",
    "    pbuf.print(f\"\\t\\tTx error:\\t{loss_w_sdr:.1f}\\\\{loss_w_rank1:.1f} dB\")\n",
    "    pbuf.print(f\"\\t\\tRx error:\\t{loss_c_sdr:.1f}\\\\{loss_c_rank1:.1f} dB\")\n",
    "    pbuf.print(f\"\\tMax sol. error {max_amp_err:.2E}\")\n",
    "    \n",
    "    postfix = (f\"SI Tgt::Actual {att_db:.1f}::{att_rank1:.1f} dB; \"\n",
    "               f\"Error Tx::Rx {loss_w_rank1:.1f}::{loss_c_rank1:.1f} dB; \"\n",
    "               f\"Max sol. error {max_amp_err:.2E}\")\n",
    "    pbar.set_postfix_str(postfix)\n",
    "\n",
    "    if si_num_taps == \"full\":\n",
    "        att_full_db = att_rank1\n",
    "    else:\n",
    "        si_db_full = mag2db(np.max(opt.codebook_si(w_codebook, c_codebook, h_full)))\n",
    "        att_full_db =  - si_db_full\n",
    "\n",
    "    if max_amp_err < feasible_tolerance:\n",
    "        codebooks.append({\"att_tgt\": att_db, \"att_opt\": att_rank1, \"rx_codebook_p\": c_codebook, \"tx_codebook_p\": w_codebook})\n",
    "        tx_beam_db = pow2db(tx_dev_beam)\n",
    "        rx_beam_db = pow2db(rx_dev_beam)\n",
    "    else:\n",
    "        att_rank1 = None\n",
    "        att_full_db = None\n",
    "        loss_w_rank1= None\n",
    "        loss_c_rank1= None\n",
    "        si_db_matrix[:] = np.nan\n",
    "        tx_beam_db = np.full_like(tx_dev_beam, np.nan)\n",
    "        rx_beam_db = np.full_like(rx_dev_beam, np.nan)\n",
    "\n",
    "    beam_results[\"tgt_si\"].append(-att_db)\n",
    "    beam_results[\"ach_si\"].append(si_db_matrix.flatten().tolist())\n",
    "    beam_results[\"spec_nuc_tx\"].append(opt.spec_nuc_ratio(W_sol).tolist())\n",
    "    beam_results[\"spec_nuc_rx\"].append(opt.spec_nuc_ratio(C_sol).tolist())\n",
    "    beam_results[\"beam_dev_tx\"].append(tx_beam_db.tolist())\n",
    "    beam_results[\"beam_dev_rx\"].append(rx_beam_db.tolist())\n",
    "\n",
    "    results.append({\"att_tgt\": att_db, \"opt\": \"sdp\", \"rx_sdr_err\": max_c_err, \"tx_sdr_err\": max_w_err,\n",
    "                    \"att_opt\": att_rank1, \"tx_loss\": loss_w_rank1, \"rx_loss\": loss_c_rank1, \"elapsed_time\": end_time - start_time,\n",
    "                    \"att_sdr\": att_sdr, \"tx_loss_sdr\": loss_w_sdr, \"rx_loss_sdr\": loss_c_sdr, \"att_full\": att_full_db,\n",
    "                    \"phased\": phased_array, \"si_taps\": si_num_taps, \"num_beams\": L_t})"
   ]
  },
  {
   "cell_type": "code",
   "execution_count": 14,
   "id": "c1ccd7b8-bc14-4295-9a7b-e381252621bc",
   "metadata": {
    "ExecuteTime": {
     "end_time": "2024-09-19T13:27:40.082924Z",
     "start_time": "2024-09-19T13:27:40.079982Z"
    },
    "scrolled": true
   },
   "outputs": [
    {
     "name": "stdout",
     "output_type": "stream",
     "text": [
      "SI-ATT. 60.6 dB\n",
      "Solutions SDR\\Rank-1:\n",
      "\t\tSI att.:\t60.6\\60.6 dB\t(0.0 dB from baseline)\n",
      "\t\tTx error:\t-76.1\\-90.3 dB\n",
      "\t\tRx error:\t-76.1\\-90.2 dB\n",
      "\tMax sol. error 3.18E-03\n",
      "SI-ATT. 61.6 dB\n",
      "Solutions SDR\\Rank-1:\n",
      "\t\tSI att.:\t61.6\\61.6 dB\t(1.0 dB from baseline)\n",
      "\t\tTx error:\t-43.3\\-43.3 dB\n",
      "\t\tRx error:\t-43.3\\-43.3 dB\n",
      "\tMax sol. error 2.96E-03\n",
      "SI-ATT. 62.6 dB\n",
      "Solutions SDR\\Rank-1:\n",
      "\t\tSI att.:\t62.6\\62.6 dB\t(2.0 dB from baseline)\n",
      "\t\tTx error:\t-37.5\\-37.5 dB\n",
      "\t\tRx error:\t-37.5\\-37.5 dB\n",
      "\tMax sol. error 2.96E-03\n",
      "SI-ATT. 63.6 dB\n",
      "Solutions SDR\\Rank-1:\n",
      "\t\tSI att.:\t63.6\\63.6 dB\t(3.0 dB from baseline)\n",
      "\t\tTx error:\t-34.2\\-34.2 dB\n",
      "\t\tRx error:\t-34.2\\-34.2 dB\n",
      "\tMax sol. error 2.96E-03\n",
      "SI-ATT. 64.6 dB\n",
      "Solutions SDR\\Rank-1:\n",
      "\t\tSI att.:\t64.6\\64.6 dB\t(4.0 dB from baseline)\n",
      "\t\tTx error:\t-31.9\\-31.9 dB\n",
      "\t\tRx error:\t-31.9\\-31.9 dB\n",
      "\tMax sol. error 2.96E-03\n",
      "SI-ATT. 65.6 dB\n",
      "Solutions SDR\\Rank-1:\n",
      "\t\tSI att.:\t65.6\\65.6 dB\t(5.0 dB from baseline)\n",
      "\t\tTx error:\t-30.2\\-30.2 dB\n",
      "\t\tRx error:\t-30.2\\-30.2 dB\n",
      "\tMax sol. error 2.96E-03\n",
      "SI-ATT. 66.6 dB\n",
      "Solutions SDR\\Rank-1:\n",
      "\t\tSI att.:\t66.6\\66.6 dB\t(6.0 dB from baseline)\n",
      "\t\tTx error:\t-28.8\\-28.8 dB\n",
      "\t\tRx error:\t-28.8\\-28.8 dB\n",
      "\tMax sol. error 2.96E-03\n",
      "SI-ATT. 67.6 dB\n",
      "Solutions SDR\\Rank-1:\n",
      "\t\tSI att.:\t67.6\\67.6 dB\t(7.0 dB from baseline)\n",
      "\t\tTx error:\t-27.7\\-27.7 dB\n",
      "\t\tRx error:\t-27.7\\-27.7 dB\n",
      "\tMax sol. error 2.96E-03\n",
      "SI-ATT. 68.6 dB\n",
      "Solutions SDR\\Rank-1:\n",
      "\t\tSI att.:\t68.6\\68.6 dB\t(8.0 dB from baseline)\n",
      "\t\tTx error:\t-26.6\\-26.6 dB\n",
      "\t\tRx error:\t-26.6\\-26.6 dB\n",
      "\tMax sol. error 2.96E-03\n",
      "SI-ATT. 69.6 dB\n",
      "Solutions SDR\\Rank-1:\n",
      "\t\tSI att.:\t69.6\\69.5 dB\t(9.0 dB from baseline)\n",
      "\t\tTx error:\t-25.6\\-25.6 dB\n",
      "\t\tRx error:\t-25.6\\-25.6 dB\n",
      "\tMax sol. error 2.95E-03\n",
      "SI-ATT. 70.6 dB\n",
      "Solutions SDR\\Rank-1:\n",
      "\t\tSI att.:\t70.6\\70.6 dB\t(10.0 dB from baseline)\n",
      "\t\tTx error:\t-24.7\\-24.7 dB\n",
      "\t\tRx error:\t-24.7\\-24.7 dB\n",
      "\tMax sol. error 2.95E-03\n",
      "SI-ATT. 71.6 dB\n",
      "Solutions SDR\\Rank-1:\n",
      "\t\tSI att.:\t71.6\\71.6 dB\t(11.0 dB from baseline)\n",
      "\t\tTx error:\t-23.8\\-23.8 dB\n",
      "\t\tRx error:\t-23.8\\-23.8 dB\n",
      "\tMax sol. error 2.95E-03\n",
      "SI-ATT. 72.6 dB\n",
      "Solutions SDR\\Rank-1:\n",
      "\t\tSI att.:\t72.6\\72.6 dB\t(12.0 dB from baseline)\n",
      "\t\tTx error:\t-23.0\\-23.0 dB\n",
      "\t\tRx error:\t-23.0\\-23.0 dB\n",
      "\tMax sol. error 2.95E-03\n",
      "SI-ATT. 73.6 dB\n",
      "Solutions SDR\\Rank-1:\n",
      "\t\tSI att.:\t73.6\\73.6 dB\t(13.0 dB from baseline)\n",
      "\t\tTx error:\t-22.3\\-22.3 dB\n",
      "\t\tRx error:\t-22.3\\-22.3 dB\n",
      "\tMax sol. error 2.96E-03\n",
      "SI-ATT. 74.6 dB\n",
      "Solutions SDR\\Rank-1:\n",
      "\t\tSI att.:\t74.6\\74.6 dB\t(14.0 dB from baseline)\n",
      "\t\tTx error:\t-21.7\\-21.7 dB\n",
      "\t\tRx error:\t-21.7\\-21.7 dB\n",
      "\tMax sol. error 2.95E-03\n",
      "SI-ATT. 75.6 dB\n",
      "Solutions SDR\\Rank-1:\n",
      "\t\tSI att.:\t75.6\\75.6 dB\t(15.0 dB from baseline)\n",
      "\t\tTx error:\t-21.1\\-21.1 dB\n",
      "\t\tRx error:\t-21.1\\-21.1 dB\n",
      "\tMax sol. error 2.96E-03\n",
      "SI-ATT. 76.6 dB\n",
      "Solutions SDR\\Rank-1:\n",
      "\t\tSI att.:\t76.5\\76.5 dB\t(16.0 dB from baseline)\n",
      "\t\tTx error:\t-20.5\\-20.5 dB\n",
      "\t\tRx error:\t-20.5\\-20.5 dB\n",
      "\tMax sol. error 3.00E-03\n",
      "SI-ATT. 77.6 dB\n",
      "Solutions SDR\\Rank-1:\n",
      "\t\tSI att.:\t77.6\\77.6 dB\t(17.0 dB from baseline)\n",
      "\t\tTx error:\t-20.0\\-20.0 dB\n",
      "\t\tRx error:\t-20.0\\-20.0 dB\n",
      "\tMax sol. error 2.96E-03\n",
      "SI-ATT. 78.6 dB\n",
      "Solutions SDR\\Rank-1:\n",
      "\t\tSI att.:\t78.5\\78.5 dB\t(18.0 dB from baseline)\n",
      "\t\tTx error:\t-19.5\\-19.5 dB\n",
      "\t\tRx error:\t-19.5\\-19.5 dB\n",
      "\tMax sol. error 2.96E-03\n",
      "SI-ATT. 79.6 dB\n",
      "Solutions SDR\\Rank-1:\n",
      "\t\tSI att.:\t79.5\\79.5 dB\t(19.0 dB from baseline)\n",
      "\t\tTx error:\t-19.0\\-19.0 dB\n",
      "\t\tRx error:\t-19.0\\-19.0 dB\n",
      "\tMax sol. error 2.97E-03\n",
      "SI-ATT. 80.6 dB\n",
      "Solutions SDR\\Rank-1:\n",
      "\t\tSI att.:\t80.6\\80.5 dB\t(20.0 dB from baseline)\n",
      "\t\tTx error:\t-18.5\\-18.5 dB\n",
      "\t\tRx error:\t-18.5\\-18.5 dB\n",
      "\tMax sol. error 2.96E-03\n",
      "SI-ATT. 81.6 dB\n",
      "Solutions SDR\\Rank-1:\n",
      "\t\tSI att.:\t81.5\\81.5 dB\t(21.0 dB from baseline)\n",
      "\t\tTx error:\t-18.0\\-18.0 dB\n",
      "\t\tRx error:\t-18.0\\-18.0 dB\n",
      "\tMax sol. error 2.97E-03\n",
      "SI-ATT. 82.6 dB\n",
      "Solutions SDR\\Rank-1:\n",
      "\t\tSI att.:\t82.5\\82.5 dB\t(22.0 dB from baseline)\n",
      "\t\tTx error:\t-17.4\\-17.4 dB\n",
      "\t\tRx error:\t-17.4\\-17.4 dB\n",
      "\tMax sol. error 2.74E-03\n",
      "SI-ATT. 83.6 dB\n",
      "Solutions SDR\\Rank-1:\n",
      "\t\tSI att.:\t83.6\\83.5 dB\t(23.0 dB from baseline)\n",
      "\t\tTx error:\t-16.9\\-16.9 dB\n",
      "\t\tRx error:\t-16.9\\-16.9 dB\n",
      "\tMax sol. error 3.13E-03\n",
      "SI-ATT. 84.6 dB\n",
      "Solutions SDR\\Rank-1:\n",
      "\t\tSI att.:\t84.5\\84.5 dB\t(24.0 dB from baseline)\n",
      "\t\tTx error:\t-16.4\\-16.4 dB\n",
      "\t\tRx error:\t-16.4\\-16.4 dB\n",
      "\tMax sol. error 1.72E-03\n",
      "SI-ATT. 85.6 dB\n",
      "Solutions SDR\\Rank-1:\n",
      "\t\tSI att.:\t85.5\\85.5 dB\t(25.0 dB from baseline)\n",
      "\t\tTx error:\t-15.9\\-15.9 dB\n",
      "\t\tRx error:\t-15.9\\-15.9 dB\n",
      "\tMax sol. error 2.34E-03\n",
      "SI-ATT. 86.6 dB\n",
      "Solutions SDR\\Rank-1:\n",
      "\t\tSI att.:\t86.5\\86.5 dB\t(25.9 dB from baseline)\n",
      "\t\tTx error:\t-15.4\\-15.4 dB\n",
      "\t\tRx error:\t-15.4\\-15.4 dB\n",
      "\tMax sol. error 3.12E-03\n",
      "SI-ATT. 87.6 dB\n",
      "Solutions SDR\\Rank-1:\n",
      "\t\tSI att.:\t87.5\\87.5 dB\t(26.9 dB from baseline)\n",
      "\t\tTx error:\t-15.0\\-15.0 dB\n",
      "\t\tRx error:\t-15.0\\-15.0 dB\n",
      "\tMax sol. error 3.32E-03\n",
      "SI-ATT. 88.6 dB\n",
      "Solutions SDR\\Rank-1:\n",
      "\t\tSI att.:\t88.5\\88.5 dB\t(27.9 dB from baseline)\n",
      "\t\tTx error:\t-14.5\\-14.5 dB\n",
      "\t\tRx error:\t-14.5\\-14.5 dB\n",
      "\tMax sol. error 2.91E-03\n",
      "SI-ATT. 89.6 dB\n",
      "Solutions SDR\\Rank-1:\n",
      "\t\tSI att.:\t89.5\\89.5 dB\t(28.9 dB from baseline)\n",
      "\t\tTx error:\t-14.1\\-14.1 dB\n",
      "\t\tRx error:\t-14.1\\-14.1 dB\n",
      "\tMax sol. error 3.36E-03\n",
      "SI-ATT. 90.6 dB\n",
      "Solutions SDR\\Rank-1:\n",
      "\t\tSI att.:\t90.5\\90.5 dB\t(29.9 dB from baseline)\n",
      "\t\tTx error:\t-13.7\\-13.7 dB\n",
      "\t\tRx error:\t-13.7\\-13.7 dB\n",
      "\tMax sol. error 3.16E-03\n",
      "SI-ATT. 91.6 dB\n",
      "Solutions SDR\\Rank-1:\n",
      "\t\tSI att.:\t91.5\\91.4 dB\t(30.9 dB from baseline)\n",
      "\t\tTx error:\t-13.4\\-13.4 dB\n",
      "\t\tRx error:\t-13.4\\-13.4 dB\n",
      "\tMax sol. error 3.45E-03\n",
      "SI-ATT. 92.6 dB\n",
      "Solutions SDR\\Rank-1:\n",
      "\t\tSI att.:\t92.5\\92.4 dB\t(31.9 dB from baseline)\n",
      "\t\tTx error:\t-13.0\\-13.0 dB\n",
      "\t\tRx error:\t-13.0\\-13.0 dB\n",
      "\tMax sol. error 3.22E-03\n",
      "SI-ATT. 93.6 dB\n",
      "Solutions SDR\\Rank-1:\n",
      "\t\tSI att.:\t93.5\\93.5 dB\t(33.0 dB from baseline)\n",
      "\t\tTx error:\t-12.7\\-12.7 dB\n",
      "\t\tRx error:\t-12.7\\-12.7 dB\n",
      "\tMax sol. error 3.69E-02\n",
      "SI-ATT. 94.6 dB\n",
      "Solutions SDR\\Rank-1:\n",
      "\t\tSI att.:\t94.5\\94.5 dB\t(33.9 dB from baseline)\n",
      "\t\tTx error:\t-12.4\\-12.4 dB\n",
      "\t\tRx error:\t-12.4\\-12.4 dB\n",
      "\tMax sol. error 6.93E-02\n",
      "SI-ATT. 95.6 dB\n",
      "Solutions SDR\\Rank-1:\n",
      "\t\tSI att.:\t95.5\\95.5 dB\t(34.9 dB from baseline)\n",
      "\t\tTx error:\t-12.1\\-12.1 dB\n",
      "\t\tRx error:\t-12.1\\-12.1 dB\n",
      "\tMax sol. error 3.21E-03\n",
      "SI-ATT. 96.6 dB\n",
      "Solutions SDR\\Rank-1:\n",
      "\t\tSI att.:\t96.5\\96.5 dB\t(35.9 dB from baseline)\n",
      "\t\tTx error:\t-11.8\\-11.8 dB\n",
      "\t\tRx error:\t-11.8\\-11.8 dB\n",
      "\tMax sol. error 2.95E-03\n",
      "SI-ATT. 97.6 dB\n",
      "Solutions SDR\\Rank-1:\n",
      "\t\tSI att.:\t97.5\\97.5 dB\t(36.9 dB from baseline)\n",
      "\t\tTx error:\t-11.6\\-11.6 dB\n",
      "\t\tRx error:\t-11.6\\-11.6 dB\n",
      "\tMax sol. error 3.00E-03\n",
      "SI-ATT. 98.6 dB\n",
      "Solutions SDR\\Rank-1:\n",
      "\t\tSI att.:\t98.5\\98.5 dB\t(37.9 dB from baseline)\n",
      "\t\tTx error:\t-11.3\\-11.3 dB\n",
      "\t\tRx error:\t-11.3\\-11.3 dB\n",
      "\tMax sol. error 3.31E-03\n",
      "SI-ATT. 99.6 dB\n",
      "Solutions SDR\\Rank-1:\n",
      "\t\tSI att.:\t99.5\\99.5 dB\t(38.9 dB from baseline)\n",
      "\t\tTx error:\t-11.1\\-11.1 dB\n",
      "\t\tRx error:\t-11.1\\-11.1 dB\n",
      "\tMax sol. error 3.33E-03\n",
      "SI-ATT. 100.6 dB\n",
      "Solutions SDR\\Rank-1:\n",
      "\t\tSI att.:\t100.5\\100.5 dB\t(39.9 dB from baseline)\n",
      "\t\tTx error:\t-10.8\\-10.8 dB\n",
      "\t\tRx error:\t-10.8\\-10.8 dB\n",
      "\tMax sol. error 3.67E-03\n",
      "SI-ATT. 101.6 dB\n",
      "Solutions SDR\\Rank-1:\n",
      "\t\tSI att.:\t101.5\\101.5 dB\t(41.0 dB from baseline)\n",
      "\t\tTx error:\t-10.6\\-10.6 dB\n",
      "\t\tRx error:\t-10.6\\-10.6 dB\n",
      "\tMax sol. error 3.14E-03\n",
      "SI-ATT. 102.6 dB\n",
      "Solutions SDR\\Rank-1:\n",
      "\t\tSI att.:\t102.5\\102.5 dB\t(42.0 dB from baseline)\n",
      "\t\tTx error:\t-10.3\\-10.3 dB\n",
      "\t\tRx error:\t-10.3\\-10.3 dB\n",
      "\tMax sol. error 3.31E-03\n",
      "SI-ATT. 103.6 dB\n",
      "Solutions SDR\\Rank-1:\n",
      "\t\tSI att.:\t103.5\\103.5 dB\t(43.0 dB from baseline)\n",
      "\t\tTx error:\t-10.1\\-10.1 dB\n",
      "\t\tRx error:\t-10.1\\-10.1 dB\n",
      "\tMax sol. error 3.24E-03\n",
      "SI-ATT. 104.6 dB\n",
      "Solutions SDR\\Rank-1:\n",
      "\t\tSI att.:\t104.5\\104.5 dB\t(44.0 dB from baseline)\n",
      "\t\tTx error:\t-9.8\\-9.8 dB\n",
      "\t\tRx error:\t-9.8\\-9.8 dB\n",
      "\tMax sol. error 3.22E-03\n",
      "SI-ATT. 105.6 dB\n",
      "Solutions SDR\\Rank-1:\n",
      "\t\tSI att.:\t105.5\\105.5 dB\t(44.9 dB from baseline)\n",
      "\t\tTx error:\t-9.6\\-9.6 dB\n",
      "\t\tRx error:\t-9.6\\-9.6 dB\n",
      "\tMax sol. error 3.36E-03\n",
      "SI-ATT. 106.6 dB\n",
      "Solutions SDR\\Rank-1:\n",
      "\t\tSI att.:\t106.6\\106.6 dB\t(46.0 dB from baseline)\n",
      "\t\tTx error:\t-9.3\\-9.3 dB\n",
      "\t\tRx error:\t-9.3\\-9.3 dB\n",
      "\tMax sol. error 3.11E-03\n",
      "SI-ATT. 107.6 dB\n",
      "Solutions SDR\\Rank-1:\n",
      "\t\tSI att.:\t107.5\\107.5 dB\t(47.0 dB from baseline)\n",
      "\t\tTx error:\t-9.1\\-9.1 dB\n",
      "\t\tRx error:\t-9.1\\-9.1 dB\n",
      "\tMax sol. error 3.09E-03\n",
      "SI-ATT. 108.6 dB\n",
      "Solutions SDR\\Rank-1:\n",
      "\t\tSI att.:\t108.5\\108.6 dB\t(48.0 dB from baseline)\n",
      "\t\tTx error:\t-8.8\\-8.8 dB\n",
      "\t\tRx error:\t-8.8\\-8.8 dB\n",
      "\tMax sol. error 3.28E-03\n",
      "SI-ATT. 109.6 dB\n",
      "Solutions SDR\\Rank-1:\n",
      "\t\tSI att.:\t109.5\\109.5 dB\t(48.9 dB from baseline)\n",
      "\t\tTx error:\t-8.6\\-8.6 dB\n",
      "\t\tRx error:\t-8.6\\-8.6 dB\n",
      "\tMax sol. error 3.32E-03\n",
      "SI-ATT. 110.6 dB\n",
      "Solutions SDR\\Rank-1:\n",
      "\t\tSI att.:\t110.5\\110.5 dB\t(50.0 dB from baseline)\n",
      "\t\tTx error:\t-8.4\\-8.4 dB\n",
      "\t\tRx error:\t-8.4\\-8.4 dB\n",
      "\tMax sol. error 3.27E-03\n",
      "SI-ATT. 111.6 dB\n",
      "Solutions SDR\\Rank-1:\n",
      "\t\tSI att.:\t111.5\\111.6 dB\t(51.0 dB from baseline)\n",
      "\t\tTx error:\t-8.2\\-8.2 dB\n",
      "\t\tRx error:\t-8.2\\-8.2 dB\n",
      "\tMax sol. error 3.25E-03\n",
      "SI-ATT. 112.6 dB\n",
      "Solutions SDR\\Rank-1:\n",
      "\t\tSI att.:\t112.5\\112.5 dB\t(52.0 dB from baseline)\n",
      "\t\tTx error:\t-7.9\\-7.9 dB\n",
      "\t\tRx error:\t-7.9\\-7.9 dB\n",
      "\tMax sol. error 3.19E-03\n",
      "SI-ATT. 113.6 dB\n",
      "Solutions SDR\\Rank-1:\n",
      "\t\tSI att.:\t113.5\\113.5 dB\t(53.0 dB from baseline)\n",
      "\t\tTx error:\t-7.7\\-7.7 dB\n",
      "\t\tRx error:\t-7.7\\-7.7 dB\n",
      "\tMax sol. error 3.25E-03\n",
      "SI-ATT. 114.6 dB\n",
      "Solutions SDR\\Rank-1:\n",
      "\t\tSI att.:\t114.5\\114.6 dB\t(54.0 dB from baseline)\n",
      "\t\tTx error:\t-7.5\\-7.5 dB\n",
      "\t\tRx error:\t-7.5\\-7.5 dB\n",
      "\tMax sol. error 3.03E-03\n",
      "SI-ATT. 115.6 dB\n",
      "Solutions SDR\\Rank-1:\n",
      "\t\tSI att.:\t115.5\\115.5 dB\t(55.0 dB from baseline)\n",
      "\t\tTx error:\t-7.2\\-7.2 dB\n",
      "\t\tRx error:\t-7.2\\-7.2 dB\n",
      "\tMax sol. error 3.31E-03\n",
      "SI-ATT. 116.6 dB\n",
      "Solutions SDR\\Rank-1:\n",
      "\t\tSI att.:\t116.6\\116.6 dB\t(56.0 dB from baseline)\n",
      "\t\tTx error:\t-7.0\\-7.0 dB\n",
      "\t\tRx error:\t-7.0\\-7.0 dB\n",
      "\tMax sol. error 3.26E-03\n",
      "SI-ATT. 117.6 dB\n",
      "Solutions SDR\\Rank-1:\n",
      "\t\tSI att.:\t117.6\\117.6 dB\t(57.0 dB from baseline)\n",
      "\t\tTx error:\t-6.7\\-6.7 dB\n",
      "\t\tRx error:\t-6.7\\-6.7 dB\n",
      "\tMax sol. error 3.14E-03\n",
      "SI-ATT. 118.6 dB\n",
      "Solutions SDR\\Rank-1:\n",
      "\t\tSI att.:\t118.5\\118.5 dB\t(58.0 dB from baseline)\n",
      "\t\tTx error:\t-6.4\\-6.4 dB\n",
      "\t\tRx error:\t-6.4\\-6.4 dB\n",
      "\tMax sol. error 3.22E-03\n",
      "SI-ATT. 119.6 dB\n",
      "Solutions SDR\\Rank-1:\n",
      "\t\tSI att.:\t119.6\\119.6 dB\t(59.0 dB from baseline)\n",
      "\t\tTx error:\t-6.1\\-6.2 dB\n",
      "\t\tRx error:\t-6.1\\-6.2 dB\n",
      "\tMax sol. error 1.41E-01\n",
      "SI-ATT. 120.6 dB\n",
      "Solutions SDR\\Rank-1:\n",
      "\t\tSI att.:\t120.6\\120.6 dB\t(60.0 dB from baseline)\n",
      "\t\tTx error:\t-5.8\\-5.9 dB\n",
      "\t\tRx error:\t-5.8\\-5.9 dB\n",
      "\tMax sol. error 2.55E-01\n",
      "SI-ATT. 121.6 dB\n",
      "Solutions SDR\\Rank-1:\n",
      "\t\tSI att.:\t121.6\\121.6 dB\t(61.0 dB from baseline)\n",
      "\t\tTx error:\t-5.4\\-5.5 dB\n",
      "\t\tRx error:\t-5.4\\-5.5 dB\n",
      "\tMax sol. error 2.39E-01\n",
      "SI-ATT. 122.6 dB\n",
      "Solutions SDR\\Rank-1:\n",
      "\t\tSI att.:\t122.6\\122.6 dB\t(62.0 dB from baseline)\n",
      "\t\tTx error:\t-5.0\\-5.0 dB\n",
      "\t\tRx error:\t-5.0\\-5.0 dB\n",
      "\tMax sol. error 1.58E-01\n",
      "SI-ATT. 123.6 dB\n",
      "Solutions SDR\\Rank-1:\n",
      "\t\tSI att.:\t123.6\\123.6 dB\t(63.0 dB from baseline)\n",
      "\t\tTx error:\t-4.4\\-4.5 dB\n",
      "\t\tRx error:\t-4.4\\-4.5 dB\n",
      "\tMax sol. error 1.65E-01\n",
      "SI-ATT. 124.6 dB\n",
      "Solutions SDR\\Rank-1:\n",
      "\t\tSI att.:\t124.6\\124.6 dB\t(64.0 dB from baseline)\n",
      "\t\tTx error:\t-3.7\\-4.0 dB\n",
      "\t\tRx error:\t-3.7\\-4.0 dB\n",
      "\tMax sol. error 2.35E-01\n",
      "SI-ATT. 125.6 dB\n",
      "Solutions SDR\\Rank-1:\n",
      "\t\tSI att.:\t125.6\\125.6 dB\t(65.0 dB from baseline)\n",
      "\t\tTx error:\t-3.1\\-3.4 dB\n",
      "\t\tRx error:\t-3.1\\-3.4 dB\n",
      "\tMax sol. error 2.87E-01\n",
      "SI-ATT. 126.6 dB\n",
      "Solutions SDR\\Rank-1:\n",
      "\t\tSI att.:\t126.6\\126.6 dB\t(66.0 dB from baseline)\n",
      "\t\tTx error:\t-2.4\\-2.6 dB\n",
      "\t\tRx error:\t-2.4\\-2.6 dB\n",
      "\tMax sol. error 3.18E-01\n",
      "SI-ATT. 127.6 dB\n",
      "Solutions SDR\\Rank-1:\n",
      "\t\tSI att.:\t127.6\\127.6 dB\t(67.0 dB from baseline)\n",
      "\t\tTx error:\t-1.8\\-1.6 dB\n",
      "\t\tRx error:\t-1.8\\-1.6 dB\n",
      "\tMax sol. error 3.37E-01\n",
      "SI-ATT. 128.6 dB\n",
      "Solutions SDR\\Rank-1:\n",
      "\t\tSI att.:\t128.6\\128.6 dB\t(68.0 dB from baseline)\n",
      "\t\tTx error:\t-1.1\\-0.5 dB\n",
      "\t\tRx error:\t-1.1\\-0.5 dB\n",
      "\tMax sol. error 3.34E-01\n",
      "SI-ATT. 129.6 dB\n"
     ]
    }
   ],
   "source": [
    "pbuf.print()"
   ]
  },
  {
   "cell_type": "markdown",
   "id": "48542c25-d288-4668-bbeb-c092ad3666da",
   "metadata": {},
   "source": [
    "## Saving results"
   ]
  },
  {
   "cell_type": "code",
   "execution_count": 15,
   "id": "e334a3f3-ef2c-4aee-8ff0-4d236b4084bf",
   "metadata": {
    "ExecuteTime": {
     "end_time": "2024-09-19T15:20:25.805699Z",
     "start_time": "2024-09-19T15:20:25.784122Z"
    }
   },
   "outputs": [
    {
     "name": "stdout",
     "output_type": "stream",
     "text": [
      "Results saved under /mnt/project/results/sdp_cb_results_phased_1tap_si.csv\n",
      "Results saved under /mnt/project/results/sdp_beam_results_1tap.json\n"
     ]
    }
   ],
   "source": [
    "res_file = res_path/f\"sdp_cb_results_phased_{si_num_taps}tap_si.csv\"\n",
    "res_df = pd.DataFrame(results)\n",
    "res_df.to_csv(res_file)\n",
    "print(f\"Results saved under {res_file}\")\n",
    "json_fname = res_path/f\"sdp_beam_results_{si_num_taps}tap.json\"\n",
    "with open(json_fname, 'w', encoding ='utf8') as json_file:\n",
    "    json.dump(beam_results, json_file)\n",
    "print(f\"Results saved under {json_fname}\")"
   ]
  },
  {
   "cell_type": "code",
   "execution_count": 16,
   "id": "e95dd17b-e77b-477a-8ab1-987283aade15",
   "metadata": {
    "ExecuteTime": {
     "end_time": "2024-09-19T15:20:26.807136Z",
     "start_time": "2024-09-19T15:20:26.797029Z"
    },
    "tags": []
   },
   "outputs": [
    {
     "name": "stdout",
     "output_type": "stream",
     "text": [
      "sdp_ph_1_27tx_codebooks.npz was saved at /mnt/project/results.\n"
     ]
    }
   ],
   "source": [
    "method = f\"sdp_ph_{si_num_taps}_{L_t}tx\"\n",
    "\n",
    "att_values = [-np.inf]\n",
    "att_achieved = [-si_db_ref]\n",
    "tx_codebooks = [dft_tx_codebook]\n",
    "rx_codebooks = [dft_rx_codebook]\n",
    "for cb in codebooks:\n",
    "    att_values.append(cb[\"att_tgt\"])\n",
    "    att_achieved.append(cb[\"att_opt\"])\n",
    "    tx_codebooks.append(cb[\"tx_codebook_p\"])\n",
    "    rx_codebooks.append(cb[\"rx_codebook_p\"])\n",
    "\n",
    "att_values = np.array(att_values) \n",
    "tx_codebooks = np.stack(tx_codebooks, axis=0)\n",
    "rx_codebooks = np.stack(rx_codebooks, axis=0)\n",
    "tx_dev = np.array([-np.inf] + [r[\"tx_loss\"] for r in results]).astype(float)\n",
    "rx_dev = np.array([-np.inf] + [r[\"rx_loss\"] for r in results]).astype(float)\n",
    "\n",
    "metadata = np.array({\"method\": method, \"phased\": phased_array, \"si_num_taps\": si_num_taps,\n",
    "                     \"norm\": \"max\"})\n",
    "fname = f\"{method}_codebooks.npz\"\n",
    "np.savez(res_path/fname, att_tgt=att_values,\n",
    "         att_opt=att_achieved, tx_dev=tx_dev, rx_dev=rx_dev,\n",
    "         rx_degrees=rx_degs, tx_degrees=tx_degs,\n",
    "         rx=rx_codebooks, tx=tx_codebooks,\n",
    "         metadata=metadata)\n",
    "print(f\"{fname} was saved at {res_path}.\")"
   ]
  },
  {
   "cell_type": "markdown",
   "id": "2af3c39a-33e3-4349-bb00-2b2742063a32",
   "metadata": {},
   "source": [
    "## Plot"
   ]
  },
  {
   "cell_type": "code",
   "execution_count": 22,
   "id": "6da05402-2108-40b4-b39e-3bf2080cc3f7",
   "metadata": {
    "ExecuteTime": {
     "end_time": "2024-09-19T15:22:16.697691Z",
     "start_time": "2024-09-19T15:22:16.695009Z"
    }
   },
   "outputs": [],
   "source": [
    "with np.load(res_path/\"sdp_ph_full_27tx_codebooks.npz\") as cb_data:\n",
    "    att_achieved = cb_data[\"att_opt\"]\n",
    "    att_values = cb_data[\"att_tgt\"]\n",
    "    tx_codebooks = cb_data[\"tx\"]\n",
    "    L_t = tx_codebooks.shape[-1]\n",
    "    rx_codebooks = cb_data[\"rx\"]\n",
    "    L_r = rx_codebooks.shape[-1]\n",
    "\n",
    "    tx_dev = cb_data[\"tx_dev\"]\n",
    "    rx_dev = cb_data[\"rx_dev\"]\n",
    "\n",
    "    tx_degs = cb_data[\"tx_degrees\"]\n",
    "    rx_degs = cb_data[\"rx_degrees\"]\n",
    "    beam_degs = tx_degs"
   ]
  },
  {
   "cell_type": "code",
   "execution_count": 23,
   "id": "f5d69038-a286-45b0-b377-d51ae58f89a9",
   "metadata": {
    "ExecuteTime": {
     "end_time": "2024-09-19T15:22:16.697691Z",
     "start_time": "2024-09-19T15:22:16.695009Z"
    }
   },
   "outputs": [],
   "source": [
    "plot_att = 100\n",
    "att_index = np.argmin(np.abs(np.array(att_values) - plot_att))\n",
    "att_db_val = att_values[att_index]\n",
    "tx_dev_val = tx_dev[att_index]\n",
    "opt_tx_codebook = tx_codebooks[att_index,]\n",
    "opt_rx_codebook = rx_codebooks[att_index,]"
   ]
  },
  {
   "cell_type": "code",
   "execution_count": 24,
   "id": "5f332143-72c7-4958-9fcc-fb8d3a8765d5",
   "metadata": {
    "ExecuteTime": {
     "end_time": "2024-09-19T15:22:28.072633Z",
     "start_time": "2024-09-19T15:22:21.726046Z"
    }
   },
   "outputs": [],
   "source": [
    "antenna_pattern = Antenna(params.antenna_pattern, polarization=params.antenna_polarization).patterns\n",
    "rad_pattern = lambda x: sum(sum(np.abs(p)**2 for p in pat(np.pi/2, x)) for pat in antenna_pattern)"
   ]
  },
  {
   "cell_type": "code",
   "execution_count": 25,
   "id": "0dd225b4-1510-4d27-87f4-d9d30f98e9bf",
   "metadata": {
    "ExecuteTime": {
     "end_time": "2024-09-19T15:22:28.072633Z",
     "start_time": "2024-09-19T15:22:21.726046Z"
    }
   },
   "outputs": [
    {
     "data": {
      "text/plain": [
       "100.48768567077357"
      ]
     },
     "execution_count": 25,
     "metadata": {},
     "output_type": "execute_result"
    }
   ],
   "source": [
    "att_db_val"
   ]
  },
  {
   "cell_type": "code",
   "execution_count": 26,
   "id": "88d975308199fdbe",
   "metadata": {},
   "outputs": [
    {
     "data": {
      "image/png": "[encoded data removed]",
      "text/plain": [
       "<Figure size 525x397.5 with 1 Axes>"
      ]
     },
     "metadata": {},
     "output_type": "display_data"
    }
   ],
   "source": [
    "f, ax = plt.subplots(subplot_kw={'projection': 'polar'})\n",
    "\n",
    "thetas = np.deg2rad(np.arange(-75, 80, 15))\n",
    "offset, stride = 0, 2\n",
    "\n",
    "tx_kwargs = dict(transmit=True, element_pattern=rad_pattern, axis=ax, r_lim=(-5, 18), alpha=0.9, linewidth=0.7, theta_lim=(-5*np.pi/12, 5*np.pi/12))\n",
    "_ = plot_beamforming_polar(dft_tx_codebook[:, offset::stride], linestyle=\"--\", color_palette=\"husl\", **tx_kwargs, label=\"Reference\", zorder=20)\n",
    "_ = plot_beamforming_polar(opt_tx_codebook[:, offset::stride], color_palette=\"husl\", **tx_kwargs,\n",
    "                           label=\"Optimized\", zorder=10)\n",
    "\n",
    "ax.set_xticks(thetas)\n",
    "xticks = ax.get_xticklabels()\n",
    "_ = ax.set_xticklabels([tick if i % 2 == 1 else None for i, tick in enumerate(xticks)])\n",
    "\n",
    "handles, labels = ax.get_legend_handles_labels()\n",
    "ax.legend(handles[:1]+handles[L_t//stride+1:L_t//stride+2],\n",
    "          [\"Reference\", rf\"CISSIR ($\\varepsilon=-{att_db_val:.1f}$ dB)\"],\n",
    "          loc=\"upper center\", ncol=2, prop={'size': 10},\n",
    "          columnspacing=0.8, bbox_to_anchor=(0.5, 1.01))\n",
    "ax.set_xlabel(\"TX array gain [dBi]\")\n",
    "ax.xaxis.labelpad = -25\n",
    "\n",
    "f.savefig(plot_path/\"beams.pdf\", bbox_inches=\"tight\", pad_inches=0)\n",
    "f.savefig(plot_path/\"beams.pgf\", bbox_inches=\"tight\", pad_inches=0)\n"
   ]
  }
 ],
 "metadata": {
  "kernelspec": {
   "display_name": "Python 3 (ipykernel)",
   "language": "python",
   "name": "python3"
  },
  "language_info": {
   "codemirror_mode": {
    "name": "ipython",
    "version": 3
   },
   "file_extension": ".py",
   "mimetype": "text/x-python",
   "name": "python",
   "nbconvert_exporter": "python",
   "pygments_lexer": "ipython3",
   "version": "3.8.10"
  }
 },
 "nbformat": 4,
 "nbformat_minor": 5
}
